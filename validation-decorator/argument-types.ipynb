{
 "cells": [
  {
   "attachments": {},
   "cell_type": "markdown",
   "metadata": {},
   "source": [
    "#### Argument Types\n",
    "\n",
    "Argument types are inferred from type annotations on the function, arguments without a type decorator are considered as `Any`. Since `validate_arguments` internally uses a standard `BaseModel`, all types listed in `types` can be validated, including _pydantic_ models and `custom types`. As with the rest of _pydantic_, types can be coerced by the decorator before they're passed to the actual function."
   ]
  },
  {
   "cell_type": "code",
   "execution_count": 1,
   "metadata": {},
   "outputs": [],
   "source": [
    "import os\n",
    "from pathlib import Path\n",
    "from typing import Pattern, Optional\n",
    "from pydantic import validate_arguments, DirectoryPath"
   ]
  },
  {
   "cell_type": "code",
   "execution_count": 2,
   "metadata": {},
   "outputs": [],
   "source": [
    "@validate_arguments\n",
    "def find_file(path: DirectoryPath, regex: Pattern, max=None) -> Optional[Path]:\n",
    "    for i, f in enumerate(path.glob(\"**/*\")):\n",
    "        if max and i > max:\n",
    "            return\n",
    "        if f.is_file() and regex.fullmatch(str(f.relative_to(path))):\n",
    "            return f"
   ]
  },
  {
   "cell_type": "code",
   "execution_count": 3,
   "metadata": {},
   "outputs": [
    {
     "name": "stdout",
     "output_type": "stream",
     "text": [
      "validation-decorator-basics.ipynb\n",
      "None\n"
     ]
    }
   ],
   "source": [
    "this_dir = os.path.dirname(\"./argument-types.ipynb\")\n",
    "print(find_file(this_dir, \"^validation.*\"))\n",
    "print(find_file(this_dir, \"^foobar.*\", max=3))"
   ]
  },
  {
   "attachments": {},
   "cell_type": "markdown",
   "metadata": {},
   "source": [
    "A few notes:\n",
    "\n",
    "* though they're passed as strings, `path` and `regex` are converted to a `Path` object and regex respectively by the decorator\n",
    "\n",
    "* `max` has no type annotation, so will be considered as `Any` by the decorator\n",
    "\n",
    "Type coercion like this can be extremely helpful but also confusing or not desired."
   ]
  },
  {
   "cell_type": "code",
   "execution_count": null,
   "metadata": {},
   "outputs": [],
   "source": []
  }
 ],
 "metadata": {
  "kernelspec": {
   "display_name": "valid-env",
   "language": "python",
   "name": "python3"
  },
  "language_info": {
   "codemirror_mode": {
    "name": "ipython",
    "version": 3
   },
   "file_extension": ".py",
   "mimetype": "text/x-python",
   "name": "python",
   "nbconvert_exporter": "python",
   "pygments_lexer": "ipython3",
   "version": "3.9.6"
  },
  "orig_nbformat": 4,
  "vscode": {
   "interpreter": {
    "hash": "c2258dd348c4db92d1fc23d9ac751564e58ace9e4e1a4507d6c5b14149e13659"
   }
  }
 },
 "nbformat": 4,
 "nbformat_minor": 2
}
