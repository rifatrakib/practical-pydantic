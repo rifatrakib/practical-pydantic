{
 "cells": [
  {
   "attachments": {},
   "cell_type": "markdown",
   "metadata": {},
   "source": [
    "#### Function Signatures\n",
    "\n",
    "The decorator is designed to work with functions using all possible parameter configurations and all possible combinations of these:\n",
    "\n",
    "* positional or keyword arguments with or without defaults\n",
    "\n",
    "* variable positional arguments defined via `*` (often `*args`)\n",
    "\n",
    "* variable keyword arguments defined via `**` (often `**kwargs`)\n",
    "\n",
    "* keyword only arguments - arguments after `*,`\n",
    "\n",
    "* positional only arguments - arguments before `, /` (new in Python 3.8)"
   ]
  },
  {
   "cell_type": "code",
   "execution_count": 1,
   "metadata": {},
   "outputs": [],
   "source": [
    "from pydantic import validate_arguments"
   ]
  },
  {
   "cell_type": "code",
   "execution_count": 2,
   "metadata": {},
   "outputs": [],
   "source": [
    "@validate_arguments\n",
    "def pos_or_kw(a: int, b: int = 2) -> str:\n",
    "    return f\"a={a} b={b}\""
   ]
  },
  {
   "cell_type": "code",
   "execution_count": 3,
   "metadata": {},
   "outputs": [
    {
     "name": "stdout",
     "output_type": "stream",
     "text": [
      "pos_or_kw(1) = 'a=1 b=2'\n",
      "pos_or_kw(a=1) = 'a=1 b=2'\n",
      "pos_or_kw(1, 3) = 'a=1 b=3'\n",
      "pos_or_kw(a=1, b=3) = 'a=1 b=3'\n"
     ]
    }
   ],
   "source": [
    "print(f\"{pos_or_kw(1) = }\")\n",
    "print(f\"{pos_or_kw(a=1) = }\")\n",
    "print(f\"{pos_or_kw(1, 3) = }\")\n",
    "print(f\"{pos_or_kw(a=1, b=3) = }\")"
   ]
  },
  {
   "cell_type": "code",
   "execution_count": 4,
   "metadata": {},
   "outputs": [],
   "source": [
    "@validate_arguments\n",
    "def kw_only(*, a: int, b: int = 2) -> str:\n",
    "    return f\"a={a} b={b}\""
   ]
  },
  {
   "cell_type": "code",
   "execution_count": 5,
   "metadata": {},
   "outputs": [
    {
     "name": "stdout",
     "output_type": "stream",
     "text": [
      "kw_only(a=1) = 'a=1 b=2'\n",
      "kw_only(a=1, b=3) = 'a=1 b=3'\n"
     ]
    }
   ],
   "source": [
    "print(f\"{kw_only(a=1) = }\")\n",
    "print(f\"{kw_only(a=1, b=3) = }\")"
   ]
  },
  {
   "cell_type": "code",
   "execution_count": 6,
   "metadata": {},
   "outputs": [],
   "source": [
    "@validate_arguments\n",
    "def pos_only(a: int, b: int = 2, /) -> str:\n",
    "    return f\"a={a} b={b}\""
   ]
  },
  {
   "cell_type": "code",
   "execution_count": 7,
   "metadata": {},
   "outputs": [
    {
     "name": "stdout",
     "output_type": "stream",
     "text": [
      "pos_only(1) = 'a=1 b=2'\n",
      "pos_only(1, 2) = 'a=1 b=2'\n"
     ]
    }
   ],
   "source": [
    "print(f\"{pos_only(1) = }\")\n",
    "print(f\"{pos_only(1, 2) = }\")"
   ]
  },
  {
   "cell_type": "code",
   "execution_count": 8,
   "metadata": {},
   "outputs": [],
   "source": [
    "@validate_arguments\n",
    "def var_args(*args: int) -> str:\n",
    "    return str(args)"
   ]
  },
  {
   "cell_type": "code",
   "execution_count": 9,
   "metadata": {},
   "outputs": [
    {
     "name": "stdout",
     "output_type": "stream",
     "text": [
      "var_args(1) = '(1,)'\n",
      "var_args(1, 2) = '(1, 2)'\n",
      "var_args(1, 2, 3) = '(1, 2, 3)'\n"
     ]
    }
   ],
   "source": [
    "print(f\"{var_args(1) = }\")\n",
    "print(f\"{var_args(1, 2) = }\")\n",
    "print(f\"{var_args(1, 2, 3) = }\")"
   ]
  },
  {
   "cell_type": "code",
   "execution_count": 10,
   "metadata": {},
   "outputs": [],
   "source": [
    "@validate_arguments\n",
    "def var_kwargs(**kwargs: int) -> str:\n",
    "    return str(kwargs)"
   ]
  },
  {
   "cell_type": "code",
   "execution_count": 11,
   "metadata": {},
   "outputs": [
    {
     "name": "stdout",
     "output_type": "stream",
     "text": [
      "var_kwargs(a=1) = \"{'a': 1}\"\n",
      "var_kwargs(a=1, b=2) = \"{'a': 1, 'b': 2}\"\n"
     ]
    }
   ],
   "source": [
    "print(f\"{var_kwargs(a=1) = }\")\n",
    "print(f\"{var_kwargs(a=1, b=2) = }\")"
   ]
  },
  {
   "cell_type": "code",
   "execution_count": 12,
   "metadata": {},
   "outputs": [],
   "source": [
    "@validate_arguments\n",
    "def armageddon(\n",
    "    a: int,\n",
    "    /,  # python 3.8 only\n",
    "    b: int,\n",
    "    c: int = None,\n",
    "    *d: int,\n",
    "    e: int,\n",
    "    f: int = None,\n",
    "    **g: int,\n",
    ") -> str:\n",
    "    return f\"a={a} b={b} c={c} d={d} e={e} f={f} g={g}\""
   ]
  },
  {
   "cell_type": "code",
   "execution_count": 13,
   "metadata": {},
   "outputs": [
    {
     "name": "stdout",
     "output_type": "stream",
     "text": [
      "armageddon(1, 2, e=3) = 'a=1 b=2 c=None d=() e=3 f=None g={}'\n",
      "armageddon(1, 2, 3, 4, 5, 6, e=8, f=9, g=10, spam=11) = \"a=1 b=2 c=3 d=(4, 5, 6) e=8 f=9 g={'g': 10, 'spam': 11}\"\n"
     ]
    }
   ],
   "source": [
    "print(f\"{armageddon(1, 2, e=3) = }\")\n",
    "print(f\"{armageddon(1, 2, 3, 4, 5, 6, e=8, f=9, g=10, spam=11) = }\")"
   ]
  },
  {
   "cell_type": "code",
   "execution_count": null,
   "metadata": {},
   "outputs": [],
   "source": []
  }
 ],
 "metadata": {
  "kernelspec": {
   "display_name": "valid-env",
   "language": "python",
   "name": "python3"
  },
  "language_info": {
   "codemirror_mode": {
    "name": "ipython",
    "version": 3
   },
   "file_extension": ".py",
   "mimetype": "text/x-python",
   "name": "python",
   "nbconvert_exporter": "python",
   "pygments_lexer": "ipython3",
   "version": "3.9.6"
  },
  "orig_nbformat": 4,
  "vscode": {
   "interpreter": {
    "hash": "c2258dd348c4db92d1fc23d9ac751564e58ace9e4e1a4507d6c5b14149e13659"
   }
  }
 },
 "nbformat": 4,
 "nbformat_minor": 2
}
