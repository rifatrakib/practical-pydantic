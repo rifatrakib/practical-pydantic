{
 "cells": [
  {
   "attachments": {},
   "cell_type": "markdown",
   "metadata": {},
   "source": [
    "#### Custom Config\n",
    "\n",
    "The model behind `validate_arguments` can be customised using a config setting which is equivalent to setting the `Config` sub-class in normal models.\n",
    "\n",
    "> The `fields` and `alias_generator` properties of `Config` which allow aliases to be configured are not supported yet with `@validate_arguments`, using them will raise an error.\n",
    "\n",
    "Configuration is set using the `config` keyword argument to the decorator, it may be either a config class or a dict of properties which are converted to a class later."
   ]
  },
  {
   "cell_type": "code",
   "execution_count": 1,
   "metadata": {},
   "outputs": [],
   "source": [
    "from pydantic import ValidationError, validate_arguments"
   ]
  },
  {
   "cell_type": "code",
   "execution_count": 2,
   "metadata": {},
   "outputs": [],
   "source": [
    "class Foobar:\n",
    "    def __init__(self, v: str):\n",
    "        self.v = v\n",
    "\n",
    "    def __add__(self, other: \"Foobar\") -> str:\n",
    "        return f\"{self} + {other}\"\n",
    "\n",
    "    def __str__(self) -> str:\n",
    "        return f\"Foobar({self.v})\""
   ]
  },
  {
   "cell_type": "code",
   "execution_count": 3,
   "metadata": {},
   "outputs": [],
   "source": [
    "@validate_arguments(config=dict(arbitrary_types_allowed=True))\n",
    "def add_foobars(a: Foobar, b: Foobar):\n",
    "    return a + b"
   ]
  },
  {
   "cell_type": "code",
   "execution_count": 4,
   "metadata": {},
   "outputs": [
    {
     "name": "stdout",
     "output_type": "stream",
     "text": [
      "Foobar(a) + Foobar(b)\n"
     ]
    }
   ],
   "source": [
    "c = add_foobars(Foobar(\"a\"), Foobar(\"b\"))\n",
    "print(c)"
   ]
  },
  {
   "cell_type": "code",
   "execution_count": 5,
   "metadata": {},
   "outputs": [
    {
     "name": "stdout",
     "output_type": "stream",
     "text": [
      "2 validation errors for AddFoobars\n",
      "a\n",
      "  instance of Foobar expected (type=type_error.arbitrary_type; expected_arbitrary_type=Foobar)\n",
      "b\n",
      "  instance of Foobar expected (type=type_error.arbitrary_type; expected_arbitrary_type=Foobar)\n"
     ]
    }
   ],
   "source": [
    "try:\n",
    "    result = add_foobars(1, 2)\n",
    "except ValidationError as e:\n",
    "    print(e)"
   ]
  },
  {
   "cell_type": "code",
   "execution_count": null,
   "metadata": {},
   "outputs": [],
   "source": []
  }
 ],
 "metadata": {
  "kernelspec": {
   "display_name": "valid-env",
   "language": "python",
   "name": "python3"
  },
  "language_info": {
   "codemirror_mode": {
    "name": "ipython",
    "version": 3
   },
   "file_extension": ".py",
   "mimetype": "text/x-python",
   "name": "python",
   "nbconvert_exporter": "python",
   "pygments_lexer": "ipython3",
   "version": "3.9.6"
  },
  "orig_nbformat": 4,
  "vscode": {
   "interpreter": {
    "hash": "c2258dd348c4db92d1fc23d9ac751564e58ace9e4e1a4507d6c5b14149e13659"
   }
  }
 },
 "nbformat": 4,
 "nbformat_minor": 2
}
