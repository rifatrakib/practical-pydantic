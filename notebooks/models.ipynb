{
 "cells": [
  {
   "cell_type": "code",
   "execution_count": 21,
   "metadata": {},
   "outputs": [],
   "source": [
    "from typing import List, Dict, Optional\n",
    "from pydantic import BaseModel, Field, constr\n",
    "from sqlalchemy import Column, Integer, String, JSON\n",
    "from sqlalchemy.dialects.postgresql import ARRAY\n",
    "from sqlalchemy.ext.declarative import declarative_base"
   ]
  },
  {
   "cell_type": "code",
   "execution_count": 2,
   "metadata": {},
   "outputs": [],
   "source": [
    "class User(BaseModel):\n",
    "    id: int\n",
    "    name = \"Jane Doe\""
   ]
  },
  {
   "cell_type": "code",
   "execution_count": 3,
   "metadata": {},
   "outputs": [],
   "source": [
    "user = User(id='123')\n",
    "user_x = User(id=123.45)"
   ]
  },
  {
   "cell_type": "code",
   "execution_count": 4,
   "metadata": {},
   "outputs": [],
   "source": [
    "assert user.id == 123\n",
    "assert user_x.id == 123\n",
    "assert isinstance(user_x.id, int)"
   ]
  },
  {
   "cell_type": "code",
   "execution_count": 5,
   "metadata": {},
   "outputs": [],
   "source": [
    "assert user.name == \"Jane Doe\""
   ]
  },
  {
   "cell_type": "code",
   "execution_count": 6,
   "metadata": {},
   "outputs": [],
   "source": [
    "assert user.__fields_set__ == {\"id\"}"
   ]
  },
  {
   "cell_type": "code",
   "execution_count": 7,
   "metadata": {},
   "outputs": [],
   "source": [
    "assert user.dict() == dict(user) == {\"id\": 123, \"name\": \"Jane Doe\"}"
   ]
  },
  {
   "cell_type": "code",
   "execution_count": 8,
   "metadata": {},
   "outputs": [],
   "source": [
    "user.id = 321\n",
    "assert user.id == 321"
   ]
  },
  {
   "cell_type": "code",
   "execution_count": 9,
   "metadata": {},
   "outputs": [],
   "source": [
    "class Foo(BaseModel):\n",
    "    count: int\n",
    "    size: Optional[float] = None"
   ]
  },
  {
   "cell_type": "code",
   "execution_count": 10,
   "metadata": {},
   "outputs": [],
   "source": [
    "class Bar(BaseModel):\n",
    "    apple = \"x\"\n",
    "    banana = \"y\""
   ]
  },
  {
   "cell_type": "code",
   "execution_count": 11,
   "metadata": {},
   "outputs": [],
   "source": [
    "class Spam(BaseModel):\n",
    "    foo: Foo\n",
    "    bars: List[Bar]"
   ]
  },
  {
   "cell_type": "code",
   "execution_count": 12,
   "metadata": {},
   "outputs": [
    {
     "name": "stdout",
     "output_type": "stream",
     "text": [
      "m = Spam(foo=Foo(count=4, size=None), bars=[Bar(apple='x1', banana='y'), Bar(apple='x2', banana='y')])\n",
      "m.dict() = {'foo': {'count': 4, 'size': None}, 'bars': [{'apple': 'x1', 'banana': 'y'}, {'apple': 'x2', 'banana': 'y'}]}\n"
     ]
    }
   ],
   "source": [
    "m = Spam(foo={\"count\": 4}, bars=[{\"apple\": \"x1\"}, {\"apple\": \"x2\"}])\n",
    "print(f\"{m = }\")\n",
    "print(f\"{m.dict() = }\")"
   ]
  },
  {
   "cell_type": "code",
   "execution_count": 13,
   "metadata": {},
   "outputs": [],
   "source": [
    "Base = declarative_base()"
   ]
  },
  {
   "cell_type": "code",
   "execution_count": 14,
   "metadata": {},
   "outputs": [],
   "source": [
    "class CompanyOrm(Base):\n",
    "    __tablename__ = \"companies\"\n",
    "    \n",
    "    id = Column(Integer, primary_key=True, nullable=False)\n",
    "    public_key = Column(String(20), index=True, nullable=False, unique=True)\n",
    "    name = Column(String(63), unique=True)\n",
    "    domains = Column(ARRAY(String(255)))"
   ]
  },
  {
   "cell_type": "code",
   "execution_count": 15,
   "metadata": {},
   "outputs": [],
   "source": [
    "class CompanyModel(BaseModel):\n",
    "    id: int\n",
    "    public_key: constr(max_length=20)\n",
    "    name: constr(max_length=63)\n",
    "    domains: List[constr(max_length=255)]\n",
    "    \n",
    "    class Config:\n",
    "        orm_mode = True"
   ]
  },
  {
   "cell_type": "code",
   "execution_count": 16,
   "metadata": {},
   "outputs": [
    {
     "name": "stdout",
     "output_type": "stream",
     "text": [
      "co_orm = <__main__.CompanyOrm object at 0x0000018E983BD820>\n"
     ]
    }
   ],
   "source": [
    "co_orm = CompanyOrm(\n",
    "    id=123,\n",
    "    public_key=\"foobar\",\n",
    "    name=\"Testing\",\n",
    "    domains=[\"example.com\", \"foobar.com\"],\n",
    ")\n",
    "print(f\"{co_orm = }\")"
   ]
  },
  {
   "cell_type": "code",
   "execution_count": 17,
   "metadata": {},
   "outputs": [
    {
     "name": "stdout",
     "output_type": "stream",
     "text": [
      "co_model = CompanyModel(id=123, public_key='foobar', name='Testing', domains=['example.com', 'foobar.com'])\n"
     ]
    }
   ],
   "source": [
    "co_model = CompanyModel.from_orm(co_orm)\n",
    "print(f\"{co_model = }\")"
   ]
  },
  {
   "cell_type": "code",
   "execution_count": 22,
   "metadata": {},
   "outputs": [],
   "source": [
    "class SQLModel(Base):\n",
    "    __tablename__ = \"my_table\"\n",
    "    \n",
    "    id = Column(\"id\", Integer, primary_key=True)\n",
    "    metadata_ = Column(\"metadata\", JSON)"
   ]
  },
  {
   "cell_type": "code",
   "execution_count": 23,
   "metadata": {},
   "outputs": [],
   "source": [
    "class ReserveKeyModel(BaseModel):\n",
    "    metadata: Dict[str, str] = Field(alias=\"metadata_\")\n",
    "    \n",
    "    class Config:\n",
    "        orm_mode = True"
   ]
  },
  {
   "cell_type": "code",
   "execution_count": 24,
   "metadata": {},
   "outputs": [
    {
     "name": "stdout",
     "output_type": "stream",
     "text": [
      "pydantic_model = ReserveKeyModel(metadata={'key': 'value'})\n",
      "pydantic_model.dict(by_alias=True) = {'metadata_': {'key': 'value'}}\n"
     ]
    }
   ],
   "source": [
    "sql_model = SQLModel(metadata_={\"key\": \"value\"}, id=1)\n",
    "pydantic_model = ReserveKeyModel.from_orm(sql_model)\n",
    "print(f\"{pydantic_model = }\")\n",
    "print(f\"{pydantic_model.dict(by_alias=True) = }\")"
   ]
  },
  {
   "cell_type": "code",
   "execution_count": 25,
   "metadata": {},
   "outputs": [],
   "source": [
    "class PetClass:\n",
    "    def __init__(self, *, name: str, species: str):\n",
    "        self.name = name\n",
    "        self.species = species"
   ]
  },
  {
   "cell_type": "code",
   "execution_count": 26,
   "metadata": {},
   "outputs": [],
   "source": [
    "class PersonClass:\n",
    "    def __init__(self, *, name: str, age: float = None, pets: List[PetClass]):\n",
    "        self.name = name\n",
    "        self.age = age\n",
    "        self.pets = pets"
   ]
  },
  {
   "cell_type": "code",
   "execution_count": 27,
   "metadata": {},
   "outputs": [],
   "source": [
    "class Pet(BaseModel):\n",
    "    name: str\n",
    "    species: str\n",
    "    \n",
    "    class Config:\n",
    "        orm_mode = True"
   ]
  },
  {
   "cell_type": "code",
   "execution_count": 28,
   "metadata": {},
   "outputs": [],
   "source": [
    "class Person(BaseModel):\n",
    "    name: str\n",
    "    age: float = None\n",
    "    pets: List[Pet]\n",
    "    \n",
    "    class Config:\n",
    "        orm_mode = True"
   ]
  },
  {
   "cell_type": "code",
   "execution_count": 29,
   "metadata": {},
   "outputs": [
    {
     "name": "stdout",
     "output_type": "stream",
     "text": [
      "anna_model = Person(name='Anna', age=20.0, pets=[Pet(name='Bones', species='dog'), Pet(name='Orion', species='cat')])\n"
     ]
    }
   ],
   "source": [
    "bones = PetClass(name=\"Bones\", species=\"dog\")\n",
    "orion = PetClass(name=\"Orion\", species=\"cat\")\n",
    "anna = PersonClass(name=\"Anna\", age=20, pets=[bones, orion])\n",
    "anna_model = Person.from_orm(anna)\n",
    "print(f\"{anna_model = }\")"
   ]
  },
  {
   "cell_type": "code",
   "execution_count": null,
   "metadata": {},
   "outputs": [],
   "source": []
  }
 ],
 "metadata": {
  "kernelspec": {
   "display_name": "Python 3.9.6 ('valid-env': venv)",
   "language": "python",
   "name": "python3"
  },
  "language_info": {
   "codemirror_mode": {
    "name": "ipython",
    "version": 3
   },
   "file_extension": ".py",
   "mimetype": "text/x-python",
   "name": "python",
   "nbconvert_exporter": "python",
   "pygments_lexer": "ipython3",
   "version": "3.9.6"
  },
  "orig_nbformat": 4,
  "vscode": {
   "interpreter": {
    "hash": "c2258dd348c4db92d1fc23d9ac751564e58ace9e4e1a4507d6c5b14149e13659"
   }
  }
 },
 "nbformat": 4,
 "nbformat_minor": 2
}
