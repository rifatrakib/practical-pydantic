{
 "cells": [
  {
   "cell_type": "code",
   "execution_count": 1,
   "metadata": {},
   "outputs": [],
   "source": [
    "from typing import Any, List, Dict, Optional\n",
    "from pydantic.utils import GetterDict\n",
    "from pydantic import BaseModel, ValidationError, Field, constr, conint\n",
    "from xml.etree.ElementTree import fromstring\n",
    "from sqlalchemy import Column, Integer, String, JSON\n",
    "from sqlalchemy.dialects.postgresql import ARRAY\n",
    "from sqlalchemy.ext.declarative import declarative_base"
   ]
  },
  {
   "cell_type": "code",
   "execution_count": 2,
   "metadata": {},
   "outputs": [],
   "source": [
    "class User(BaseModel):\n",
    "    id: int\n",
    "    name = \"Jane Doe\""
   ]
  },
  {
   "cell_type": "code",
   "execution_count": 3,
   "metadata": {},
   "outputs": [],
   "source": [
    "user = User(id='123')\n",
    "user_x = User(id=123.45)"
   ]
  },
  {
   "cell_type": "code",
   "execution_count": 4,
   "metadata": {},
   "outputs": [],
   "source": [
    "assert user.id == 123\n",
    "assert user_x.id == 123\n",
    "assert isinstance(user_x.id, int)"
   ]
  },
  {
   "cell_type": "code",
   "execution_count": 5,
   "metadata": {},
   "outputs": [],
   "source": [
    "assert user.name == \"Jane Doe\""
   ]
  },
  {
   "cell_type": "code",
   "execution_count": 6,
   "metadata": {},
   "outputs": [],
   "source": [
    "assert user.__fields_set__ == {\"id\"}"
   ]
  },
  {
   "cell_type": "code",
   "execution_count": 7,
   "metadata": {},
   "outputs": [],
   "source": [
    "assert user.dict() == dict(user) == {\"id\": 123, \"name\": \"Jane Doe\"}"
   ]
  },
  {
   "cell_type": "code",
   "execution_count": 8,
   "metadata": {},
   "outputs": [],
   "source": [
    "user.id = 321\n",
    "assert user.id == 321"
   ]
  },
  {
   "cell_type": "code",
   "execution_count": 9,
   "metadata": {},
   "outputs": [],
   "source": [
    "class Foo(BaseModel):\n",
    "    count: int\n",
    "    size: Optional[float] = None"
   ]
  },
  {
   "cell_type": "code",
   "execution_count": 10,
   "metadata": {},
   "outputs": [],
   "source": [
    "class Bar(BaseModel):\n",
    "    apple = \"x\"\n",
    "    banana = \"y\""
   ]
  },
  {
   "cell_type": "code",
   "execution_count": 11,
   "metadata": {},
   "outputs": [],
   "source": [
    "class Spam(BaseModel):\n",
    "    foo: Foo\n",
    "    bars: List[Bar]"
   ]
  },
  {
   "cell_type": "code",
   "execution_count": 12,
   "metadata": {},
   "outputs": [
    {
     "name": "stdout",
     "output_type": "stream",
     "text": [
      "m = Spam(foo=Foo(count=4, size=None), bars=[Bar(apple='x1', banana='y'), Bar(apple='x2', banana='y')])\n",
      "m.dict() = {'foo': {'count': 4, 'size': None}, 'bars': [{'apple': 'x1', 'banana': 'y'}, {'apple': 'x2', 'banana': 'y'}]}\n"
     ]
    }
   ],
   "source": [
    "m = Spam(foo={\"count\": 4}, bars=[{\"apple\": \"x1\"}, {\"apple\": \"x2\"}])\n",
    "print(f\"{m = }\")\n",
    "print(f\"{m.dict() = }\")"
   ]
  },
  {
   "cell_type": "code",
   "execution_count": 13,
   "metadata": {},
   "outputs": [],
   "source": [
    "Base = declarative_base()"
   ]
  },
  {
   "cell_type": "code",
   "execution_count": 14,
   "metadata": {},
   "outputs": [],
   "source": [
    "class CompanyOrm(Base):\n",
    "    __tablename__ = \"companies\"\n",
    "    \n",
    "    id = Column(Integer, primary_key=True, nullable=False)\n",
    "    public_key = Column(String(20), index=True, nullable=False, unique=True)\n",
    "    name = Column(String(63), unique=True)\n",
    "    domains = Column(ARRAY(String(255)))"
   ]
  },
  {
   "cell_type": "code",
   "execution_count": 15,
   "metadata": {},
   "outputs": [],
   "source": [
    "class CompanyModel(BaseModel):\n",
    "    id: int\n",
    "    public_key: constr(max_length=20)\n",
    "    name: constr(max_length=63)\n",
    "    domains: List[constr(max_length=255)]\n",
    "    \n",
    "    class Config:\n",
    "        orm_mode = True"
   ]
  },
  {
   "cell_type": "code",
   "execution_count": 16,
   "metadata": {},
   "outputs": [
    {
     "name": "stdout",
     "output_type": "stream",
     "text": [
      "co_orm = <__main__.CompanyOrm object at 0x00000269F7068730>\n"
     ]
    }
   ],
   "source": [
    "co_orm = CompanyOrm(\n",
    "    id=123,\n",
    "    public_key=\"foobar\",\n",
    "    name=\"Testing\",\n",
    "    domains=[\"example.com\", \"foobar.com\"],\n",
    ")\n",
    "print(f\"{co_orm = }\")"
   ]
  },
  {
   "cell_type": "code",
   "execution_count": 17,
   "metadata": {},
   "outputs": [
    {
     "name": "stdout",
     "output_type": "stream",
     "text": [
      "co_model = CompanyModel(id=123, public_key='foobar', name='Testing', domains=['example.com', 'foobar.com'])\n"
     ]
    }
   ],
   "source": [
    "co_model = CompanyModel.from_orm(co_orm)\n",
    "print(f\"{co_model = }\")"
   ]
  },
  {
   "cell_type": "code",
   "execution_count": 18,
   "metadata": {},
   "outputs": [],
   "source": [
    "class SQLModel(Base):\n",
    "    __tablename__ = \"my_table\"\n",
    "    \n",
    "    id = Column(\"id\", Integer, primary_key=True)\n",
    "    metadata_ = Column(\"metadata\", JSON)"
   ]
  },
  {
   "cell_type": "code",
   "execution_count": 19,
   "metadata": {},
   "outputs": [],
   "source": [
    "class ReserveKeyModel(BaseModel):\n",
    "    metadata: Dict[str, str] = Field(alias=\"metadata_\")\n",
    "    \n",
    "    class Config:\n",
    "        orm_mode = True"
   ]
  },
  {
   "cell_type": "code",
   "execution_count": 20,
   "metadata": {},
   "outputs": [
    {
     "name": "stdout",
     "output_type": "stream",
     "text": [
      "pydantic_model = ReserveKeyModel(metadata={'key': 'value'})\n",
      "pydantic_model.dict(by_alias=True) = {'metadata_': {'key': 'value'}}\n"
     ]
    }
   ],
   "source": [
    "sql_model = SQLModel(metadata_={\"key\": \"value\"}, id=1)\n",
    "pydantic_model = ReserveKeyModel.from_orm(sql_model)\n",
    "print(f\"{pydantic_model = }\")\n",
    "print(f\"{pydantic_model.dict(by_alias=True) = }\")"
   ]
  },
  {
   "cell_type": "code",
   "execution_count": 21,
   "metadata": {},
   "outputs": [],
   "source": [
    "class PetClass:\n",
    "    def __init__(self, *, name: str, species: str):\n",
    "        self.name = name\n",
    "        self.species = species"
   ]
  },
  {
   "cell_type": "code",
   "execution_count": 22,
   "metadata": {},
   "outputs": [],
   "source": [
    "class PersonClass:\n",
    "    def __init__(self, *, name: str, age: float = None, pets: List[PetClass]):\n",
    "        self.name = name\n",
    "        self.age = age\n",
    "        self.pets = pets"
   ]
  },
  {
   "cell_type": "code",
   "execution_count": 23,
   "metadata": {},
   "outputs": [],
   "source": [
    "class Pet(BaseModel):\n",
    "    name: str\n",
    "    species: str\n",
    "    \n",
    "    class Config:\n",
    "        orm_mode = True"
   ]
  },
  {
   "cell_type": "code",
   "execution_count": 24,
   "metadata": {},
   "outputs": [],
   "source": [
    "class Person(BaseModel):\n",
    "    name: str\n",
    "    age: float = None\n",
    "    pets: List[Pet]\n",
    "    \n",
    "    class Config:\n",
    "        orm_mode = True"
   ]
  },
  {
   "cell_type": "code",
   "execution_count": 25,
   "metadata": {},
   "outputs": [
    {
     "name": "stdout",
     "output_type": "stream",
     "text": [
      "anna_model = Person(name='Anna', age=20.0, pets=[Pet(name='Bones', species='dog'), Pet(name='Orion', species='cat')])\n"
     ]
    }
   ],
   "source": [
    "bones = PetClass(name=\"Bones\", species=\"dog\")\n",
    "orion = PetClass(name=\"Orion\", species=\"cat\")\n",
    "anna = PersonClass(name=\"Anna\", age=20, pets=[bones, orion])\n",
    "anna_model = Person.from_orm(anna)\n",
    "print(f\"{anna_model = }\")"
   ]
  },
  {
   "cell_type": "code",
   "execution_count": 26,
   "metadata": {},
   "outputs": [],
   "source": [
    "class UserGetter(GetterDict):\n",
    "    def get(self, key: str, default: Any) -> Any:\n",
    "        # element attributes\n",
    "        if key in {\"Id\", \"Status\"}:\n",
    "            return self._obj.attrib.get(key, default)\n",
    "        # element children\n",
    "        else:\n",
    "            try:\n",
    "                return self._obj.find(key).attrib[\"Value\"]\n",
    "            except (AttributeError, KeyError):\n",
    "                return default"
   ]
  },
  {
   "cell_type": "code",
   "execution_count": 27,
   "metadata": {},
   "outputs": [],
   "source": [
    "class UserGetterModel(BaseModel):\n",
    "    Id: int\n",
    "    Status: Optional[str]\n",
    "    FirstName: Optional[str]\n",
    "    LastName: Optional[str]\n",
    "    LoggedIn: bool\n",
    "    \n",
    "    class Config:\n",
    "        orm_mode = True\n",
    "        getter_dict = UserGetter"
   ]
  },
  {
   "cell_type": "code",
   "execution_count": 28,
   "metadata": {},
   "outputs": [
    {
     "name": "stdout",
     "output_type": "stream",
     "text": [
      "user = UserGetterModel(Id=2138, Status=None, FirstName=None, LastName=None, LoggedIn=True)\n"
     ]
    }
   ],
   "source": [
    "xmlstring = \"\"\"\n",
    "<User Id=\"2138\">\n",
    "    <FirstName />\n",
    "    <LoggedIn Value=\"true\" />\n",
    "</User>\n",
    "\"\"\"\n",
    "\n",
    "user = UserGetterModel.from_orm(fromstring(xmlstring))\n",
    "print(f\"{user = }\")"
   ]
  },
  {
   "cell_type": "code",
   "execution_count": 29,
   "metadata": {},
   "outputs": [],
   "source": [
    "class Location(BaseModel):\n",
    "    lat = 0.1\n",
    "    lng = 10.1"
   ]
  },
  {
   "cell_type": "code",
   "execution_count": 30,
   "metadata": {},
   "outputs": [],
   "source": [
    "class Model(BaseModel):\n",
    "    is_required: float\n",
    "    gt_int: conint(gt=42)\n",
    "    list_of_ints: List[int] = None\n",
    "    a_float: float = None\n",
    "    recursive_model: Location = None"
   ]
  },
  {
   "cell_type": "code",
   "execution_count": 31,
   "metadata": {},
   "outputs": [],
   "source": [
    "data = dict(\n",
    "    list_of_ints=[\"1\", 2, \"bad\"],\n",
    "    a_float=\"not a float\",\n",
    "    recursive_model={\"lat\": 4.2, \"lng\": \"New York\"},\n",
    "    gt_int=21,\n",
    ")"
   ]
  },
  {
   "cell_type": "code",
   "execution_count": 32,
   "metadata": {},
   "outputs": [
    {
     "name": "stdout",
     "output_type": "stream",
     "text": [
      "e = ValidationError(model='Model', errors=[{'loc': ('is_required',), 'msg': 'field required', 'type': 'value_error.missing'}, {'loc': ('gt_int',), 'msg': 'ensure this value is greater than 42', 'type': 'value_error.number.not_gt', 'ctx': {'limit_value': 42}}, {'loc': ('list_of_ints', 2), 'msg': 'value is not a valid integer', 'type': 'type_error.integer'}, {'loc': ('a_float',), 'msg': 'value is not a valid float', 'type': 'type_error.float'}, {'loc': ('recursive_model', 'lng'), 'msg': 'value is not a valid float', 'type': 'type_error.float'}])\n",
      "str(e) = '5 validation errors for Model\\nis_required\\n  field required (type=value_error.missing)\\ngt_int\\n  ensure this value is greater than 42 (type=value_error.number.not_gt; limit_value=42)\\nlist_of_ints -> 2\\n  value is not a valid integer (type=type_error.integer)\\na_float\\n  value is not a valid float (type=type_error.float)\\nrecursive_model -> lng\\n  value is not a valid float (type=type_error.float)'\n",
      "e.json() = '[\\n  {\\n    \"loc\": [\\n      \"is_required\"\\n    ],\\n    \"msg\": \"field required\",\\n    \"type\": \"value_error.missing\"\\n  },\\n  {\\n    \"loc\": [\\n      \"gt_int\"\\n    ],\\n    \"msg\": \"ensure this value is greater than 42\",\\n    \"type\": \"value_error.number.not_gt\",\\n    \"ctx\": {\\n      \"limit_value\": 42\\n    }\\n  },\\n  {\\n    \"loc\": [\\n      \"list_of_ints\",\\n      2\\n    ],\\n    \"msg\": \"value is not a valid integer\",\\n    \"type\": \"type_error.integer\"\\n  },\\n  {\\n    \"loc\": [\\n      \"a_float\"\\n    ],\\n    \"msg\": \"value is not a valid float\",\\n    \"type\": \"type_error.float\"\\n  },\\n  {\\n    \"loc\": [\\n      \"recursive_model\",\\n      \"lng\"\\n    ],\\n    \"msg\": \"value is not a valid float\",\\n    \"type\": \"type_error.float\"\\n  }\\n]'\n",
      "e.errors() = [{'loc': ('is_required',), 'msg': 'field required', 'type': 'value_error.missing'}, {'loc': ('gt_int',), 'msg': 'ensure this value is greater than 42', 'type': 'value_error.number.not_gt', 'ctx': {'limit_value': 42}}, {'loc': ('list_of_ints', 2), 'msg': 'value is not a valid integer', 'type': 'type_error.integer'}, {'loc': ('a_float',), 'msg': 'value is not a valid float', 'type': 'type_error.float'}, {'loc': ('recursive_model', 'lng'), 'msg': 'value is not a valid float', 'type': 'type_error.float'}]\n",
      "error['loc'] = ('is_required',), error['type'] = 'value_error.missing', error['msg'] = 'field required'\n",
      "{error['ctx'] = None}\n",
      "error['loc'] = ('gt_int',), error['type'] = 'value_error.number.not_gt', error['msg'] = 'ensure this value is greater than 42'\n",
      "error['ctx'] = {'limit_value': 42}\n",
      "error['loc'] = ('list_of_ints', 2), error['type'] = 'type_error.integer', error['msg'] = 'value is not a valid integer'\n",
      "{error['ctx'] = None}\n",
      "error['loc'] = ('a_float',), error['type'] = 'type_error.float', error['msg'] = 'value is not a valid float'\n",
      "{error['ctx'] = None}\n",
      "error['loc'] = ('recursive_model', 'lng'), error['type'] = 'type_error.float', error['msg'] = 'value is not a valid float'\n",
      "{error['ctx'] = None}\n"
     ]
    }
   ],
   "source": [
    "try:\n",
    "    print(f\"{Model(**data) = }\")\n",
    "except ValidationError as e:\n",
    "    print(f\"{e = }\")\n",
    "    print(f\"{str(e) = }\")\n",
    "    print(f\"{e.json() = }\")\n",
    "    print(f\"{e.errors() = }\")\n",
    "    \n",
    "    for error in e.errors():\n",
    "        print(f\"{error['loc'] = }, {error['type'] = }, {error['msg'] = }\")\n",
    "        print(f\"{error['ctx'] = }\") if \"ctx\" in error else print(\"{error['ctx'] = None}\")"
   ]
  },
  {
   "cell_type": "code",
   "execution_count": null,
   "metadata": {},
   "outputs": [],
   "source": []
  }
 ],
 "metadata": {
  "kernelspec": {
   "display_name": "Python 3.9.6 ('valid-env': venv)",
   "language": "python",
   "name": "python3"
  },
  "language_info": {
   "codemirror_mode": {
    "name": "ipython",
    "version": 3
   },
   "file_extension": ".py",
   "mimetype": "text/x-python",
   "name": "python",
   "nbconvert_exporter": "python",
   "pygments_lexer": "ipython3",
   "version": "3.9.6"
  },
  "orig_nbformat": 4,
  "vscode": {
   "interpreter": {
    "hash": "c2258dd348c4db92d1fc23d9ac751564e58ace9e4e1a4507d6c5b14149e13659"
   }
  }
 },
 "nbformat": 4,
 "nbformat_minor": 2
}
