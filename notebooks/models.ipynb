{
 "cells": [
  {
   "cell_type": "code",
   "execution_count": 78,
   "metadata": {},
   "outputs": [],
   "source": [
    "from typing import Generic, TypeVar, Optional, Tuple, Type, Any, List, Dict\n",
    "from pydantic.utils import GetterDict\n",
    "from pydantic.generics import GenericModel\n",
    "from pydantic import (\n",
    "    BaseModel, ValidationError, PydanticValueError,\n",
    "    Field, constr, conint, validator, create_model\n",
    ")\n",
    "from xml.etree.ElementTree import fromstring\n",
    "from sqlalchemy import Column, Integer, String, JSON\n",
    "from sqlalchemy.dialects.postgresql import ARRAY\n",
    "from sqlalchemy.ext.declarative import declarative_base\n",
    "\n",
    "import pickle\n",
    "from pathlib import Path\n",
    "from datetime import datetime"
   ]
  },
  {
   "cell_type": "code",
   "execution_count": 2,
   "metadata": {},
   "outputs": [],
   "source": [
    "class User(BaseModel):\n",
    "    id: int\n",
    "    name = \"Jane Doe\""
   ]
  },
  {
   "cell_type": "code",
   "execution_count": 3,
   "metadata": {},
   "outputs": [],
   "source": [
    "user = User(id='123')\n",
    "user_x = User(id=123.45)"
   ]
  },
  {
   "cell_type": "code",
   "execution_count": 4,
   "metadata": {},
   "outputs": [],
   "source": [
    "assert user.id == 123\n",
    "assert user_x.id == 123\n",
    "assert isinstance(user_x.id, int)"
   ]
  },
  {
   "cell_type": "code",
   "execution_count": 5,
   "metadata": {},
   "outputs": [],
   "source": [
    "assert user.name == \"Jane Doe\""
   ]
  },
  {
   "cell_type": "code",
   "execution_count": 6,
   "metadata": {},
   "outputs": [],
   "source": [
    "assert user.__fields_set__ == {\"id\"}"
   ]
  },
  {
   "cell_type": "code",
   "execution_count": 7,
   "metadata": {},
   "outputs": [],
   "source": [
    "assert user.dict() == dict(user) == {\"id\": 123, \"name\": \"Jane Doe\"}"
   ]
  },
  {
   "cell_type": "code",
   "execution_count": 8,
   "metadata": {},
   "outputs": [],
   "source": [
    "user.id = 321\n",
    "assert user.id == 321"
   ]
  },
  {
   "cell_type": "code",
   "execution_count": 9,
   "metadata": {},
   "outputs": [],
   "source": [
    "class Foo(BaseModel):\n",
    "    count: int\n",
    "    size: Optional[float] = None"
   ]
  },
  {
   "cell_type": "code",
   "execution_count": 10,
   "metadata": {},
   "outputs": [],
   "source": [
    "class Bar(BaseModel):\n",
    "    apple = \"x\"\n",
    "    banana = \"y\""
   ]
  },
  {
   "cell_type": "code",
   "execution_count": 11,
   "metadata": {},
   "outputs": [],
   "source": [
    "class Spam(BaseModel):\n",
    "    foo: Foo\n",
    "    bars: List[Bar]"
   ]
  },
  {
   "cell_type": "code",
   "execution_count": 12,
   "metadata": {},
   "outputs": [
    {
     "name": "stdout",
     "output_type": "stream",
     "text": [
      "m = Spam(foo=Foo(count=4, size=None), bars=[Bar(apple='x1', banana='y'), Bar(apple='x2', banana='y')])\n",
      "m.dict() = {'foo': {'count': 4, 'size': None}, 'bars': [{'apple': 'x1', 'banana': 'y'}, {'apple': 'x2', 'banana': 'y'}]}\n"
     ]
    }
   ],
   "source": [
    "m = Spam(foo={\"count\": 4}, bars=[{\"apple\": \"x1\"}, {\"apple\": \"x2\"}])\n",
    "print(f\"{m = }\")\n",
    "print(f\"{m.dict() = }\")"
   ]
  },
  {
   "cell_type": "code",
   "execution_count": 13,
   "metadata": {},
   "outputs": [],
   "source": [
    "Base = declarative_base()"
   ]
  },
  {
   "cell_type": "code",
   "execution_count": 14,
   "metadata": {},
   "outputs": [],
   "source": [
    "class CompanyOrm(Base):\n",
    "    __tablename__ = \"companies\"\n",
    "    \n",
    "    id = Column(Integer, primary_key=True, nullable=False)\n",
    "    public_key = Column(String(20), index=True, nullable=False, unique=True)\n",
    "    name = Column(String(63), unique=True)\n",
    "    domains = Column(ARRAY(String(255)))"
   ]
  },
  {
   "cell_type": "code",
   "execution_count": 15,
   "metadata": {},
   "outputs": [],
   "source": [
    "class CompanyModel(BaseModel):\n",
    "    id: int\n",
    "    public_key: constr(max_length=20)\n",
    "    name: constr(max_length=63)\n",
    "    domains: List[constr(max_length=255)]\n",
    "    \n",
    "    class Config:\n",
    "        orm_mode = True"
   ]
  },
  {
   "cell_type": "code",
   "execution_count": 16,
   "metadata": {},
   "outputs": [
    {
     "name": "stdout",
     "output_type": "stream",
     "text": [
      "co_orm = <__main__.CompanyOrm object at 0x00000215318422B0>\n"
     ]
    }
   ],
   "source": [
    "co_orm = CompanyOrm(\n",
    "    id=123,\n",
    "    public_key=\"foobar\",\n",
    "    name=\"Testing\",\n",
    "    domains=[\"example.com\", \"foobar.com\"],\n",
    ")\n",
    "print(f\"{co_orm = }\")"
   ]
  },
  {
   "cell_type": "code",
   "execution_count": 17,
   "metadata": {},
   "outputs": [
    {
     "name": "stdout",
     "output_type": "stream",
     "text": [
      "co_model = CompanyModel(id=123, public_key='foobar', name='Testing', domains=['example.com', 'foobar.com'])\n"
     ]
    }
   ],
   "source": [
    "co_model = CompanyModel.from_orm(co_orm)\n",
    "print(f\"{co_model = }\")"
   ]
  },
  {
   "cell_type": "code",
   "execution_count": 18,
   "metadata": {},
   "outputs": [],
   "source": [
    "class SQLModel(Base):\n",
    "    __tablename__ = \"my_table\"\n",
    "    \n",
    "    id = Column(\"id\", Integer, primary_key=True)\n",
    "    metadata_ = Column(\"metadata\", JSON)"
   ]
  },
  {
   "cell_type": "code",
   "execution_count": 19,
   "metadata": {},
   "outputs": [],
   "source": [
    "class ReserveKeyModel(BaseModel):\n",
    "    metadata: Dict[str, str] = Field(alias=\"metadata_\")\n",
    "    \n",
    "    class Config:\n",
    "        orm_mode = True"
   ]
  },
  {
   "cell_type": "code",
   "execution_count": 20,
   "metadata": {},
   "outputs": [
    {
     "name": "stdout",
     "output_type": "stream",
     "text": [
      "pydantic_model = ReserveKeyModel(metadata={'key': 'value'})\n",
      "pydantic_model.dict(by_alias=True) = {'metadata_': {'key': 'value'}}\n"
     ]
    }
   ],
   "source": [
    "sql_model = SQLModel(metadata_={\"key\": \"value\"}, id=1)\n",
    "pydantic_model = ReserveKeyModel.from_orm(sql_model)\n",
    "print(f\"{pydantic_model = }\")\n",
    "print(f\"{pydantic_model.dict(by_alias=True) = }\")"
   ]
  },
  {
   "cell_type": "code",
   "execution_count": 21,
   "metadata": {},
   "outputs": [],
   "source": [
    "class PetClass:\n",
    "    def __init__(self, *, name: str, species: str):\n",
    "        self.name = name\n",
    "        self.species = species"
   ]
  },
  {
   "cell_type": "code",
   "execution_count": 22,
   "metadata": {},
   "outputs": [],
   "source": [
    "class PersonClass:\n",
    "    def __init__(self, *, name: str, age: float = None, pets: List[PetClass]):\n",
    "        self.name = name\n",
    "        self.age = age\n",
    "        self.pets = pets"
   ]
  },
  {
   "cell_type": "code",
   "execution_count": 23,
   "metadata": {},
   "outputs": [],
   "source": [
    "class Pet(BaseModel):\n",
    "    name: str\n",
    "    species: str\n",
    "    \n",
    "    class Config:\n",
    "        orm_mode = True"
   ]
  },
  {
   "cell_type": "code",
   "execution_count": 24,
   "metadata": {},
   "outputs": [],
   "source": [
    "class Person(BaseModel):\n",
    "    name: str\n",
    "    age: float = None\n",
    "    pets: List[Pet]\n",
    "    \n",
    "    class Config:\n",
    "        orm_mode = True"
   ]
  },
  {
   "cell_type": "code",
   "execution_count": 25,
   "metadata": {},
   "outputs": [
    {
     "name": "stdout",
     "output_type": "stream",
     "text": [
      "anna_model = Person(name='Anna', age=20.0, pets=[Pet(name='Bones', species='dog'), Pet(name='Orion', species='cat')])\n"
     ]
    }
   ],
   "source": [
    "bones = PetClass(name=\"Bones\", species=\"dog\")\n",
    "orion = PetClass(name=\"Orion\", species=\"cat\")\n",
    "anna = PersonClass(name=\"Anna\", age=20, pets=[bones, orion])\n",
    "anna_model = Person.from_orm(anna)\n",
    "print(f\"{anna_model = }\")"
   ]
  },
  {
   "cell_type": "code",
   "execution_count": 26,
   "metadata": {},
   "outputs": [],
   "source": [
    "class UserGetter(GetterDict):\n",
    "    def get(self, key: str, default: Any) -> Any:\n",
    "        # element attributes\n",
    "        if key in {\"Id\", \"Status\"}:\n",
    "            return self._obj.attrib.get(key, default)\n",
    "        # element children\n",
    "        else:\n",
    "            try:\n",
    "                return self._obj.find(key).attrib[\"Value\"]\n",
    "            except (AttributeError, KeyError):\n",
    "                return default"
   ]
  },
  {
   "cell_type": "code",
   "execution_count": 27,
   "metadata": {},
   "outputs": [],
   "source": [
    "class UserGetterModel(BaseModel):\n",
    "    Id: int\n",
    "    Status: Optional[str]\n",
    "    FirstName: Optional[str]\n",
    "    LastName: Optional[str]\n",
    "    LoggedIn: bool\n",
    "    \n",
    "    class Config:\n",
    "        orm_mode = True\n",
    "        getter_dict = UserGetter"
   ]
  },
  {
   "cell_type": "code",
   "execution_count": 28,
   "metadata": {},
   "outputs": [
    {
     "name": "stdout",
     "output_type": "stream",
     "text": [
      "user = UserGetterModel(Id=2138, Status=None, FirstName=None, LastName=None, LoggedIn=True)\n"
     ]
    }
   ],
   "source": [
    "xmlstring = \"\"\"\n",
    "<User Id=\"2138\">\n",
    "    <FirstName />\n",
    "    <LoggedIn Value=\"true\" />\n",
    "</User>\n",
    "\"\"\"\n",
    "\n",
    "user = UserGetterModel.from_orm(fromstring(xmlstring))\n",
    "print(f\"{user = }\")"
   ]
  },
  {
   "cell_type": "code",
   "execution_count": 29,
   "metadata": {},
   "outputs": [],
   "source": [
    "class Location(BaseModel):\n",
    "    lat = 0.1\n",
    "    lng = 10.1"
   ]
  },
  {
   "cell_type": "code",
   "execution_count": 30,
   "metadata": {},
   "outputs": [],
   "source": [
    "class Model(BaseModel):\n",
    "    is_required: float\n",
    "    gt_int: conint(gt=42)\n",
    "    list_of_ints: List[int] = None\n",
    "    a_float: float = None\n",
    "    recursive_model: Location = None"
   ]
  },
  {
   "cell_type": "code",
   "execution_count": 31,
   "metadata": {},
   "outputs": [],
   "source": [
    "data = dict(\n",
    "    list_of_ints=[\"1\", 2, \"bad\"],\n",
    "    a_float=\"not a float\",\n",
    "    recursive_model={\"lat\": 4.2, \"lng\": \"New York\"},\n",
    "    gt_int=21,\n",
    ")"
   ]
  },
  {
   "cell_type": "code",
   "execution_count": 32,
   "metadata": {},
   "outputs": [
    {
     "name": "stdout",
     "output_type": "stream",
     "text": [
      "e = ValidationError(model='Model', errors=[{'loc': ('is_required',), 'msg': 'field required', 'type': 'value_error.missing'}, {'loc': ('gt_int',), 'msg': 'ensure this value is greater than 42', 'type': 'value_error.number.not_gt', 'ctx': {'limit_value': 42}}, {'loc': ('list_of_ints', 2), 'msg': 'value is not a valid integer', 'type': 'type_error.integer'}, {'loc': ('a_float',), 'msg': 'value is not a valid float', 'type': 'type_error.float'}, {'loc': ('recursive_model', 'lng'), 'msg': 'value is not a valid float', 'type': 'type_error.float'}])\n",
      "str(e) = '5 validation errors for Model\\nis_required\\n  field required (type=value_error.missing)\\ngt_int\\n  ensure this value is greater than 42 (type=value_error.number.not_gt; limit_value=42)\\nlist_of_ints -> 2\\n  value is not a valid integer (type=type_error.integer)\\na_float\\n  value is not a valid float (type=type_error.float)\\nrecursive_model -> lng\\n  value is not a valid float (type=type_error.float)'\n",
      "e.json() = '[\\n  {\\n    \"loc\": [\\n      \"is_required\"\\n    ],\\n    \"msg\": \"field required\",\\n    \"type\": \"value_error.missing\"\\n  },\\n  {\\n    \"loc\": [\\n      \"gt_int\"\\n    ],\\n    \"msg\": \"ensure this value is greater than 42\",\\n    \"type\": \"value_error.number.not_gt\",\\n    \"ctx\": {\\n      \"limit_value\": 42\\n    }\\n  },\\n  {\\n    \"loc\": [\\n      \"list_of_ints\",\\n      2\\n    ],\\n    \"msg\": \"value is not a valid integer\",\\n    \"type\": \"type_error.integer\"\\n  },\\n  {\\n    \"loc\": [\\n      \"a_float\"\\n    ],\\n    \"msg\": \"value is not a valid float\",\\n    \"type\": \"type_error.float\"\\n  },\\n  {\\n    \"loc\": [\\n      \"recursive_model\",\\n      \"lng\"\\n    ],\\n    \"msg\": \"value is not a valid float\",\\n    \"type\": \"type_error.float\"\\n  }\\n]'\n",
      "e.errors() = [{'loc': ('is_required',), 'msg': 'field required', 'type': 'value_error.missing'}, {'loc': ('gt_int',), 'msg': 'ensure this value is greater than 42', 'type': 'value_error.number.not_gt', 'ctx': {'limit_value': 42}}, {'loc': ('list_of_ints', 2), 'msg': 'value is not a valid integer', 'type': 'type_error.integer'}, {'loc': ('a_float',), 'msg': 'value is not a valid float', 'type': 'type_error.float'}, {'loc': ('recursive_model', 'lng'), 'msg': 'value is not a valid float', 'type': 'type_error.float'}]\n",
      "error['loc'] = ('is_required',), error['type'] = 'value_error.missing', error['msg'] = 'field required'\n",
      "{error['ctx'] = None}\n",
      "error['loc'] = ('gt_int',), error['type'] = 'value_error.number.not_gt', error['msg'] = 'ensure this value is greater than 42'\n",
      "error['ctx'] = {'limit_value': 42}\n",
      "error['loc'] = ('list_of_ints', 2), error['type'] = 'type_error.integer', error['msg'] = 'value is not a valid integer'\n",
      "{error['ctx'] = None}\n",
      "error['loc'] = ('a_float',), error['type'] = 'type_error.float', error['msg'] = 'value is not a valid float'\n",
      "{error['ctx'] = None}\n",
      "error['loc'] = ('recursive_model', 'lng'), error['type'] = 'type_error.float', error['msg'] = 'value is not a valid float'\n",
      "{error['ctx'] = None}\n"
     ]
    }
   ],
   "source": [
    "try:\n",
    "    print(f\"{Model(**data) = }\")\n",
    "except ValidationError as e:\n",
    "    print(f\"{e = }\")\n",
    "    print(f\"{str(e) = }\")\n",
    "    print(f\"{e.json() = }\")\n",
    "    print(f\"{e.errors() = }\")\n",
    "    \n",
    "    for error in e.errors():\n",
    "        print(f\"{error['loc'] = }, {error['type'] = }, {error['msg'] = }\")\n",
    "        print(f\"{error['ctx'] = }\") if \"ctx\" in error else print(\"{error['ctx'] = None}\")"
   ]
  },
  {
   "cell_type": "code",
   "execution_count": 33,
   "metadata": {},
   "outputs": [],
   "source": [
    "class ValidatorModel(BaseModel):\n",
    "    foo: str\n",
    "    \n",
    "    @validator(\"foo\")\n",
    "    def value_must_equal_bar(cls, v):\n",
    "        if v != \"bar\":\n",
    "            raise ValueError('value must be \"bar\"')\n",
    "        return v"
   ]
  },
  {
   "cell_type": "code",
   "execution_count": 34,
   "metadata": {},
   "outputs": [
    {
     "name": "stdout",
     "output_type": "stream",
     "text": [
      "e = ValidationError(model='ValidatorModel', errors=[{'loc': ('foo',), 'msg': 'value must be \"bar\"', 'type': 'value_error'}])\n",
      "str(e) = '1 validation error for ValidatorModel\\nfoo\\n  value must be \"bar\" (type=value_error)'\n",
      "e.json() = '[\\n  {\\n    \"loc\": [\\n      \"foo\"\\n    ],\\n    \"msg\": \"value must be \\\\\"bar\\\\\"\",\\n    \"type\": \"value_error\"\\n  }\\n]'\n",
      "e.errors() = [{'loc': ('foo',), 'msg': 'value must be \"bar\"', 'type': 'value_error'}]\n"
     ]
    }
   ],
   "source": [
    "try:\n",
    "    print(f\"{ValidatorModel(foo='ber') = }\")\n",
    "except ValidationError as e:\n",
    "    print(f\"{e = }\")\n",
    "    print(f\"{str(e) = }\")\n",
    "    print(f\"{e.json() = }\")\n",
    "    print(f\"{e.errors() = }\")"
   ]
  },
  {
   "cell_type": "code",
   "execution_count": 35,
   "metadata": {},
   "outputs": [],
   "source": [
    "class NotABarError(PydanticValueError):\n",
    "    code = \"not_a_bar\"\n",
    "    msg_template = 'value is not \"bar\", got \"{wrong_value}\"'"
   ]
  },
  {
   "cell_type": "code",
   "execution_count": 36,
   "metadata": {},
   "outputs": [],
   "source": [
    "class ValidatorModel(BaseModel):\n",
    "    foo: str\n",
    "    \n",
    "    @validator(\"foo\")\n",
    "    def value_must_equal_bar(cls, v):\n",
    "        if v != \"bar\":\n",
    "            raise NotABarError(wrong_value=v)\n",
    "        return v"
   ]
  },
  {
   "cell_type": "code",
   "execution_count": 37,
   "metadata": {},
   "outputs": [
    {
     "name": "stdout",
     "output_type": "stream",
     "text": [
      "e = ValidationError(model='ValidatorModel', errors=[{'loc': ('foo',), 'msg': 'value is not \"bar\", got \"ber\"', 'type': 'value_error.not_a_bar', 'ctx': {'wrong_value': 'ber'}}])\n",
      "str(e) = '1 validation error for ValidatorModel\\nfoo\\n  value is not \"bar\", got \"ber\" (type=value_error.not_a_bar; wrong_value=ber)'\n",
      "e.json() = '[\\n  {\\n    \"loc\": [\\n      \"foo\"\\n    ],\\n    \"msg\": \"value is not \\\\\"bar\\\\\", got \\\\\"ber\\\\\"\",\\n    \"type\": \"value_error.not_a_bar\",\\n    \"ctx\": {\\n      \"wrong_value\": \"ber\"\\n    }\\n  }\\n]'\n",
      "e.errors() = [{'loc': ('foo',), 'msg': 'value is not \"bar\", got \"ber\"', 'type': 'value_error.not_a_bar', 'ctx': {'wrong_value': 'ber'}}]\n"
     ]
    }
   ],
   "source": [
    "try:\n",
    "    print(f\"{ValidatorModel(foo='ber') = }\")\n",
    "except ValidationError as e:\n",
    "    print(f\"{e = }\")\n",
    "    print(f\"{str(e) = }\")\n",
    "    print(f\"{e.json() = }\")\n",
    "    print(f\"{e.errors() = }\")"
   ]
  },
  {
   "cell_type": "code",
   "execution_count": 38,
   "metadata": {},
   "outputs": [],
   "source": [
    "class UserLoginRecord(BaseModel):\n",
    "    id: int\n",
    "    name = \"John Doe\"\n",
    "    last_login: datetime = None"
   ]
  },
  {
   "cell_type": "code",
   "execution_count": 39,
   "metadata": {},
   "outputs": [],
   "source": [
    "m = UserLoginRecord.parse_obj({\"id\": 123, \"name\": \"James\"})"
   ]
  },
  {
   "cell_type": "code",
   "execution_count": 40,
   "metadata": {},
   "outputs": [
    {
     "name": "stdout",
     "output_type": "stream",
     "text": [
      "m = UserLoginRecord(id=123, last_login=None, name='James')\n"
     ]
    }
   ],
   "source": [
    "print(f\"{m = }\")"
   ]
  },
  {
   "cell_type": "code",
   "execution_count": 41,
   "metadata": {},
   "outputs": [
    {
     "name": "stdout",
     "output_type": "stream",
     "text": [
      "e = ValidationError(model='UserLoginRecord', errors=[{'loc': ('__root__',), 'msg': 'UserLoginRecord expected dict not list', 'type': 'type_error'}])\n",
      "str(e) = '1 validation error for UserLoginRecord\\n__root__\\n  UserLoginRecord expected dict not list (type=type_error)'\n",
      "e.json() = '[\\n  {\\n    \"loc\": [\\n      \"__root__\"\\n    ],\\n    \"msg\": \"UserLoginRecord expected dict not list\",\\n    \"type\": \"type_error\"\\n  }\\n]'\n",
      "e.errors() = [{'loc': ('__root__',), 'msg': 'UserLoginRecord expected dict not list', 'type': 'type_error'}]\n"
     ]
    }
   ],
   "source": [
    "try:\n",
    "    print(f\"{UserLoginRecord.parse_obj(['not', 'a', 'dict']) = }\")\n",
    "except ValidationError as e:\n",
    "    print(f\"{e = }\")\n",
    "    print(f\"{str(e) = }\")\n",
    "    print(f\"{e.json() = }\")\n",
    "    print(f\"{e.errors() = }\")"
   ]
  },
  {
   "cell_type": "code",
   "execution_count": 42,
   "metadata": {},
   "outputs": [
    {
     "name": "stdout",
     "output_type": "stream",
     "text": [
      "m = UserLoginRecord(id=123, last_login=None, name='James')\n"
     ]
    }
   ],
   "source": [
    "m = UserLoginRecord.parse_raw('{\"id\": 123, \"name\": \"James\"}')\n",
    "print(f\"{m = }\")"
   ]
  },
  {
   "cell_type": "code",
   "execution_count": 43,
   "metadata": {},
   "outputs": [
    {
     "name": "stdout",
     "output_type": "stream",
     "text": [
      "m = UserLoginRecord(id=123, last_login=datetime.datetime(2017, 7, 14, 0, 0), name='James')\n"
     ]
    }
   ],
   "source": [
    "pickle_data = pickle.dumps({\n",
    "    'id': 123,\n",
    "    'name': 'James',\n",
    "    'last_login': datetime(2017, 7, 14)\n",
    "})\n",
    "m = UserLoginRecord.parse_raw(\n",
    "    pickle_data, content_type=\"application/pickle\", allow_pickle=True\n",
    ")\n",
    "print(f\"{m = }\")"
   ]
  },
  {
   "cell_type": "code",
   "execution_count": 44,
   "metadata": {},
   "outputs": [
    {
     "name": "stdout",
     "output_type": "stream",
     "text": [
      "m = UserLoginRecord(id=123, last_login=None, name='James')\n"
     ]
    }
   ],
   "source": [
    "path = Path(\"data.json\")\n",
    "path.write_text('{\"id\": 123, \"name\": \"James\"}')\n",
    "m = UserLoginRecord.parse_file(path)\n",
    "print(f\"{m = }\")"
   ]
  },
  {
   "cell_type": "code",
   "execution_count": 45,
   "metadata": {},
   "outputs": [],
   "source": [
    "class TrustedUser(BaseModel):\n",
    "    id: int\n",
    "    age: int\n",
    "    name: str = \"John Doe\""
   ]
  },
  {
   "cell_type": "code",
   "execution_count": 46,
   "metadata": {},
   "outputs": [
    {
     "name": "stdout",
     "output_type": "stream",
     "text": [
      "user_data = {'id': 123, 'age': 32, 'name': 'John Doe'}\n",
      "fields_set = {'age', 'id'}\n"
     ]
    }
   ],
   "source": [
    "original_user = TrustedUser(id=123, age=32)\n",
    "user_data = original_user.dict()\n",
    "print(f\"{user_data = }\")\n",
    "\n",
    "fields_set = original_user.__fields_set__\n",
    "print(f\"{fields_set = }\")"
   ]
  },
  {
   "cell_type": "code",
   "execution_count": 47,
   "metadata": {},
   "outputs": [
    {
     "name": "stdout",
     "output_type": "stream",
     "text": [
      "TrustedUser(id=123, age=32, name='John Doe')\n",
      "{new_user.__fields_set__ = }\n"
     ]
    }
   ],
   "source": [
    "new_user = TrustedUser.construct(_fields_set=fields_set, **user_data)\n",
    "print(repr(new_user))\n",
    "print(\"{new_user.__fields_set__ = }\")"
   ]
  },
  {
   "cell_type": "code",
   "execution_count": 48,
   "metadata": {},
   "outputs": [
    {
     "name": "stdout",
     "output_type": "stream",
     "text": [
      "TrustedUser(id='dog', name='John Doe')\n"
     ]
    }
   ],
   "source": [
    "bad_user = TrustedUser.construct(id=\"dog\")\n",
    "print(repr(bad_user))"
   ]
  },
  {
   "cell_type": "code",
   "execution_count": 49,
   "metadata": {},
   "outputs": [],
   "source": [
    "DataT = TypeVar(\"DataT\")"
   ]
  },
  {
   "cell_type": "code",
   "execution_count": 50,
   "metadata": {},
   "outputs": [],
   "source": [
    "class Error(BaseModel):\n",
    "    code: int\n",
    "    message: str"
   ]
  },
  {
   "cell_type": "code",
   "execution_count": 51,
   "metadata": {},
   "outputs": [],
   "source": [
    "class DataModel(BaseModel):\n",
    "    numbers: List[int]\n",
    "    people: List[str]"
   ]
  },
  {
   "cell_type": "code",
   "execution_count": 52,
   "metadata": {},
   "outputs": [],
   "source": [
    "class Response(GenericModel, Generic[DataT]):\n",
    "    data: Optional[DataT]\n",
    "    error: Optional[Error]\n",
    "    \n",
    "    @validator(\"error\", always=True)\n",
    "    def check_consistency(cls, v, values):\n",
    "        if v is not None and values[\"data\"] is not None:\n",
    "            raise ValueError(\"must not provide both data and error\")\n",
    "        if v is None and values.get(\"data\") is None:\n",
    "            raise ValueError(\"must provide data or error\")\n",
    "        return v"
   ]
  },
  {
   "cell_type": "code",
   "execution_count": 53,
   "metadata": {},
   "outputs": [],
   "source": [
    "data = DataModel(numbers=[1, 2, 3], people=[])\n",
    "error = Error(code=404, message=\"not found\")"
   ]
  },
  {
   "cell_type": "code",
   "execution_count": 54,
   "metadata": {},
   "outputs": [
    {
     "name": "stdout",
     "output_type": "stream",
     "text": [
      "Response[int](data=1) = Response[int](data=1, error=None)\n",
      "Response[str](data='value') = Response[str](data='value', error=None)\n",
      "Response[str](data='value').dict() = {'data': 'value', 'error': None}\n",
      "Response[DataModel](data=data).dict() = {'data': {'numbers': [1, 2, 3], 'people': []}, 'error': None}\n"
     ]
    }
   ],
   "source": [
    "print(f\"{Response[int](data=1) = }\")\n",
    "print(f\"{Response[str](data='value') = }\")\n",
    "print(f\"{Response[str](data='value').dict() = }\")\n",
    "print(f\"{Response[DataModel](data=data).dict() = }\")"
   ]
  },
  {
   "cell_type": "code",
   "execution_count": 55,
   "metadata": {},
   "outputs": [
    {
     "name": "stdout",
     "output_type": "stream",
     "text": [
      "Response[Error](error=error).dict() = {'data': None, 'error': {'code': 404, 'message': 'not found'}}\n"
     ]
    }
   ],
   "source": [
    "print(f\"{Response[Error](error=error).dict() = }\")"
   ]
  },
  {
   "cell_type": "code",
   "execution_count": 56,
   "metadata": {},
   "outputs": [
    {
     "name": "stdout",
     "output_type": "stream",
     "text": [
      "2 validation errors for Response[int]\n",
      "data\n",
      "  value is not a valid integer (type=type_error.integer)\n",
      "error\n",
      "  must provide data or error (type=value_error)\n"
     ]
    }
   ],
   "source": [
    "try:\n",
    "    Response[int](data=\"value\")\n",
    "except ValidationError as e:\n",
    "    print(e)"
   ]
  },
  {
   "cell_type": "code",
   "execution_count": 57,
   "metadata": {},
   "outputs": [],
   "source": [
    "TypeX = TypeVar(\"TypeX\")"
   ]
  },
  {
   "cell_type": "code",
   "execution_count": 58,
   "metadata": {},
   "outputs": [],
   "source": [
    "class BaseClassType(GenericModel, Generic[TypeX]):\n",
    "    x: TypeX"
   ]
  },
  {
   "cell_type": "code",
   "execution_count": 59,
   "metadata": {},
   "outputs": [],
   "source": [
    "class ChildClassType(BaseClassType[TypeX], Generic[TypeX]):\n",
    "    pass"
   ]
  },
  {
   "cell_type": "code",
   "execution_count": 60,
   "metadata": {},
   "outputs": [
    {
     "name": "stdout",
     "output_type": "stream",
     "text": [
      "x=1\n"
     ]
    }
   ],
   "source": [
    "print(ChildClassType[int](x=1))"
   ]
  },
  {
   "cell_type": "code",
   "execution_count": 61,
   "metadata": {},
   "outputs": [],
   "source": [
    "TypeX = TypeVar(\"TypeX\")\n",
    "TypeY = TypeVar(\"TypeY\")\n",
    "TypeZ = TypeVar(\"TypeZ\")"
   ]
  },
  {
   "cell_type": "code",
   "execution_count": 62,
   "metadata": {},
   "outputs": [],
   "source": [
    "class BaseRootClass(GenericModel, Generic[TypeX, TypeY]):\n",
    "    x: TypeX\n",
    "    y: TypeY"
   ]
  },
  {
   "cell_type": "code",
   "execution_count": 63,
   "metadata": {},
   "outputs": [],
   "source": [
    "class ChildModel(BaseRootClass[int, TypeY], Generic[TypeY, TypeZ]):\n",
    "    z: TypeZ"
   ]
  },
  {
   "cell_type": "code",
   "execution_count": 64,
   "metadata": {},
   "outputs": [
    {
     "name": "stdout",
     "output_type": "stream",
     "text": [
      "x=1 y='y' z=3\n"
     ]
    }
   ],
   "source": [
    "print(ChildModel[str, int](x=1, y=\"y\", z=3))"
   ]
  },
  {
   "cell_type": "code",
   "execution_count": 65,
   "metadata": {},
   "outputs": [],
   "source": [
    "class ResponseConcrete(GenericModel, Generic[DataT]):\n",
    "    data: DataT\n",
    "    \n",
    "    @classmethod\n",
    "    def __concrete_name__(cls: Type[Any], params: Tuple[Type[Any], ...]) -> str:\n",
    "        return f\"{params[0].__name__.title()}Response\""
   ]
  },
  {
   "cell_type": "code",
   "execution_count": 66,
   "metadata": {},
   "outputs": [
    {
     "name": "stdout",
     "output_type": "stream",
     "text": [
      "IntResponse(data=1)\n",
      "StrResponse(data='a')\n"
     ]
    }
   ],
   "source": [
    "print(repr(ResponseConcrete[int](data=1)))\n",
    "print(repr(ResponseConcrete[str](data='a')))"
   ]
  },
  {
   "cell_type": "code",
   "execution_count": 67,
   "metadata": {},
   "outputs": [],
   "source": [
    "T = TypeVar(\"T\")"
   ]
  },
  {
   "cell_type": "code",
   "execution_count": 68,
   "metadata": {},
   "outputs": [],
   "source": [
    "class InnerT(GenericModel, Generic[T]):\n",
    "    inner: T"
   ]
  },
  {
   "cell_type": "code",
   "execution_count": 69,
   "metadata": {},
   "outputs": [],
   "source": [
    "class OuterT(GenericModel, Generic[T]):\n",
    "    outer: T\n",
    "    nested: InnerT[T]"
   ]
  },
  {
   "cell_type": "code",
   "execution_count": 70,
   "metadata": {},
   "outputs": [
    {
     "name": "stdout",
     "output_type": "stream",
     "text": [
      "outer=1 nested=InnerT[int](inner=1)\n"
     ]
    }
   ],
   "source": [
    "nested = InnerT[int](inner=1)\n",
    "print(OuterT[int](outer=1, nested=nested))"
   ]
  },
  {
   "cell_type": "code",
   "execution_count": 71,
   "metadata": {},
   "outputs": [
    {
     "name": "stdout",
     "output_type": "stream",
     "text": [
      "2 validation errors for OuterT[int]\n",
      "outer\n",
      "  value is not a valid integer (type=type_error.integer)\n",
      "nested -> inner\n",
      "  value is not a valid integer (type=type_error.integer)\n"
     ]
    }
   ],
   "source": [
    "try:\n",
    "    nested = InnerT[str](inner=\"a\")\n",
    "    print(OuterT[int](outer=\"a\", nested=nested))\n",
    "except ValidationError as e:\n",
    "    print(e)"
   ]
  },
  {
   "cell_type": "code",
   "execution_count": 72,
   "metadata": {},
   "outputs": [],
   "source": [
    "AT = TypeVar(\"AT\")\n",
    "BT = TypeVar(\"BT\")"
   ]
  },
  {
   "cell_type": "code",
   "execution_count": 73,
   "metadata": {},
   "outputs": [],
   "source": [
    "class RootModel(GenericModel, Generic[AT, BT]):\n",
    "    a: AT\n",
    "    b: BT"
   ]
  },
  {
   "cell_type": "code",
   "execution_count": 74,
   "metadata": {},
   "outputs": [
    {
     "name": "stdout",
     "output_type": "stream",
     "text": [
      "a='a' b='b'\n"
     ]
    }
   ],
   "source": [
    "print(RootModel(a=\"a\", b=\"b\"))"
   ]
  },
  {
   "cell_type": "code",
   "execution_count": 75,
   "metadata": {},
   "outputs": [
    {
     "name": "stdout",
     "output_type": "stream",
     "text": [
      "a=1 b=1\n"
     ]
    }
   ],
   "source": [
    "IntT = TypeVar(\"IntT\", bound=int)\n",
    "typevar_model = RootModel[int, IntT]\n",
    "print(typevar_model(a=1, b=1))"
   ]
  },
  {
   "cell_type": "code",
   "execution_count": 76,
   "metadata": {},
   "outputs": [
    {
     "name": "stdout",
     "output_type": "stream",
     "text": [
      "2 validation errors for RootModel[int, IntT]\n",
      "a\n",
      "  value is not a valid integer (type=type_error.integer)\n",
      "b\n",
      "  value is not a valid integer (type=type_error.integer)\n"
     ]
    }
   ],
   "source": [
    "try:\n",
    "    print(typevar_model(a=\"a\", b=\"a\"))\n",
    "except ValidationError as e:\n",
    "    print(e)"
   ]
  },
  {
   "cell_type": "code",
   "execution_count": 77,
   "metadata": {},
   "outputs": [
    {
     "name": "stdout",
     "output_type": "stream",
     "text": [
      "a=1 b=1\n"
     ]
    }
   ],
   "source": [
    "concrete_model = typevar_model[int]\n",
    "print(concrete_model(a=1, b=1))"
   ]
  },
  {
   "cell_type": "code",
   "execution_count": 79,
   "metadata": {},
   "outputs": [],
   "source": [
    "DynamicFooBar = create_model(\"DynamicFooBarModel\", foo=(str, ...), bar=123)"
   ]
  },
  {
   "cell_type": "code",
   "execution_count": 80,
   "metadata": {},
   "outputs": [],
   "source": [
    "class StaticFooBarModel(BaseModel):\n",
    "    foo: str\n",
    "    bar: int = 123"
   ]
  },
  {
   "cell_type": "code",
   "execution_count": 81,
   "metadata": {},
   "outputs": [],
   "source": [
    "class FooModel(BaseModel):\n",
    "    foo: str\n",
    "    bar: int = 123"
   ]
  },
  {
   "cell_type": "code",
   "execution_count": 82,
   "metadata": {},
   "outputs": [],
   "source": [
    "BarModel = create_model(\n",
    "    \"BarModel\",\n",
    "    apple=\"russet\",\n",
    "    banana=\"yellow\",\n",
    "    __base__=FooModel,\n",
    ")"
   ]
  },
  {
   "cell_type": "code",
   "execution_count": 83,
   "metadata": {},
   "outputs": [
    {
     "name": "stdout",
     "output_type": "stream",
     "text": [
      "BarModel = <class 'pydantic.main.BarModel'>\n",
      "BarModel.__fields__.keys() = dict_keys(['foo', 'bar', 'apple', 'banana'])\n"
     ]
    }
   ],
   "source": [
    "print(f\"{BarModel = }\")\n",
    "print(f\"{BarModel.__fields__.keys() = }\")"
   ]
  },
  {
   "cell_type": "code",
   "execution_count": 84,
   "metadata": {},
   "outputs": [],
   "source": [
    "def username_alphanumeric(cls, v):\n",
    "    assert v.isalnum(), \"must be alphanumeric\"\n",
    "    return v"
   ]
  },
  {
   "cell_type": "code",
   "execution_count": 85,
   "metadata": {},
   "outputs": [],
   "source": [
    "validators = {\"username_validator\": validator(\"username\")(username_alphanumeric)}"
   ]
  },
  {
   "cell_type": "code",
   "execution_count": 86,
   "metadata": {},
   "outputs": [],
   "source": [
    "DynamicUserModel = create_model(\n",
    "    \"DynamicUserModel\",\n",
    "    username=(str, ...),\n",
    "    __validators__=validators,\n",
    ")"
   ]
  },
  {
   "cell_type": "code",
   "execution_count": 87,
   "metadata": {},
   "outputs": [
    {
     "name": "stdout",
     "output_type": "stream",
     "text": [
      "user = DynamicUserModel(username='abdurrakib')\n"
     ]
    }
   ],
   "source": [
    "user = DynamicUserModel(username=\"abdurrakib\")\n",
    "print(f\"{user = }\")"
   ]
  },
  {
   "cell_type": "code",
   "execution_count": 88,
   "metadata": {},
   "outputs": [
    {
     "name": "stdout",
     "output_type": "stream",
     "text": [
      "1 validation error for DynamicUserModel\n",
      "username\n",
      "  must be alphanumeric (type=assertion_error)\n"
     ]
    }
   ],
   "source": [
    "try:\n",
    "    print(f\"{DynamicUserModel(username='rifat%1508') = }\")\n",
    "except ValidationError as e:\n",
    "    print(str(e))"
   ]
  },
  {
   "cell_type": "code",
   "execution_count": null,
   "metadata": {},
   "outputs": [],
   "source": []
  }
 ],
 "metadata": {
  "kernelspec": {
   "display_name": "Python 3.9.6 ('valid-env': venv)",
   "language": "python",
   "name": "python3"
  },
  "language_info": {
   "codemirror_mode": {
    "name": "ipython",
    "version": 3
   },
   "file_extension": ".py",
   "mimetype": "text/x-python",
   "name": "python",
   "nbconvert_exporter": "python",
   "pygments_lexer": "ipython3",
   "version": "3.9.6"
  },
  "orig_nbformat": 4,
  "vscode": {
   "interpreter": {
    "hash": "c2258dd348c4db92d1fc23d9ac751564e58ace9e4e1a4507d6c5b14149e13659"
   }
  }
 },
 "nbformat": 4,
 "nbformat_minor": 2
}
