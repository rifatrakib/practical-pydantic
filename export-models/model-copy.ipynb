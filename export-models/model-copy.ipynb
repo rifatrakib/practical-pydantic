{
 "cells": [
  {
   "attachments": {},
   "cell_type": "markdown",
   "metadata": {},
   "source": [
    "#### `model.copy(...)`\n",
    "\n",
    "`copy()` allows models to be duplicated, which is particularly useful for immutable models.\n",
    "\n",
    "Arguments:\n",
    "\n",
    "* `include`: fields to include in the returned dictionary\n",
    "\n",
    "* `exclude`: fields to exclude from the returned dictionary\n",
    "\n",
    "* `update`: a dictionary of values to change when creating the copied model\n",
    "\n",
    "* `deep`: whether to make a deep copy of the new model; default `False`"
   ]
  },
  {
   "cell_type": "code",
   "execution_count": 1,
   "metadata": {},
   "outputs": [],
   "source": [
    "from pydantic import BaseModel"
   ]
  },
  {
   "cell_type": "code",
   "execution_count": 2,
   "metadata": {},
   "outputs": [],
   "source": [
    "class BarModel(BaseModel):\n",
    "    whatever: int"
   ]
  },
  {
   "cell_type": "code",
   "execution_count": 3,
   "metadata": {},
   "outputs": [],
   "source": [
    "class FooBarModel(BaseModel):\n",
    "    banana: float\n",
    "    foo: str\n",
    "    bar: BarModel"
   ]
  },
  {
   "cell_type": "code",
   "execution_count": 4,
   "metadata": {},
   "outputs": [
    {
     "name": "stdout",
     "output_type": "stream",
     "text": [
      "m.copy(include={'foo', 'bar'}) = FooBarModel(foo='hello', bar=BarModel(whatever=123))\n",
      "m.copy(exclude={'foo', 'bar'}) = FooBarModel(banana=3.14)\n",
      "m.copy(update={'banana': 0}) = FooBarModel(banana=0, foo='hello', bar=BarModel(whatever=123))\n",
      "id(m.bar), (m.copy().bar) = (1513348295360, BarModel(whatever=123))\n",
      "id(m.bar), (m.copy(deep=True).bar) = (1513348295360, BarModel(whatever=123))\n"
     ]
    }
   ],
   "source": [
    "m = FooBarModel(banana=3.14, foo=\"hello\", bar={\"whatever\": 123})\n",
    "\n",
    "print(f\"{m.copy(include={'foo', 'bar'}) = }\")\n",
    "print(f\"{m.copy(exclude={'foo', 'bar'}) = }\")\n",
    "print(f\"{m.copy(update={'banana': 0}) = }\")\n",
    "print(f\"{id(m.bar), (m.copy().bar) = }\")\n",
    "print(f\"{id(m.bar), (m.copy(deep=True).bar) = }\")"
   ]
  },
  {
   "cell_type": "code",
   "execution_count": null,
   "metadata": {},
   "outputs": [],
   "source": []
  }
 ],
 "metadata": {
  "kernelspec": {
   "display_name": "valid-env",
   "language": "python",
   "name": "python3"
  },
  "language_info": {
   "codemirror_mode": {
    "name": "ipython",
    "version": 3
   },
   "file_extension": ".py",
   "mimetype": "text/x-python",
   "name": "python",
   "nbconvert_exporter": "python",
   "pygments_lexer": "ipython3",
   "version": "3.9.6"
  },
  "orig_nbformat": 4,
  "vscode": {
   "interpreter": {
    "hash": "c2258dd348c4db92d1fc23d9ac751564e58ace9e4e1a4507d6c5b14149e13659"
   }
  }
 },
 "nbformat": 4,
 "nbformat_minor": 2
}
