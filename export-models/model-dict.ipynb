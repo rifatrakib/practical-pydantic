{
 "cells": [
  {
   "attachments": {},
   "cell_type": "markdown",
   "metadata": {},
   "source": [
    "#### `model.dict(...)`\n",
    "\n",
    "This is the primary way of converting a model to a dictionary. Sub-models will be recursively converted to dictionaries.\n",
    "\n",
    "Arguments:\n",
    "\n",
    "* `include`: fields to include in the returned dictionary\n",
    "\n",
    "* `exclude`: fields to exclude from the returned dictionary\n",
    "\n",
    "* `by_alias`: whether field aliases should be used as keys in the returned dictionary; default `False`\n",
    "\n",
    "* `exclude_unset`: whether fields which were not explicitly set when creating the model should be excluded from the returned dictionary; default `False`\n",
    "\n",
    "* `exclude_defaults`: whether fields which are equal to their default values (whether set or otherwise) should be excluded from the returned dictionary; default `False`\n",
    "\n",
    "* `exclude_none`: whether fields which are equal to `None` should be excluded from the returned dictionary; default `False`"
   ]
  },
  {
   "cell_type": "code",
   "execution_count": 1,
   "metadata": {},
   "outputs": [],
   "source": [
    "from pydantic import BaseModel"
   ]
  },
  {
   "cell_type": "code",
   "execution_count": 2,
   "metadata": {},
   "outputs": [],
   "source": [
    "class BarModel(BaseModel):\n",
    "    whatever: int"
   ]
  },
  {
   "cell_type": "code",
   "execution_count": 3,
   "metadata": {},
   "outputs": [],
   "source": [
    "class FooBarModel(BaseModel):\n",
    "    banana: float\n",
    "    foo: str\n",
    "    bar: BarModel"
   ]
  },
  {
   "cell_type": "code",
   "execution_count": 4,
   "metadata": {},
   "outputs": [
    {
     "name": "stdout",
     "output_type": "stream",
     "text": [
      "m.dict() = {'banana': 3.14, 'foo': 'hello', 'bar': {'whatever': 123}}\n",
      "m.dict(include={'foo', 'bar'}) = {'foo': 'hello', 'bar': {'whatever': 123}}\n",
      "m.dict(exclude={'foo', 'bar'}) = {'banana': 3.14}\n"
     ]
    }
   ],
   "source": [
    "m = FooBarModel(banana=3.14, foo=\"hello\", bar={\"whatever\": 123})\n",
    "# returns a dictionary:\n",
    "print(f\"{m.dict() = }\")\n",
    "\n",
    "print(f\"{m.dict(include={'foo', 'bar'}) = }\")\n",
    "print(f\"{m.dict(exclude={'foo', 'bar'}) = }\")"
   ]
  },
  {
   "cell_type": "code",
   "execution_count": null,
   "metadata": {},
   "outputs": [],
   "source": []
  }
 ],
 "metadata": {
  "kernelspec": {
   "display_name": "valid-env",
   "language": "python",
   "name": "python3"
  },
  "language_info": {
   "codemirror_mode": {
    "name": "ipython",
    "version": 3
   },
   "file_extension": ".py",
   "mimetype": "text/x-python",
   "name": "python",
   "nbconvert_exporter": "python",
   "pygments_lexer": "ipython3",
   "version": "3.9.6 (tags/v3.9.6:db3ff76, Jun 28 2021, 15:26:21) [MSC v.1929 64 bit (AMD64)]"
  },
  "orig_nbformat": 4,
  "vscode": {
   "interpreter": {
    "hash": "c2258dd348c4db92d1fc23d9ac751564e58ace9e4e1a4507d6c5b14149e13659"
   }
  }
 },
 "nbformat": 4,
 "nbformat_minor": 2
}
