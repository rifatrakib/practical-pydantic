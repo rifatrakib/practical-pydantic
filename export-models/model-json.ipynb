{
 "cells": [
  {
   "attachments": {},
   "cell_type": "markdown",
   "metadata": {},
   "source": [
    "#### `model.json(...)`\n",
    "\n",
    "The `.json()` method will serialise a model to JSON. (For models with a `custom root type`, only the value for the `__root__` key is serialised)\n",
    "\n",
    "Arguments:\n",
    "\n",
    "* `include`: fields to include in the returned dictionary; see below\n",
    "\n",
    "* `exclude`: fields to exclude from the returned dictionary; see below\n",
    "\n",
    "* `by_alias`: whether field aliases should be used as keys in the returned dictionary; default `False`\n",
    "\n",
    "* `exclude_unset`: whether fields which were not set when creating the model and have their \n",
    "default values should be excluded from the returned dictionary; default `False`\n",
    "\n",
    "* `exclude_defaults`: whether fields which are equal to their default values (whether set or otherwise) should be excluded from the returned dictionary; default `False`\n",
    "\n",
    "* `exclude_none`: whether fields which are equal to `None` should be excluded from the returned dictionary; default `False`\n",
    "\n",
    "* encoder: a custom encoder function passed to the `default` argument of `json.dumps()`; defaults to a custom encoder designed to take care of all common types\n",
    "\n",
    "* `**dumps_kwargs`: any other keyword arguments are passed to `json.dumps()`, e.g. `indent`.\n",
    "\n",
    "_pydantic_ can serialise many commonly used types to JSON (e.g. `datetime`, `date` or `UUID`) which would normally fail with a simple `json.dumps(foobar)`."
   ]
  },
  {
   "cell_type": "code",
   "execution_count": 1,
   "metadata": {},
   "outputs": [],
   "source": [
    "import ujson\n",
    "import orjson\n",
    "from pydantic import BaseModel\n",
    "from typing import List, Optional\n",
    "from pydantic.json import timedelta_isoformat\n",
    "from pydantic.validators import int_validator\n",
    "from datetime import date, datetime, timedelta"
   ]
  },
  {
   "cell_type": "code",
   "execution_count": 2,
   "metadata": {},
   "outputs": [],
   "source": [
    "class BarModel(BaseModel):\n",
    "    whatever: int"
   ]
  },
  {
   "cell_type": "code",
   "execution_count": 3,
   "metadata": {},
   "outputs": [],
   "source": [
    "class FooBarModel(BaseModel):\n",
    "    foo: datetime\n",
    "    bar: BarModel"
   ]
  },
  {
   "cell_type": "code",
   "execution_count": 4,
   "metadata": {},
   "outputs": [
    {
     "name": "stdout",
     "output_type": "stream",
     "text": [
      "m.json() = '{\"foo\": \"2032-06-01T12:13:14\", \"bar\": {\"whatever\": 123}}'\n"
     ]
    }
   ],
   "source": [
    "m = FooBarModel(foo=datetime(2032, 6, 1, 12, 13, 14), bar={\"whatever\": 123})\n",
    "print(f\"{m.json() = }\")"
   ]
  },
  {
   "attachments": {},
   "cell_type": "markdown",
   "metadata": {},
   "source": [
    "##### `json_encoders`\n",
    "\n",
    "Serialisation can be customised on a model using the `json_encoders` config property; the keys should be types (or names of types for forward references), and the values should be functions which serialise that type."
   ]
  },
  {
   "cell_type": "code",
   "execution_count": 5,
   "metadata": {},
   "outputs": [],
   "source": [
    "class WithCustomEncoders(BaseModel):\n",
    "    dt: datetime\n",
    "    diff: timedelta\n",
    "\n",
    "    class Config:\n",
    "        json_encoders = {\n",
    "            datetime: lambda v: v.timestamp(),\n",
    "            timedelta: timedelta_isoformat,\n",
    "        }"
   ]
  },
  {
   "cell_type": "code",
   "execution_count": 6,
   "metadata": {},
   "outputs": [
    {
     "name": "stdout",
     "output_type": "stream",
     "text": [
      "m.json() = '{\"dt\": 1969639200.0, \"diff\": \"P4DT4H0M0.000000S\"}'\n"
     ]
    }
   ],
   "source": [
    "m = WithCustomEncoders(dt=datetime(2032, 6, 1), diff=timedelta(hours=100))\n",
    "print(f\"{m.json() = }\")"
   ]
  },
  {
   "attachments": {},
   "cell_type": "markdown",
   "metadata": {},
   "source": [
    "By default, `timedelta` is encoded as a simple float of total seconds. The `timedelta_isoformat` is provided as an optional alternative which implements `ISO 8601` time diff encoding.\n",
    "\n",
    "The `json_encoders` are also merged during the models inheritance with the child encoders taking precedence over the parent one."
   ]
  },
  {
   "cell_type": "code",
   "execution_count": 7,
   "metadata": {},
   "outputs": [],
   "source": [
    "class BaseClassWithEncoders(BaseModel):\n",
    "    dt: datetime\n",
    "    diff: timedelta\n",
    "\n",
    "    class Config:\n",
    "        json_encoders = {\n",
    "            datetime: lambda v: v.timestamp()\n",
    "        }"
   ]
  },
  {
   "cell_type": "code",
   "execution_count": 8,
   "metadata": {},
   "outputs": [],
   "source": [
    "class ChildClassWithEncoders(BaseClassWithEncoders):\n",
    "    class Config:\n",
    "        json_encoders = {\n",
    "            timedelta: timedelta_isoformat\n",
    "        }"
   ]
  },
  {
   "cell_type": "code",
   "execution_count": 9,
   "metadata": {},
   "outputs": [
    {
     "name": "stdout",
     "output_type": "stream",
     "text": [
      "m.json() = '{\"dt\": 1969639200.0, \"diff\": \"P4DT4H0M0.000000S\"}'\n"
     ]
    }
   ],
   "source": [
    "m = ChildClassWithEncoders(dt=datetime(2032, 6, 1), diff=timedelta(hours=100))\n",
    "print(f\"{m.json() = }\")"
   ]
  },
  {
   "attachments": {},
   "cell_type": "markdown",
   "metadata": {},
   "source": [
    "##### Serialising self-reference or other models\n",
    "\n",
    "By default, models are serialised as dictionaries. If you want to serialise them differently, you can add `models_as_dict=False` when calling `json()` method and add the classes of the model in `json_encoders`. In case of forward references, you can use a string with the class name instead of the class itself."
   ]
  },
  {
   "cell_type": "code",
   "execution_count": 10,
   "metadata": {},
   "outputs": [],
   "source": [
    "class Address(BaseModel):\n",
    "    city: str\n",
    "    country: str"
   ]
  },
  {
   "cell_type": "code",
   "execution_count": 11,
   "metadata": {},
   "outputs": [],
   "source": [
    "class User(BaseModel):\n",
    "    name: str\n",
    "    address: Address\n",
    "    friends: Optional[List[\"User\"]] = None\n",
    "\n",
    "    class Config:\n",
    "        json_encoders = {\n",
    "            Address: lambda a: f\"{a.city} ({a.country})\",\n",
    "            \"User\": lambda u: f\"{u.name} in {u.address.city} \"\n",
    "                f\"({u.address.country[:2].upper()})\",\n",
    "        }"
   ]
  },
  {
   "cell_type": "code",
   "execution_count": 12,
   "metadata": {},
   "outputs": [],
   "source": [
    "User.update_forward_refs()"
   ]
  },
  {
   "cell_type": "code",
   "execution_count": 13,
   "metadata": {},
   "outputs": [
    {
     "name": "stdout",
     "output_type": "stream",
     "text": [
      "wolfgang.json(models_as_dict=False) = '{\"name\": \"Wolfgang\", \"address\": \"Berlin (Deutschland)\", \"friends\": [\"Pierre in Paris (FR)\", \"John in London (UK)\"]}'\n"
     ]
    }
   ],
   "source": [
    "wolfgang = User(\n",
    "    name=\"Wolfgang\",\n",
    "    address=Address(city=\"Berlin\", country=\"Deutschland\"),\n",
    "    friends=[\n",
    "        User(name=\"Pierre\", address=Address(city=\"Paris\", country=\"France\")),\n",
    "        User(name=\"John\", address=Address(city=\"London\", country=\"UK\")),\n",
    "    ],\n",
    ")\n",
    "print(f\"{wolfgang.json(models_as_dict=False) = }\")"
   ]
  },
  {
   "attachments": {},
   "cell_type": "markdown",
   "metadata": {},
   "source": [
    "##### Serialising subclasses\n",
    "\n",
    "Subclasses of common types are automatically encoded like their super-classes."
   ]
  },
  {
   "cell_type": "code",
   "execution_count": 14,
   "metadata": {},
   "outputs": [],
   "source": [
    "class DayThisYear(date):\n",
    "    \"\"\"\n",
    "    Contrived example of a special type of date that\n",
    "    takes an int and interprets it as a day in the current year\n",
    "    \"\"\"\n",
    "\n",
    "    @classmethod\n",
    "    def __get_validators__(cls):\n",
    "        yield int_validator\n",
    "        yield cls.validate\n",
    "\n",
    "    @classmethod\n",
    "    def validate(cls, v: int):\n",
    "        return date.today().replace(month=1, day=1) + timedelta(days=v)"
   ]
  },
  {
   "cell_type": "code",
   "execution_count": 15,
   "metadata": {},
   "outputs": [],
   "source": [
    "class FooModel(BaseModel):\n",
    "    date: DayThisYear"
   ]
  },
  {
   "cell_type": "code",
   "execution_count": 16,
   "metadata": {},
   "outputs": [
    {
     "name": "stdout",
     "output_type": "stream",
     "text": [
      "m.json() = '{\"date\": \"2023-10-28\"}'\n"
     ]
    }
   ],
   "source": [
    "m = FooModel(date=300)\n",
    "print(f\"{m.json() = }\")"
   ]
  },
  {
   "attachments": {},
   "cell_type": "markdown",
   "metadata": {},
   "source": [
    "##### Custom JSON (de)serialisation\n",
    "\n",
    "To improve the performance of encoding and decoding JSON, alternative JSON implementations (e.g. `ujson`) can be used via the `json_loads` and `json_dumps` properties of `Config`."
   ]
  },
  {
   "cell_type": "code",
   "execution_count": 17,
   "metadata": {},
   "outputs": [],
   "source": [
    "class UjsonUser(BaseModel):\n",
    "    id: int\n",
    "    name = \"John Doe\"\n",
    "    signup_ts: datetime = None\n",
    "\n",
    "    class Config:\n",
    "        json_loads = ujson.loads"
   ]
  },
  {
   "cell_type": "code",
   "execution_count": 18,
   "metadata": {},
   "outputs": [
    {
     "name": "stdout",
     "output_type": "stream",
     "text": [
      "user = UjsonUser(id=123, signup_ts=datetime.datetime(2009, 2, 13, 23, 31, 30, tzinfo=datetime.timezone.utc), name='John Doe')\n"
     ]
    }
   ],
   "source": [
    "user = UjsonUser.parse_raw('{\"id\": 123,\"signup_ts\":1234567890,\"name\":\"John Doe\"}')\n",
    "print(f\"{user = }\")"
   ]
  },
  {
   "attachments": {},
   "cell_type": "markdown",
   "metadata": {},
   "source": [
    "`ujson` generally cannot be used to dump JSON since it doesn't support encoding of objects like datetimes and does not accept a `default` fallback function argument. To do this, you may use another library like `orjson`."
   ]
  },
  {
   "cell_type": "code",
   "execution_count": 19,
   "metadata": {},
   "outputs": [],
   "source": [
    "def orjson_dumps(v, *, default):\n",
    "    # orjson.dumps returns bytes, to match standard json.dumps we need to decode\n",
    "    return orjson.dumps(v, default=default).decode()"
   ]
  },
  {
   "cell_type": "code",
   "execution_count": 20,
   "metadata": {},
   "outputs": [],
   "source": [
    "class OrjsonUser(BaseModel):\n",
    "    id: int\n",
    "    name = \"John Doe\"\n",
    "    signup_ts: datetime = None\n",
    "\n",
    "    class Config:\n",
    "        json_loads = orjson.loads\n",
    "        json_dumps = orjson_dumps"
   ]
  },
  {
   "cell_type": "code",
   "execution_count": 21,
   "metadata": {},
   "outputs": [
    {
     "name": "stdout",
     "output_type": "stream",
     "text": [
      "user.json() = '{\"id\":123,\"signup_ts\":\"2009-02-13T23:31:30+00:00\",\"name\":\"John Doe\"}'\n"
     ]
    }
   ],
   "source": [
    "user = OrjsonUser.parse_raw('{\"id\":123,\"signup_ts\":1234567890,\"name\":\"John Doe\"}')\n",
    "print(f\"{user.json() = }\")"
   ]
  },
  {
   "attachments": {},
   "cell_type": "markdown",
   "metadata": {},
   "source": [
    "Note that `orjson` takes care of `datetime` encoding natively, making it faster than `json.dumps` but meaning you cannot always customise the encoding using `Config.json_encoders`."
   ]
  },
  {
   "cell_type": "code",
   "execution_count": null,
   "metadata": {},
   "outputs": [],
   "source": []
  }
 ],
 "metadata": {
  "kernelspec": {
   "display_name": "valid-env",
   "language": "python",
   "name": "python3"
  },
  "language_info": {
   "codemirror_mode": {
    "name": "ipython",
    "version": 3
   },
   "file_extension": ".py",
   "mimetype": "text/x-python",
   "name": "python",
   "nbconvert_exporter": "python",
   "pygments_lexer": "ipython3",
   "version": "3.9.6"
  },
  "orig_nbformat": 4,
  "vscode": {
   "interpreter": {
    "hash": "c2258dd348c4db92d1fc23d9ac751564e58ace9e4e1a4507d6c5b14149e13659"
   }
  }
 },
 "nbformat": 4,
 "nbformat_minor": 2
}
