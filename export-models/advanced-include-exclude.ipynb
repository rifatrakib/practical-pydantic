{
 "cells": [
  {
   "attachments": {},
   "cell_type": "markdown",
   "metadata": {},
   "source": [
    "#### Advanced include and exclude\n",
    "\n",
    "The `dict`, `json`, and `copy` methods support `include` and `exclude` arguments which can either be sets or dictionaries. This allows nested selection of which fields to export."
   ]
  },
  {
   "cell_type": "code",
   "execution_count": 1,
   "metadata": {},
   "outputs": [],
   "source": [
    "import datetime\n",
    "from typing import List\n",
    "from pydantic import BaseModel, Field, SecretStr"
   ]
  },
  {
   "cell_type": "code",
   "execution_count": 2,
   "metadata": {},
   "outputs": [],
   "source": [
    "class User(BaseModel):\n",
    "    id: int\n",
    "    username: str\n",
    "    password: SecretStr"
   ]
  },
  {
   "cell_type": "code",
   "execution_count": 3,
   "metadata": {},
   "outputs": [],
   "source": [
    "class Transaction(BaseModel):\n",
    "    id: str\n",
    "    user: User\n",
    "    value: int"
   ]
  },
  {
   "cell_type": "code",
   "execution_count": 4,
   "metadata": {},
   "outputs": [],
   "source": [
    "t = Transaction(\n",
    "    id=\"1234567890\",\n",
    "    user=User(\n",
    "        id=42,\n",
    "        username=\"JohnDoe\",\n",
    "        password=\"hashedpassword\",\n",
    "    ),\n",
    "    value=9876543210,\n",
    ")"
   ]
  },
  {
   "cell_type": "code",
   "execution_count": 5,
   "metadata": {},
   "outputs": [
    {
     "name": "stdout",
     "output_type": "stream",
     "text": [
      "t.dict(exclude={'user', 'value'}) = {'id': '1234567890'}\n"
     ]
    }
   ],
   "source": [
    "# using a set:\n",
    "print(f\"{t.dict(exclude={'user', 'value'}) = }\")"
   ]
  },
  {
   "cell_type": "code",
   "execution_count": 6,
   "metadata": {},
   "outputs": [
    {
     "name": "stdout",
     "output_type": "stream",
     "text": [
      "t.dict(exclude={'user': {'username', 'password'}, 'value': True}) = {'id': '1234567890', 'user': {'id': 42}}\n"
     ]
    }
   ],
   "source": [
    "# using a dict:\n",
    "print(f\"{t.dict(exclude={'user': {'username', 'password'}, 'value': True}) = }\")"
   ]
  },
  {
   "cell_type": "code",
   "execution_count": 7,
   "metadata": {},
   "outputs": [
    {
     "name": "stdout",
     "output_type": "stream",
     "text": [
      "t.dict(include={'id': True, 'user': {'id'}}) = {'id': '1234567890', 'user': {'id': 42}}\n"
     ]
    }
   ],
   "source": [
    "print(f\"{t.dict(include={'id': True, 'user': {'id'}}) = }\")"
   ]
  },
  {
   "attachments": {},
   "cell_type": "markdown",
   "metadata": {},
   "source": [
    "The `True` indicates that we want to exclude or include an entire key, just as if we included it in a set. Of course, the same can be done at any depth level.\n",
    "\n",
    "Special care must be taken when including or excluding fields from a list or tuple of submodels or dictionaries. In this scenario, `dict` and related methods expect integer keys for element-wise inclusion or exclusion. To exclude a field from **every** member of a list or tuple, the dictionary key `\"__all__\"` can be used."
   ]
  },
  {
   "cell_type": "code",
   "execution_count": 8,
   "metadata": {},
   "outputs": [],
   "source": [
    "class Country(BaseModel):\n",
    "    name: str\n",
    "    phone_code: int"
   ]
  },
  {
   "cell_type": "code",
   "execution_count": 9,
   "metadata": {},
   "outputs": [],
   "source": [
    "class Address(BaseModel):\n",
    "    post_code: int\n",
    "    country: Country"
   ]
  },
  {
   "cell_type": "code",
   "execution_count": 10,
   "metadata": {},
   "outputs": [],
   "source": [
    "class CardDetails(BaseModel):\n",
    "    number: SecretStr\n",
    "    expires: datetime.date"
   ]
  },
  {
   "cell_type": "code",
   "execution_count": 11,
   "metadata": {},
   "outputs": [],
   "source": [
    "class Hobby(BaseModel):\n",
    "    name: str\n",
    "    info: str"
   ]
  },
  {
   "cell_type": "code",
   "execution_count": 12,
   "metadata": {},
   "outputs": [],
   "source": [
    "class ComplexUser(BaseModel):\n",
    "    first_name: str\n",
    "    second_name: str\n",
    "    address: Address\n",
    "    card_details: CardDetails\n",
    "    hobbies: List[Hobby]"
   ]
  },
  {
   "cell_type": "code",
   "execution_count": 13,
   "metadata": {},
   "outputs": [],
   "source": [
    "user = ComplexUser(\n",
    "    first_name=\"John\",\n",
    "    second_name=\"Doe\",\n",
    "    address=Address(\n",
    "        post_code=123456,\n",
    "        country=Country(\n",
    "            name=\"USA\",\n",
    "            phone_code=1\n",
    "        )\n",
    "    ),\n",
    "    card_details=CardDetails(\n",
    "        number=4212934504460000,\n",
    "        expires=datetime.date(2020, 5, 1)\n",
    "    ),\n",
    "    hobbies=[\n",
    "        Hobby(name=\"Programming\", info=\"Writing code and stuff\"),\n",
    "        Hobby(name=\"Gaming\", info=\"Hell Yeah!!!\"),\n",
    "    ],\n",
    ")"
   ]
  },
  {
   "cell_type": "code",
   "execution_count": 14,
   "metadata": {},
   "outputs": [],
   "source": [
    "exclude_keys = {\n",
    "    \"second_name\": True,\n",
    "    \"address\": {\"post_code\": True, \"country\": {\"phone_code\"}},\n",
    "    \"card_details\": True,\n",
    "    # You can exclude fields from specific members of a tuple/list by index:\n",
    "    \"hobbies\": {-1: {\"info\"}},\n",
    "}"
   ]
  },
  {
   "cell_type": "code",
   "execution_count": 15,
   "metadata": {},
   "outputs": [],
   "source": [
    "include_keys = {\n",
    "    \"first_name\": True,\n",
    "    \"address\": {\"country\": {\"name\"}},\n",
    "    \"hobbies\": {0: True, -1: {\"name\"}},\n",
    "}"
   ]
  },
  {
   "cell_type": "code",
   "execution_count": 16,
   "metadata": {},
   "outputs": [
    {
     "name": "stdout",
     "output_type": "stream",
     "text": [
      "user.dict(include=include_keys) = {'first_name': 'John', 'address': {'country': {'name': 'USA'}}, 'hobbies': [{'name': 'Programming', 'info': 'Writing code and stuff'}, {'name': 'Gaming'}]}\n",
      "user.dict(exclude={'hobbies': {'__all__': {'info'}}}) = {'first_name': 'John', 'second_name': 'Doe', 'address': {'post_code': 123456, 'country': {'name': 'USA', 'phone_code': 1}}, 'card_details': {'number': SecretStr('**********'), 'expires': datetime.date(2020, 5, 1)}, 'hobbies': [{'name': 'Programming'}, {'name': 'Gaming'}]}\n"
     ]
    }
   ],
   "source": [
    "print(f\"{user.dict(include=include_keys) = }\")\n",
    "print(f\"{user.dict(exclude={'hobbies': {'__all__': {'info'}}}) = }\")"
   ]
  },
  {
   "attachments": {},
   "cell_type": "markdown",
   "metadata": {},
   "source": [
    "The same holds for the `json` and `copy` methods."
   ]
  },
  {
   "attachments": {},
   "cell_type": "markdown",
   "metadata": {},
   "source": [
    "##### Model and field level include and exclude\n",
    "\n",
    "In addition to the explicit arguments `exclude` and `include` passed to `dict`, `json` and `copy` methods, we can also pass the `include/exclude` arguments directly to the `Field` constructor or the equivalent `field` entry in the models `Config` class."
   ]
  },
  {
   "cell_type": "code",
   "execution_count": 17,
   "metadata": {},
   "outputs": [],
   "source": [
    "class UserWithConfig(BaseModel):\n",
    "    id: int\n",
    "    username: str\n",
    "    password: SecretStr = Field(..., exclude=True)"
   ]
  },
  {
   "cell_type": "code",
   "execution_count": 18,
   "metadata": {},
   "outputs": [],
   "source": [
    "class TransactionWithConfig(BaseModel):\n",
    "    id: str\n",
    "    user: UserWithConfig = Field(..., exclude={\"username\"})\n",
    "    value: int\n",
    "\n",
    "    class Config:\n",
    "        fields = {\"value\": {\"exclude\": True}}"
   ]
  },
  {
   "cell_type": "code",
   "execution_count": 19,
   "metadata": {},
   "outputs": [
    {
     "name": "stdout",
     "output_type": "stream",
     "text": [
      "t.dict() = {'id': '1234567890', 'user': {'id': 42}}\n"
     ]
    }
   ],
   "source": [
    "t = TransactionWithConfig(\n",
    "    id=\"1234567890\",\n",
    "    user=UserWithConfig(\n",
    "        id=42,\n",
    "        username=\"JohnDoe\",\n",
    "        password=\"hashedpassword\",\n",
    "    ),\n",
    "    value=9876543210,\n",
    ")\n",
    "print(f\"{t.dict() = }\")"
   ]
  },
  {
   "attachments": {},
   "cell_type": "markdown",
   "metadata": {},
   "source": [
    "In the case where multiple strategies are used, `exclude/include` fields are merged according to the following rules:\n",
    "\n",
    "* First, model config level settings (via `\"fields\"` entry) are merged per field with the field constructor settings (i.e. `Field(..., exclude=True)`), with the field constructor taking priority.\n",
    "\n",
    "* The resulting settings are merged per class with the explicit settings on `dict`, `json`, `copy` calls with the explicit settings taking priority.\n",
    "\n",
    "Note that while merging settings, `exclude` entries are merged by computing the \"union\" of keys, while `include` entries are merged by computing the \"intersection\" of keys.\n",
    "\n",
    "The resulting merged exclude settings:"
   ]
  },
  {
   "cell_type": "code",
   "execution_count": 20,
   "metadata": {},
   "outputs": [],
   "source": [
    "class UserMergedExclude(BaseModel):\n",
    "    id: int\n",
    "    username: str  # overridden by explicit exclude\n",
    "    password: SecretStr = Field(exclude=True)"
   ]
  },
  {
   "cell_type": "code",
   "execution_count": 21,
   "metadata": {},
   "outputs": [],
   "source": [
    "class TransactionMergedExclude(BaseModel):\n",
    "    id: str\n",
    "    user: UserMergedExclude\n",
    "    value: int"
   ]
  },
  {
   "cell_type": "code",
   "execution_count": 22,
   "metadata": {},
   "outputs": [
    {
     "name": "stdout",
     "output_type": "stream",
     "text": [
      "t.dict(exclude={'value': True, 'user': {'username'}}) = {'id': '1234567890', 'user': {'id': 42}}\n"
     ]
    }
   ],
   "source": [
    "t = TransactionMergedExclude(\n",
    "    id=\"1234567890\",\n",
    "    user=UserMergedExclude(\n",
    "        id=42,\n",
    "        username=\"JohnDoe\",\n",
    "        password=\"hashedpassword\",\n",
    "    ),\n",
    "    value=9876543210,\n",
    ")\n",
    "print(f\"{t.dict(exclude={'value': True, 'user': {'username'}}) = }\")"
   ]
  },
  {
   "attachments": {},
   "cell_type": "markdown",
   "metadata": {},
   "source": [
    "are the same as using merged include settings as follows:"
   ]
  },
  {
   "cell_type": "code",
   "execution_count": 23,
   "metadata": {},
   "outputs": [],
   "source": [
    "class UserMergedInclude(BaseModel):\n",
    "    id: int = Field(..., include=True)\n",
    "    username: str = Field(..., include=True)  # overridden by explicit include\n",
    "    password: SecretStr"
   ]
  },
  {
   "cell_type": "code",
   "execution_count": 24,
   "metadata": {},
   "outputs": [],
   "source": [
    "class TransactionMergedInclude(BaseModel):\n",
    "    id: str\n",
    "    user: UserMergedInclude\n",
    "    value: int"
   ]
  },
  {
   "cell_type": "code",
   "execution_count": 25,
   "metadata": {},
   "outputs": [
    {
     "name": "stdout",
     "output_type": "stream",
     "text": [
      "t.dict(include={'id': True, 'user': {'id'}}) = {'id': '1234567890', 'user': {'id': 42}}\n"
     ]
    }
   ],
   "source": [
    "t = TransactionMergedInclude(\n",
    "    id=\"1234567890\",\n",
    "    user=UserMergedInclude(\n",
    "        id=42,\n",
    "        username=\"JohnDoe\",\n",
    "        password=\"hashedpassword\",\n",
    "    ),\n",
    "    value=9876543210,\n",
    ")\n",
    "print(f\"{t.dict(include={'id': True, 'user': {'id'}}) = }\")"
   ]
  },
  {
   "cell_type": "code",
   "execution_count": null,
   "metadata": {},
   "outputs": [],
   "source": []
  }
 ],
 "metadata": {
  "kernelspec": {
   "display_name": "valid-env",
   "language": "python",
   "name": "python3"
  },
  "language_info": {
   "codemirror_mode": {
    "name": "ipython",
    "version": 3
   },
   "file_extension": ".py",
   "mimetype": "text/x-python",
   "name": "python",
   "nbconvert_exporter": "python",
   "pygments_lexer": "ipython3",
   "version": "3.9.6"
  },
  "orig_nbformat": 4,
  "vscode": {
   "interpreter": {
    "hash": "c2258dd348c4db92d1fc23d9ac751564e58ace9e4e1a4507d6c5b14149e13659"
   }
  }
 },
 "nbformat": 4,
 "nbformat_minor": 2
}
