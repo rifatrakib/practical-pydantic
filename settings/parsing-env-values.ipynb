{
 "cells": [
  {
   "attachments": {},
   "cell_type": "markdown",
   "metadata": {},
   "source": [
    "#### Parsing environment variable values\n",
    "\n",
    "For most simple field types (such as `int`, `float`, `str`, etc.), the environment variable value is parsed the same way it would be if passed directly to the initialiser (as a string).\n",
    "\n",
    "Complex types like `list`, `set`, `dict`, and sub-models are populated from the environment by treating the environment variable's value as a JSON-encoded string.\n",
    "\n",
    "Another way to populate nested complex variables is to configure your model with the `env_nested_delimiter` config setting, then use an env variable with a name pointing to the nested module fields. What it does is simply explodes your variable into nested models or dicts. So if you define a variable `FOO__BAR__BAZ=123` it will convert it into `FOO={\"BAR\": {\"BAZ\": 123}}` If you have multiple variables with the same structure they will be merged."
   ]
  },
  {
   "cell_type": "code",
   "execution_count": 1,
   "metadata": {},
   "outputs": [],
   "source": [
    "import os\n",
    "from typing import Any, List\n",
    "from pydantic import BaseModel, BaseSettings"
   ]
  },
  {
   "cell_type": "code",
   "execution_count": 2,
   "metadata": {},
   "outputs": [],
   "source": [
    "class DeepSubModel(BaseModel):\n",
    "    v4: str"
   ]
  },
  {
   "cell_type": "code",
   "execution_count": 3,
   "metadata": {},
   "outputs": [],
   "source": [
    "class SubModel(BaseModel):\n",
    "    v1: str\n",
    "    v2: bytes\n",
    "    v3: int\n",
    "    deep: DeepSubModel"
   ]
  },
  {
   "cell_type": "code",
   "execution_count": 4,
   "metadata": {},
   "outputs": [],
   "source": [
    "class Settings(BaseSettings):\n",
    "    v0: str\n",
    "    sub_model: SubModel\n",
    "\n",
    "    class Config:\n",
    "        env_nested_delimiter = \"__\""
   ]
  },
  {
   "cell_type": "code",
   "execution_count": 5,
   "metadata": {},
   "outputs": [],
   "source": [
    "os.environ[\"V0\"] = \"0\"\n",
    "os.environ[\"SUB_MODEL\"] = '{\"v1\": \"json-1\", \"v2\": \"json-2\"}'\n",
    "os.environ[\"SUB_MODEL__V2\"] = \"nested-2\"\n",
    "os.environ[\"SUB_MODEL__V3\"] = \"3\"\n",
    "os.environ[\"SUB_MODEL__DEEP__V4\"] = \"v4\""
   ]
  },
  {
   "cell_type": "code",
   "execution_count": 6,
   "metadata": {},
   "outputs": [
    {
     "name": "stdout",
     "output_type": "stream",
     "text": [
      "{'v0': '0', 'sub_model': {'v1': 'json-1', 'v2': b'nested-2', 'v3': 3, 'deep': {'v4': 'v4'}}}\n"
     ]
    }
   ],
   "source": [
    "print(Settings().dict())"
   ]
  },
  {
   "attachments": {},
   "cell_type": "markdown",
   "metadata": {},
   "source": [
    "`env_nested_delimiter` can be configured via the `Config` class as shown above, or via the `_env_nested_delimiter` keyword argument on instantiation.\n",
    "\n",
    "JSON is only parsed in top-level fields, if you need to parse JSON in sub-models, you will need to implement validators on those models.\n",
    "\n",
    "Nested environment variables take precedence over the top-level environment variable JSON (e.g. in the example above, `SUB_MODEL__V2` trumps `SUB_MODEL`).\n",
    "\n",
    "You may also populate a complex type by providing your own parsing function to the `parse_env_var` classmethod in the Config object."
   ]
  },
  {
   "cell_type": "code",
   "execution_count": 7,
   "metadata": {},
   "outputs": [],
   "source": [
    "class NestedSettings(BaseSettings):\n",
    "    numbers: List[int]\n",
    "\n",
    "    class Config:\n",
    "        @classmethod\n",
    "        def parse_env_var(cls, field_name: str, raw_val: str) -> Any:\n",
    "            if field_name == \"numbers\":\n",
    "                return [int(x) for x in raw_val.split(\",\")]\n",
    "            return cls.json_loads(raw_val)"
   ]
  },
  {
   "cell_type": "code",
   "execution_count": 8,
   "metadata": {},
   "outputs": [
    {
     "name": "stdout",
     "output_type": "stream",
     "text": [
      "{'numbers': [1, 2, 3]}\n"
     ]
    }
   ],
   "source": [
    "os.environ[\"numbers\"] = \"1,2,3\"\n",
    "print(NestedSettings().dict())"
   ]
  },
  {
   "cell_type": "code",
   "execution_count": null,
   "metadata": {},
   "outputs": [],
   "source": []
  }
 ],
 "metadata": {
  "kernelspec": {
   "display_name": "valid-env",
   "language": "python",
   "name": "python3"
  },
  "language_info": {
   "codemirror_mode": {
    "name": "ipython",
    "version": 3
   },
   "file_extension": ".py",
   "mimetype": "text/x-python",
   "name": "python",
   "nbconvert_exporter": "python",
   "pygments_lexer": "ipython3",
   "version": "3.9.6"
  },
  "orig_nbformat": 4,
  "vscode": {
   "interpreter": {
    "hash": "c2258dd348c4db92d1fc23d9ac751564e58ace9e4e1a4507d6c5b14149e13659"
   }
  }
 },
 "nbformat": 4,
 "nbformat_minor": 2
}
