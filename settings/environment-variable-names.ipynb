{
 "cells": [
  {
   "attachments": {},
   "cell_type": "markdown",
   "metadata": {},
   "source": [
    "#### Environment variable names\n",
    "\n",
    "The following rules are used to determine which environment variable(s) are read for a given field:\n",
    "\n",
    "* By default, the environment variable name is built by concatenating the prefix and field name.\n",
    "\n",
    "    * For example, to override `special_function`, you could use:\n",
    "\n",
    "    ```\n",
    "    export my_prefix_special_function=\"foo.bar\"\n",
    "    ```\n",
    "\n",
    "    * Note 1: The default prefix is an empty string.\n",
    "\n",
    "    * Note 2: Field aliases are ignored when building the environment variable name.\n",
    "\n",
    "* Custom environment variable names can be set in two ways:\n",
    "\n",
    "    * `Config.fields[\"field_name\"][\"env\"]` (see `auth_key` and `redis_dsn` in basics)\n",
    "\n",
    "    * `Field(..., env=...)` (see `api_key` in basics)\n",
    "\n",
    "* When specifying custom environment variable names, either a string or a list of strings may be provided.\n",
    "\n",
    "    * When specifying a list of strings, order matters: the first detected value is used.\n",
    "\n",
    "    * For example, for `redis_dsn` in basics, `service_redis_dsn` would take precedence over `redis_url`.\n",
    "\n",
    "Case-sensitivity can be turned on through the `Config`."
   ]
  },
  {
   "cell_type": "code",
   "execution_count": 1,
   "metadata": {},
   "outputs": [],
   "source": [
    "from pydantic import BaseSettings"
   ]
  },
  {
   "cell_type": "code",
   "execution_count": 2,
   "metadata": {},
   "outputs": [],
   "source": [
    "class Settings(BaseSettings):\n",
    "    redis_host = \"localhost\"\n",
    "\n",
    "    class Config:\n",
    "        case_sensitive = True"
   ]
  },
  {
   "attachments": {},
   "cell_type": "markdown",
   "metadata": {},
   "source": [
    "When `case_sensitive` is `True`, the environment variable names must match field names (optionally with a prefix), so in this example `redis_host` could only be modified via `export redis_host`. If you want to name environment variables all upper-case, you should name attribute all upper-case too. You can still name environment variables anything you like through `Field(..., env=...)`.\n",
    "\n",
    "In Pydantic __v1__ `case_sensitive` is `False` by default and all variable names are converted to lower-case internally. If you want to define upper-case variable names on nested models like `SubModel` you have to set `case_sensitive=True` to disable this behaviour."
   ]
  },
  {
   "cell_type": "code",
   "execution_count": null,
   "metadata": {},
   "outputs": [],
   "source": []
  }
 ],
 "metadata": {
  "kernelspec": {
   "display_name": "valid-env",
   "language": "python",
   "name": "python3"
  },
  "language_info": {
   "codemirror_mode": {
    "name": "ipython",
    "version": 3
   },
   "file_extension": ".py",
   "mimetype": "text/x-python",
   "name": "python",
   "nbconvert_exporter": "python",
   "pygments_lexer": "ipython3",
   "version": "3.9.6"
  },
  "orig_nbformat": 4,
  "vscode": {
   "interpreter": {
    "hash": "c2258dd348c4db92d1fc23d9ac751564e58ace9e4e1a4507d6c5b14149e13659"
   }
  }
 },
 "nbformat": 4,
 "nbformat_minor": 2
}
