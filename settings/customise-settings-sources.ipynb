{
 "cells": [
  {
   "attachments": {},
   "cell_type": "markdown",
   "metadata": {},
   "source": [
    "#### Customise settings sources\n",
    "\n",
    "If the default order of priority doesn't match your needs, it's possible to change it by overriding the `customise_sources` method on the `Config` class of your `Settings`.\n",
    "\n",
    "`customise_sources` takes three callables as arguments and returns any number of callables as a tuple. In turn these callables are called to build the inputs to the fields of the settings class.\n",
    "\n",
    "Each callable should take an instance of the settings class as its sole argument and return a `dict`."
   ]
  },
  {
   "attachments": {},
   "cell_type": "markdown",
   "metadata": {},
   "source": [
    "##### Changing Priority\n",
    "\n",
    "The order of the returned callables decides the priority of inputs; first item is the highest priority."
   ]
  },
  {
   "cell_type": "code",
   "execution_count": 1,
   "metadata": {},
   "outputs": [],
   "source": [
    "import os\n",
    "import json\n",
    "from pathlib import Path\n",
    "from typing import Tuple, Dict, Any\n",
    "from pydantic import BaseSettings, PostgresDsn\n",
    "from pydantic.env_settings import SettingsSourceCallable"
   ]
  },
  {
   "cell_type": "code",
   "execution_count": 2,
   "metadata": {},
   "outputs": [],
   "source": [
    "class Settings(BaseSettings):\n",
    "    database_dsn: PostgresDsn\n",
    "\n",
    "    class Config:\n",
    "        @classmethod\n",
    "        def customise_sources(\n",
    "            cls,\n",
    "            init_settings: SettingsSourceCallable,\n",
    "            env_settings: SettingsSourceCallable,\n",
    "            file_secret_settings: SettingsSourceCallable,\n",
    "        ) -> Tuple[SettingsSourceCallable, ...]:\n",
    "            return env_settings, init_settings, file_secret_settings"
   ]
  },
  {
   "cell_type": "code",
   "execution_count": 3,
   "metadata": {},
   "outputs": [
    {
     "name": "stdout",
     "output_type": "stream",
     "text": [
      "database_dsn=PostgresDsn('postgres://postgres@localhost:5432/kwargs_db', )\n"
     ]
    }
   ],
   "source": [
    "print(Settings(database_dsn=\"postgres://postgres@localhost:5432/kwargs_db\"))"
   ]
  },
  {
   "attachments": {},
   "cell_type": "markdown",
   "metadata": {},
   "source": [
    "By flipping `env_settings` and `init_settings`, environment variables now have precedence over `__init__` kwargs."
   ]
  },
  {
   "attachments": {},
   "cell_type": "markdown",
   "metadata": {},
   "source": [
    "##### Adding sources\n",
    "\n",
    "As explained earlier, pydantic ships with multiples built-in settings sources. However, you may occasionally need to add your own custom sources, `customise_sources` makes this very easy:"
   ]
  },
  {
   "cell_type": "code",
   "execution_count": 4,
   "metadata": {},
   "outputs": [],
   "source": [
    "def json_config_settings_source(settings: BaseSettings) -> Dict[str, Any]:\n",
    "    \"\"\"\n",
    "    A simple settings source that loads variables from a JSON file\n",
    "    at the project's root.\n",
    "\n",
    "    Here we happen to choose to use the `env_file_encoding` from Config\n",
    "    when reading `config.json`\n",
    "    \"\"\"\n",
    "    encoding = settings.__config__.env_file_encoding\n",
    "    return json.loads(Path(\"config.json\").read_text(encoding))"
   ]
  },
  {
   "cell_type": "code",
   "execution_count": 5,
   "metadata": {},
   "outputs": [],
   "source": [
    "class CustomSettings(BaseSettings):\n",
    "    foobar: str\n",
    "\n",
    "    class Config:\n",
    "        env_file_encoding = \"utf-8\"\n",
    "\n",
    "        @classmethod\n",
    "        def customise_sources(\n",
    "            cls,\n",
    "            init_settings,\n",
    "            env_settings,\n",
    "            file_secret_settings,\n",
    "        ):\n",
    "            return (\n",
    "                init_settings,\n",
    "                json_config_settings_source,\n",
    "                env_settings,\n",
    "                file_secret_settings,\n",
    "            )"
   ]
  },
  {
   "cell_type": "code",
   "execution_count": 6,
   "metadata": {},
   "outputs": [
    {
     "name": "stdout",
     "output_type": "stream",
     "text": [
      "foobar='spam'\n"
     ]
    }
   ],
   "source": [
    "print(CustomSettings())"
   ]
  },
  {
   "attachments": {},
   "cell_type": "markdown",
   "metadata": {},
   "source": [
    "##### Removing sources\n",
    "\n",
    "You might also want to disable a source:"
   ]
  },
  {
   "cell_type": "code",
   "execution_count": 7,
   "metadata": {},
   "outputs": [],
   "source": [
    "class RemoveSettings(BaseSettings):\n",
    "    my_api_key: str\n",
    "\n",
    "    class Config:\n",
    "        @classmethod\n",
    "        def customise_sources(\n",
    "            cls,\n",
    "            init_settings: SettingsSourceCallable,\n",
    "            env_settings: SettingsSourceCallable,\n",
    "            file_secret_settings: SettingsSourceCallable,\n",
    "        ) -> Tuple[SettingsSourceCallable, ...]:\n",
    "            # here we choose to ignore arguments from init_settings\n",
    "            return env_settings, file_secret_settings"
   ]
  },
  {
   "cell_type": "code",
   "execution_count": 8,
   "metadata": {},
   "outputs": [],
   "source": [
    "os.environ[\"my_api_key\"] = \"xxx\""
   ]
  },
  {
   "cell_type": "code",
   "execution_count": 9,
   "metadata": {},
   "outputs": [
    {
     "name": "stdout",
     "output_type": "stream",
     "text": [
      "my_api_key='xxx'\n"
     ]
    }
   ],
   "source": [
    "print(RemoveSettings(my_api_key=\"this is ignored\"))"
   ]
  },
  {
   "cell_type": "code",
   "execution_count": null,
   "metadata": {},
   "outputs": [],
   "source": []
  }
 ],
 "metadata": {
  "kernelspec": {
   "display_name": "valid-env",
   "language": "python",
   "name": "python3"
  },
  "language_info": {
   "codemirror_mode": {
    "name": "ipython",
    "version": 3
   },
   "file_extension": ".py",
   "mimetype": "text/x-python",
   "name": "python",
   "nbconvert_exporter": "python",
   "pygments_lexer": "ipython3",
   "version": "3.9.6"
  },
  "orig_nbformat": 4,
  "vscode": {
   "interpreter": {
    "hash": "c2258dd348c4db92d1fc23d9ac751564e58ace9e4e1a4507d6c5b14149e13659"
   }
  }
 },
 "nbformat": 4,
 "nbformat_minor": 2
}
