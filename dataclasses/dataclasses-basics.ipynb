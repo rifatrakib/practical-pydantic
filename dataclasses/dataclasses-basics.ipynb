{
 "cells": [
  {
   "attachments": {},
   "cell_type": "markdown",
   "metadata": {},
   "source": [
    "#### Dataclasses\n",
    "\n",
    "If you don't want to use _pydantic_'s `BaseModel` you can instead get the same data validation on standard `dataclasses` (introduced in Python 3.7)."
   ]
  },
  {
   "cell_type": "code",
   "execution_count": 1,
   "metadata": {},
   "outputs": [],
   "source": [
    "import dataclasses\n",
    "from datetime import datetime\n",
    "from typing import List, Optional\n",
    "from pydantic import Field\n",
    "from pydantic.dataclasses import dataclass"
   ]
  },
  {
   "cell_type": "code",
   "execution_count": 2,
   "metadata": {},
   "outputs": [],
   "source": [
    "@dataclass\n",
    "class User:\n",
    "    id: int\n",
    "    name: str = \"John Doe\"\n",
    "    signup_ts: datetime = None"
   ]
  },
  {
   "cell_type": "code",
   "execution_count": 3,
   "metadata": {},
   "outputs": [
    {
     "name": "stdout",
     "output_type": "stream",
     "text": [
      "user = User(id=42, name='John Doe', signup_ts=datetime.datetime(2032, 6, 21, 12, 0))\n"
     ]
    }
   ],
   "source": [
    "user = User(id=\"42\", signup_ts=\"2032-06-21T12:00\")\n",
    "print(f\"{user = }\")"
   ]
  },
  {
   "attachments": {},
   "cell_type": "markdown",
   "metadata": {},
   "source": [
    "> ##### Note\n",
    ">\n",
    "> Keep in mind that `pydantic.dataclasses.dataclass` is a drop-in replacement for `dataclasses.dataclass` with validation, __not a replacement__ for `pydantic.BaseModel` (with a small difference in how `initialization hooks` work). There are cases where subclassing `pydantic.BaseModel` is the better choice.\n",
    "\n",
    "You can use all the standard _pydantic_ field types, and the resulting dataclass will be identical to the one created by the standard library `dataclass` decorator.\n",
    "\n",
    "The underlying model and its schema can be accessed through `__pydantic_model__`. Also, fields that require a `default_factory` can be specified by either a `pydantic.Field` or a `dataclasses.field`."
   ]
  },
  {
   "cell_type": "code",
   "execution_count": 4,
   "metadata": {},
   "outputs": [],
   "source": [
    "@dataclass\n",
    "class ComplexUser:\n",
    "    id: int\n",
    "    name: str = \"John Doe\"\n",
    "    friends: List[int] = dataclasses.field(default_factory=lambda: [0])\n",
    "    age: Optional[int] = dataclasses.field(\n",
    "        default=None,\n",
    "        metadata=dict(title=\"The age of the user\", description=\"do not lie!\")\n",
    "    )\n",
    "    height: Optional[int] = Field(None, title=\"The height in cm\", ge=50, le=300)"
   ]
  },
  {
   "cell_type": "code",
   "execution_count": 5,
   "metadata": {},
   "outputs": [
    {
     "name": "stdout",
     "output_type": "stream",
     "text": [
      "user.__pydantic_model__.schema() = {'title': 'ComplexUser', 'type': 'object', 'properties': {'id': {'title': 'Id', 'type': 'integer'}, 'name': {'title': 'Name', 'default': 'John Doe', 'type': 'string'}, 'friends': {'title': 'Friends', 'type': 'array', 'items': {'type': 'integer'}}, 'age': {'title': 'The age of the user', 'description': 'do not lie!', 'type': 'integer'}, 'height': {'title': 'The height in cm', 'minimum': 50, 'maximum': 300, 'type': 'integer'}}, 'required': ['id']}\n"
     ]
    }
   ],
   "source": [
    "user = ComplexUser(id=\"42\")\n",
    "print(f\"{user.__pydantic_model__.schema() = }\")"
   ]
  },
  {
   "attachments": {},
   "cell_type": "markdown",
   "metadata": {},
   "source": [
    "`pydantic.dataclasses.dataclass`'s arguments are the same as the standard decorator, except one extra keyword argument `config` which has the same meaning as `Config`."
   ]
  },
  {
   "cell_type": "code",
   "execution_count": null,
   "metadata": {},
   "outputs": [],
   "source": []
  }
 ],
 "metadata": {
  "kernelspec": {
   "display_name": "valid-env",
   "language": "python",
   "name": "python3"
  },
  "language_info": {
   "codemirror_mode": {
    "name": "ipython",
    "version": 3
   },
   "file_extension": ".py",
   "mimetype": "text/x-python",
   "name": "python",
   "nbconvert_exporter": "python",
   "pygments_lexer": "ipython3",
   "version": "3.9.6"
  },
  "orig_nbformat": 4,
  "vscode": {
   "interpreter": {
    "hash": "c2258dd348c4db92d1fc23d9ac751564e58ace9e4e1a4507d6c5b14149e13659"
   }
  }
 },
 "nbformat": 4,
 "nbformat_minor": 2
}
