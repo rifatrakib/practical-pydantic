{
 "cells": [
  {
   "attachments": {},
   "cell_type": "markdown",
   "metadata": {},
   "source": [
    "#### Stdlib dataclasses and pydantic dataclasses"
   ]
  },
  {
   "attachments": {},
   "cell_type": "markdown",
   "metadata": {},
   "source": [
    "##### Convert stdlib dataclasses into pydantic dataclasses\n",
    "\n",
    "Stdlib dataclasses (nested or not) can be easily converted into pydantic dataclasses by just decorating them with `pydantic.dataclasses.dataclass`. Pydantic will enhance the given stdlib dataclass but won't alter the default behaviour (i.e. without validation). It will instead create a wrapper around it to trigger validation that will act like a plain proxy. The stdlib dataclass can still be accessed via the `__dataclass__` attribute."
   ]
  },
  {
   "cell_type": "code",
   "execution_count": 1,
   "metadata": {},
   "outputs": [],
   "source": [
    "import dataclasses\n",
    "from datetime import datetime\n",
    "from typing import Optional\n",
    "\n",
    "import pydantic\n",
    "from pydantic import BaseModel, ValidationError\n",
    "from pydantic.dataclasses import dataclass as pydantic_dataclass, set_validation"
   ]
  },
  {
   "cell_type": "code",
   "execution_count": 2,
   "metadata": {},
   "outputs": [],
   "source": [
    "@dataclasses.dataclass\n",
    "class Meta:\n",
    "    modified_date: Optional[datetime]\n",
    "    seen_count: int"
   ]
  },
  {
   "cell_type": "code",
   "execution_count": 3,
   "metadata": {},
   "outputs": [],
   "source": [
    "@dataclasses.dataclass\n",
    "class File(Meta):\n",
    "    filename: str"
   ]
  },
  {
   "cell_type": "code",
   "execution_count": 4,
   "metadata": {},
   "outputs": [],
   "source": [
    "# `ValidatedFile` will be a proxy around `File`\n",
    "ValidatedFile = pydantic.dataclasses.dataclass(File)\n",
    "\n",
    "# the original dataclass is the `__dataclass__` attribute\n",
    "assert ValidatedFile.__dataclass__ is File"
   ]
  },
  {
   "cell_type": "code",
   "execution_count": 5,
   "metadata": {},
   "outputs": [
    {
     "name": "stdout",
     "output_type": "stream",
     "text": [
      "validated_file = File(modified_date=datetime.datetime(2020, 1, 1, 0, 0), seen_count=7, filename='thefilename')\n"
     ]
    }
   ],
   "source": [
    "validated_file = ValidatedFile(\n",
    "    filename=b\"thefilename\",\n",
    "    modified_date=\"2020-01-01T00:00\",\n",
    "    seen_count=\"7\",\n",
    ")\n",
    "print(f\"{validated_file = }\")"
   ]
  },
  {
   "cell_type": "code",
   "execution_count": 6,
   "metadata": {},
   "outputs": [
    {
     "name": "stdout",
     "output_type": "stream",
     "text": [
      "1 validation error for File\n",
      "filename\n",
      "  str type expected (type=type_error.str)\n"
     ]
    }
   ],
   "source": [
    "try:\n",
    "    item = ValidatedFile(\n",
    "        filename=[\"not\", \"a\", \"string\"],\n",
    "        modified_date=None,\n",
    "        seen_count=3,\n",
    "    )\n",
    "except pydantic.ValidationError as e:\n",
    "    print(e)"
   ]
  },
  {
   "cell_type": "code",
   "execution_count": 7,
   "metadata": {},
   "outputs": [
    {
     "name": "stdout",
     "output_type": "stream",
     "text": [
      "File(filename=['not', 'a', 'string'], modified_date=None, seen_count=3) = File(modified_date=None, seen_count=3, filename=['not', 'a', 'string'])\n"
     ]
    }
   ],
   "source": [
    "# `File` is not altered and still does no validation by default\n",
    "print(f\"{File(filename=['not', 'a', 'string'], modified_date=None, seen_count=3) = }\")"
   ]
  },
  {
   "attachments": {},
   "cell_type": "markdown",
   "metadata": {},
   "source": [
    "##### Choose when to trigger validation\n",
    "\n",
    "As soon as your stdlib dataclass has been decorated with pydantic dataclass decorator, magic methods have been added to validate input data. If you want, you can still keep using your dataclass and choose when to trigger it."
   ]
  },
  {
   "cell_type": "code",
   "execution_count": 8,
   "metadata": {},
   "outputs": [],
   "source": [
    "@dataclasses.dataclass\n",
    "class User:\n",
    "    id: int\n",
    "    name: str"
   ]
  },
  {
   "cell_type": "code",
   "execution_count": 9,
   "metadata": {},
   "outputs": [
    {
     "data": {
      "text/plain": [
       "<pydantic.dataclasses.DataclassProxy at 0x215b51d0460>"
      ]
     },
     "execution_count": 9,
     "metadata": {},
     "output_type": "execute_result"
    }
   ],
   "source": [
    "# Enhance stdlib dataclass\n",
    "pydantic_dataclass(User)"
   ]
  },
  {
   "cell_type": "code",
   "execution_count": 10,
   "metadata": {},
   "outputs": [],
   "source": [
    "user_1 = User(id=\"whatever\", name=\"I want\")"
   ]
  },
  {
   "cell_type": "code",
   "execution_count": 11,
   "metadata": {},
   "outputs": [
    {
     "name": "stdout",
     "output_type": "stream",
     "text": [
      "1 validation error for User\n",
      "id\n",
      "  value is not a valid integer (type=type_error.integer)\n"
     ]
    }
   ],
   "source": [
    "# validate data of `user_1`\n",
    "try:\n",
    "    validate = user_1.__pydantic_validate_values__()\n",
    "except ValidationError as e:\n",
    "    print(e)"
   ]
  },
  {
   "cell_type": "code",
   "execution_count": 12,
   "metadata": {},
   "outputs": [
    {
     "name": "stdout",
     "output_type": "stream",
     "text": [
      "1 validation error for User\n",
      "id\n",
      "  value is not a valid integer (type=type_error.integer)\n"
     ]
    }
   ],
   "source": [
    "try:\n",
    "    with set_validation(User, True):\n",
    "        item = User(id=\"whatever\", name=\"I want\")\n",
    "except ValidationError as e:\n",
    "    print(e)"
   ]
  },
  {
   "attachments": {},
   "cell_type": "markdown",
   "metadata": {},
   "source": [
    "##### Inherit from stdlib dataclasses\n",
    "\n",
    "Stdlib dataclasses (nested or not) can also be inherited and pydantic will automatically validate all the inherited fields."
   ]
  },
  {
   "cell_type": "code",
   "execution_count": 13,
   "metadata": {},
   "outputs": [],
   "source": [
    "@dataclasses.dataclass\n",
    "class Z:\n",
    "    z: int"
   ]
  },
  {
   "cell_type": "code",
   "execution_count": 14,
   "metadata": {},
   "outputs": [],
   "source": [
    "@dataclasses.dataclass\n",
    "class Y(Z):\n",
    "    y: int = 0"
   ]
  },
  {
   "cell_type": "code",
   "execution_count": 15,
   "metadata": {},
   "outputs": [],
   "source": [
    "@pydantic.dataclasses.dataclass\n",
    "class X(Y):\n",
    "    x: int = 0"
   ]
  },
  {
   "cell_type": "code",
   "execution_count": 16,
   "metadata": {},
   "outputs": [
    {
     "name": "stdout",
     "output_type": "stream",
     "text": [
      "foo = X(z=3, y=2, x=1)\n"
     ]
    }
   ],
   "source": [
    "foo = X(x=b\"1\", y=\"2\", z=\"3\")\n",
    "print(f\"{foo = }\")"
   ]
  },
  {
   "cell_type": "code",
   "execution_count": 17,
   "metadata": {},
   "outputs": [
    {
     "name": "stdout",
     "output_type": "stream",
     "text": [
      "1 validation error for X\n",
      "z\n",
      "  value is not a valid integer (type=type_error.integer)\n"
     ]
    }
   ],
   "source": [
    "try:\n",
    "    item = X(z=\"pika\")\n",
    "except pydantic.ValidationError as e:\n",
    "    print(e)"
   ]
  },
  {
   "attachments": {},
   "cell_type": "markdown",
   "metadata": {},
   "source": [
    "##### Use of stdlib dataclasses with `BaseModel`\n",
    "\n",
    "Bear in mind that stdlib dataclasses (nested or not) are __automatically converted__ into pydantic dataclasses when mixed with `BaseModel`! Furthermore the generated pydantic dataclass will have the __exact same configuration__ (`order`, `frozen`, ...) as the original one."
   ]
  },
  {
   "cell_type": "code",
   "execution_count": 18,
   "metadata": {},
   "outputs": [],
   "source": [
    "@dataclasses.dataclass(frozen=True)\n",
    "class FrozenUser:\n",
    "    name: str"
   ]
  },
  {
   "cell_type": "code",
   "execution_count": 19,
   "metadata": {},
   "outputs": [],
   "source": [
    "@dataclasses.dataclass\n",
    "class CustomFile:\n",
    "    filename: str\n",
    "    last_modification_time: Optional[datetime] = None"
   ]
  },
  {
   "cell_type": "code",
   "execution_count": 20,
   "metadata": {},
   "outputs": [],
   "source": [
    "class Foo(BaseModel):\n",
    "    file: CustomFile\n",
    "    user: Optional[FrozenUser] = None"
   ]
  },
  {
   "cell_type": "code",
   "execution_count": 21,
   "metadata": {},
   "outputs": [
    {
     "name": "stdout",
     "output_type": "stream",
     "text": [
      "file = CustomFile(filename=['not', 'a', 'string'], last_modification_time='2020-01-01T00:00')\n"
     ]
    }
   ],
   "source": [
    "file = CustomFile(\n",
    "    filename=[\"not\", \"a\", \"string\"],\n",
    "    last_modification_time=\"2020-01-01T00:00\",\n",
    ")  # nothing is validated as expected\n",
    "print(f\"{file = }\")"
   ]
  },
  {
   "cell_type": "code",
   "execution_count": 22,
   "metadata": {},
   "outputs": [
    {
     "name": "stdout",
     "output_type": "stream",
     "text": [
      "1 validation error for Foo\n",
      "file -> filename\n",
      "  str type expected (type=type_error.str)\n"
     ]
    }
   ],
   "source": [
    "try:\n",
    "    item = Foo(file=file)\n",
    "except ValidationError as e:\n",
    "    print(e)"
   ]
  },
  {
   "cell_type": "code",
   "execution_count": 23,
   "metadata": {},
   "outputs": [
    {
     "name": "stdout",
     "output_type": "stream",
     "text": [
      "cannot assign to field 'name'\n"
     ]
    }
   ],
   "source": [
    "foo = Foo(file=CustomFile(filename=\"myfile\"), user=FrozenUser(name=\"pika\"))\n",
    "try:\n",
    "    foo.user.name = \"bulbi\"\n",
    "except dataclasses.FrozenInstanceError as e:\n",
    "    print(e)"
   ]
  },
  {
   "attachments": {},
   "cell_type": "markdown",
   "metadata": {},
   "source": [
    "##### Use custom types\n",
    "\n",
    "Since stdlib dataclasses are automatically converted to add validation using custom types may cause some unexpected behaviour. In this case you can simply add `arbitrary_types_allowed` in the config!"
   ]
  },
  {
   "cell_type": "code",
   "execution_count": 24,
   "metadata": {},
   "outputs": [],
   "source": [
    "class ArbitraryType:\n",
    "    def __init__(self, value):\n",
    "        self.value = value\n",
    "\n",
    "    def __repr__(self):\n",
    "        return f\"ArbitraryType(value={self.value!r})\""
   ]
  },
  {
   "cell_type": "code",
   "execution_count": 25,
   "metadata": {},
   "outputs": [],
   "source": [
    "@dataclasses.dataclass\n",
    "class DC:\n",
    "    a: ArbitraryType\n",
    "    b: str"
   ]
  },
  {
   "cell_type": "code",
   "execution_count": 26,
   "metadata": {},
   "outputs": [],
   "source": [
    "# valid as it is a builtin dataclass without validation\n",
    "my_dc = DC(a=ArbitraryType(value=3), b=\"qwe\")"
   ]
  },
  {
   "cell_type": "code",
   "execution_count": 27,
   "metadata": {},
   "outputs": [
    {
     "name": "stdout",
     "output_type": "stream",
     "text": [
      "no validator found for <class '__main__.ArbitraryType'>, see `arbitrary_types_allowed` in Config\n"
     ]
    }
   ],
   "source": [
    "try:\n",
    "    class Model(pydantic.BaseModel):\n",
    "        dc: DC\n",
    "        other: str\n",
    "\n",
    "    Model(dc=my_dc, other=\"other\")\n",
    "except RuntimeError as e:  # invalid as it is now a pydantic dataclass\n",
    "    print(e)"
   ]
  },
  {
   "cell_type": "code",
   "execution_count": 28,
   "metadata": {},
   "outputs": [],
   "source": [
    "class Model(pydantic.BaseModel):\n",
    "    dc: DC\n",
    "    other: str\n",
    "\n",
    "    class Config:\n",
    "        arbitrary_types_allowed = True"
   ]
  },
  {
   "cell_type": "code",
   "execution_count": 29,
   "metadata": {},
   "outputs": [
    {
     "name": "stdout",
     "output_type": "stream",
     "text": [
      "Model(dc=DC(a=ArbitraryType(value=3), b='qwe'), other='other')\n"
     ]
    }
   ],
   "source": [
    "m = Model(dc=my_dc, other=\"other\")\n",
    "print(repr(m))"
   ]
  },
  {
   "cell_type": "code",
   "execution_count": null,
   "metadata": {},
   "outputs": [],
   "source": []
  }
 ],
 "metadata": {
  "kernelspec": {
   "display_name": "valid-env",
   "language": "python",
   "name": "python3"
  },
  "language_info": {
   "codemirror_mode": {
    "name": "ipython",
    "version": 3
   },
   "file_extension": ".py",
   "mimetype": "text/x-python",
   "name": "python",
   "nbconvert_exporter": "python",
   "pygments_lexer": "ipython3",
   "version": "3.9.6"
  },
  "orig_nbformat": 4,
  "vscode": {
   "interpreter": {
    "hash": "c2258dd348c4db92d1fc23d9ac751564e58ace9e4e1a4507d6c5b14149e13659"
   }
  }
 },
 "nbformat": 4,
 "nbformat_minor": 2
}
