{
 "cells": [
  {
   "attachments": {},
   "cell_type": "markdown",
   "metadata": {},
   "source": [
    "#### Initialize hooks\n",
    "\n",
    "When you initialize a dataclass, it is possible to execute code _after_ validation with the help of `__post_init_post_parse__`. This is not the same as `__post_init__`, which executes code _before_ validation.\n",
    "\n",
    "> If you use a stdlib `dataclass`, you may only have `__post_init__` available and wish the validation to be done before. In this case you can set `Config.post_init_call = \"after_validation\"`"
   ]
  },
  {
   "cell_type": "code",
   "execution_count": 1,
   "metadata": {},
   "outputs": [],
   "source": [
    "from dataclasses import InitVar\n",
    "from pathlib import Path\n",
    "from typing import Optional\n",
    "from pydantic.dataclasses import dataclass"
   ]
  },
  {
   "cell_type": "code",
   "execution_count": 2,
   "metadata": {},
   "outputs": [],
   "source": [
    "@dataclass\n",
    "class Birth:\n",
    "    year: int\n",
    "    month: int\n",
    "    day: int"
   ]
  },
  {
   "cell_type": "code",
   "execution_count": 3,
   "metadata": {},
   "outputs": [],
   "source": [
    "@dataclass\n",
    "class User:\n",
    "    birth: Birth\n",
    "\n",
    "    def __post_init__(self):\n",
    "        print(self.birth)\n",
    "\n",
    "    def __post_init_post_parse__(self):\n",
    "        print(self.birth)"
   ]
  },
  {
   "cell_type": "code",
   "execution_count": 4,
   "metadata": {},
   "outputs": [
    {
     "name": "stdout",
     "output_type": "stream",
     "text": [
      "{'year': 1995, 'month': 3, 'day': 2}\n",
      "Birth(year=1995, month=3, day=2)\n",
      "user = User(birth=Birth(year=1995, month=3, day=2))\n"
     ]
    }
   ],
   "source": [
    "user = User(**{\"birth\": {\"year\": 1995, \"month\": 3, \"day\": 2}})\n",
    "print(f\"{user = }\")"
   ]
  },
  {
   "cell_type": "code",
   "execution_count": 5,
   "metadata": {},
   "outputs": [],
   "source": [
    "@dataclass\n",
    "class PathData:\n",
    "    path: Path\n",
    "    base_path: InitVar[Optional[Path]]\n",
    "\n",
    "    def __post_init__(self, base_path):\n",
    "        print(f\"Received path={self.path!r}, base_path={base_path!r}\")\n",
    "\n",
    "    def __post_init_post_parse__(self, base_path):\n",
    "        if base_path is not None:\n",
    "            self.path = base_path / self.path"
   ]
  },
  {
   "cell_type": "code",
   "execution_count": 6,
   "metadata": {},
   "outputs": [
    {
     "name": "stdout",
     "output_type": "stream",
     "text": [
      "Received path='world', base_path='/hello'\n"
     ]
    }
   ],
   "source": [
    "path_data = PathData(\"world\", base_path=\"/hello\")\n",
    "assert path_data.path == Path(\"/hello/world\")"
   ]
  },
  {
   "attachments": {},
   "cell_type": "markdown",
   "metadata": {},
   "source": [
    "##### Difference with stdlib dataclasses\n",
    "\n",
    "Note that the `dataclasses.dataclass` from Python stdlib implements only the `__post_init__` method since it doesn't run a validation step.\n",
    "\n",
    "When substituting usage of `dataclasses.dataclass` with `pydantic.dataclasses.dataclass`, it is recommended to move the code executed in the `__post_init__` method to the `__post_init_post_parse__` method, and only leave behind part of code which needs to be executed before validation."
   ]
  },
  {
   "cell_type": "code",
   "execution_count": null,
   "metadata": {},
   "outputs": [],
   "source": []
  }
 ],
 "metadata": {
  "kernelspec": {
   "display_name": "valid-env",
   "language": "python",
   "name": "python3"
  },
  "language_info": {
   "codemirror_mode": {
    "name": "ipython",
    "version": 3
   },
   "file_extension": ".py",
   "mimetype": "text/x-python",
   "name": "python",
   "nbconvert_exporter": "python",
   "pygments_lexer": "ipython3",
   "version": "3.9.6"
  },
  "orig_nbformat": 4,
  "vscode": {
   "interpreter": {
    "hash": "c2258dd348c4db92d1fc23d9ac751564e58ace9e4e1a4507d6c5b14149e13659"
   }
  }
 },
 "nbformat": 4,
 "nbformat_minor": 2
}
