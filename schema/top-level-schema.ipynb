{
 "cells": [
  {
   "attachments": {},
   "cell_type": "markdown",
   "metadata": {},
   "source": [
    "#### Top-level schema generation\n",
    "\n",
    "You can also generate a top-level JSON Schema that only includes a list of models and related sub-models in its `definitions`."
   ]
  },
  {
   "cell_type": "code",
   "execution_count": 1,
   "metadata": {},
   "outputs": [],
   "source": [
    "import json\n",
    "from pydantic import BaseModel\n",
    "from pydantic.schema import schema"
   ]
  },
  {
   "cell_type": "code",
   "execution_count": 2,
   "metadata": {},
   "outputs": [],
   "source": [
    "class Foo(BaseModel):\n",
    "    a: str = None"
   ]
  },
  {
   "cell_type": "code",
   "execution_count": 3,
   "metadata": {},
   "outputs": [],
   "source": [
    "class Model(BaseModel):\n",
    "    b: Foo"
   ]
  },
  {
   "cell_type": "code",
   "execution_count": 4,
   "metadata": {},
   "outputs": [],
   "source": [
    "class Bar(BaseModel):\n",
    "    c: int"
   ]
  },
  {
   "cell_type": "code",
   "execution_count": 5,
   "metadata": {},
   "outputs": [
    {
     "name": "stdout",
     "output_type": "stream",
     "text": [
      "{\n",
      "  \"title\": \"My Schema\",\n",
      "  \"definitions\": {\n",
      "    \"Foo\": {\n",
      "      \"title\": \"Foo\",\n",
      "      \"type\": \"object\",\n",
      "      \"properties\": {\n",
      "        \"a\": {\n",
      "          \"title\": \"A\",\n",
      "          \"type\": \"string\"\n",
      "        }\n",
      "      }\n",
      "    },\n",
      "    \"Model\": {\n",
      "      \"title\": \"Model\",\n",
      "      \"type\": \"object\",\n",
      "      \"properties\": {\n",
      "        \"b\": {\n",
      "          \"$ref\": \"#/definitions/Foo\"\n",
      "        }\n",
      "      },\n",
      "      \"required\": [\n",
      "        \"b\"\n",
      "      ]\n",
      "    },\n",
      "    \"Bar\": {\n",
      "      \"title\": \"Bar\",\n",
      "      \"type\": \"object\",\n",
      "      \"properties\": {\n",
      "        \"c\": {\n",
      "          \"title\": \"C\",\n",
      "          \"type\": \"integer\"\n",
      "        }\n",
      "      },\n",
      "      \"required\": [\n",
      "        \"c\"\n",
      "      ]\n",
      "    }\n",
      "  }\n",
      "}\n"
     ]
    }
   ],
   "source": [
    "top_level_schema = schema([Model, Bar], title=\"My Schema\")\n",
    "print(json.dumps(top_level_schema, indent=2))"
   ]
  },
  {
   "cell_type": "code",
   "execution_count": null,
   "metadata": {},
   "outputs": [],
   "source": []
  }
 ],
 "metadata": {
  "kernelspec": {
   "display_name": "valid-env",
   "language": "python",
   "name": "python3"
  },
  "language_info": {
   "codemirror_mode": {
    "name": "ipython",
    "version": 3
   },
   "file_extension": ".py",
   "mimetype": "text/x-python",
   "name": "python",
   "nbconvert_exporter": "python",
   "pygments_lexer": "ipython3",
   "version": "3.9.6"
  },
  "orig_nbformat": 4,
  "vscode": {
   "interpreter": {
    "hash": "c2258dd348c4db92d1fc23d9ac751564e58ace9e4e1a4507d6c5b14149e13659"
   }
  }
 },
 "nbformat": 4,
 "nbformat_minor": 2
}
