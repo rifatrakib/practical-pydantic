{
 "cells": [
  {
   "attachments": {},
   "cell_type": "markdown",
   "metadata": {},
   "source": [
    "#### Modifying schema in custom fields\n",
    "\n",
    "Custom field types can customise the schema generated for them using the `__modify_schema__` class method.\n",
    "\n",
    "`__modify_schema__` can also take a `field` argument which will have type `Optional[ModelField]`. _pydantic_ will inspect the signature of `__modify_schema__` to determine whether the `field` argument should be included."
   ]
  },
  {
   "cell_type": "code",
   "execution_count": 1,
   "metadata": {},
   "outputs": [],
   "source": [
    "from typing import Any, Callable, Dict, Generator, Optional\n",
    "from pydantic import BaseModel, Field\n",
    "from pydantic.fields import ModelField"
   ]
  },
  {
   "cell_type": "code",
   "execution_count": 2,
   "metadata": {},
   "outputs": [],
   "source": [
    "class RestrictedAlphabetStr(str):\n",
    "    @classmethod\n",
    "    def __get_validators__(cls) -> Generator[Callable, None, None]:\n",
    "        yield cls.validate\n",
    "    \n",
    "    @classmethod\n",
    "    def validate(cls, value: str, field: ModelField):\n",
    "        alphabet = field.field_info.extra[\"alphabet\"]\n",
    "        if any(c not in alphabet for c in value):\n",
    "            raise ValueError(f\"{value!r} is not restricted to {alphabet!r}\")\n",
    "        return cls(value)\n",
    "    \n",
    "    @classmethod\n",
    "    def __modify_schema__(\n",
    "        cls, field_schema: Dict[str, Any], field: Optional[ModelField]\n",
    "    ):\n",
    "        if field:\n",
    "            alphabet = field.field_info.extra[\"alphabet\"]\n",
    "            field_schema[\"examples\"] = [c * 3 for c in alphabet]"
   ]
  },
  {
   "cell_type": "code",
   "execution_count": 3,
   "metadata": {},
   "outputs": [],
   "source": [
    "class MyModel(BaseModel):\n",
    "    value: RestrictedAlphabetStr = Field(alphabet=\"ABC\")"
   ]
  },
  {
   "cell_type": "code",
   "execution_count": 4,
   "metadata": {},
   "outputs": [
    {
     "name": "stdout",
     "output_type": "stream",
     "text": [
      "{\n",
      "  \"title\": \"MyModel\",\n",
      "  \"type\": \"object\",\n",
      "  \"properties\": {\n",
      "    \"value\": {\n",
      "      \"title\": \"Value\",\n",
      "      \"alphabet\": \"ABC\",\n",
      "      \"examples\": [\n",
      "        \"AAA\",\n",
      "        \"BBB\",\n",
      "        \"CCC\"\n",
      "      ],\n",
      "      \"type\": \"string\"\n",
      "    }\n",
      "  },\n",
      "  \"required\": [\n",
      "    \"value\"\n",
      "  ]\n",
      "}\n"
     ]
    }
   ],
   "source": [
    "print(MyModel.schema_json(indent=2))"
   ]
  },
  {
   "attachments": {},
   "cell_type": "markdown",
   "metadata": {},
   "source": [
    "#### JSON Schema Types\n",
    "\n",
    "Types, custom field types, and constraints (like `max_length`) are mapped to the corresponding spec formats in the following priority order (when there is an equivalent available):\n",
    "\n",
    "1. JSON Schema Core\n",
    "2. JSON Schema Validation\n",
    "3. OpenAPI Data Types\n",
    "4. The standard `format` JSON field is used to define pydantic extensions for more complex `string` sub-types.\n",
    "\n",
    "The field schema mapping from Python / pydantic to JSON Schema is done as follows:\n",
    "\n",
    "<table style=\"width:100%\"><thead><tr><th>Python type</th><th>JSON Schema Type</th><th>Additional JSON Schema</th><th>Defined in</th></tr></thead><tbody><tr><td><code>None</code></td><td><code>null</code></td><td></td><td>JSON Schema Core</td></tr><tr><td colspan=\"4\" style=\"border-top: none; padding-top: 0\"><em>Same for <code>type(None)</code> or <code>Literal[None]</code></em></td></tr><tr><td><code>bool</code></td><td><code>boolean</code></td><td></td><td>JSON Schema Core</td></tr><tr><td><code>str</code></td><td><code>string</code></td><td></td><td>JSON Schema Core</td></tr><tr><td><code>float</code></td><td><code>number</code></td><td></td><td>JSON Schema Core</td></tr><tr><td><code>int</code></td><td><code>integer</code></td><td></td><td>JSON Schema Validation</td></tr><tr><td><code>dict</code></td><td><code>object</code></td><td></td><td>JSON Schema Core</td></tr><tr><td><code>list</code></td><td><code>array</code></td><td><code>{\"items\": {}}</code></td><td>JSON Schema Core</td></tr><tr><td><code>tuple</code></td><td><code>array</code></td><td><code>{\"items\": {}}</code></td><td>JSON Schema Core</td></tr><tr><td><code>set</code></td><td><code>array</code></td><td><code>{\"items\": {}, \"uniqueItems\": true}</code></td><td>JSON Schema Validation</td></tr><tr><td><code>frozenset</code></td><td><code>array</code></td><td><code>{\"items\": {}, \"uniqueItems\": true}</code></td><td>JSON Schema Validation</td></tr><tr><td><code>List[str]</code></td><td><code>array</code></td><td><code>{\"items\": {\"type\": \"string\"}}</code></td><td>JSON Schema Validation</td></tr><tr><td colspan=\"4\" style=\"border-top: none; padding-top: 0\"><em>And equivalently for any other sub type, e.g. <code>List[int]</code>.</em></td></tr><tr><td><code>Tuple[str, ...]</code></td><td><code>array</code></td><td><code>{\"items\": {\"type\": \"string\"}}</code></td><td>JSON Schema Validation</td></tr><tr><td colspan=\"4\" style=\"border-top: none; padding-top: 0\"><em>And equivalently for any other sub type, e.g. <code>Tuple[int, ...]</code>.</em></td></tr><tr><td><code>Tuple[str, int]</code></td><td><code>array</code></td><td><code>{\"items\": [{\"type\": \"string\"}, {\"type\": \"integer\"}], \"minItems\": 2, \"maxItems\": 2}</code></td><td>JSON Schema Validation</td></tr><tr><td colspan=\"4\" style=\"border-top: none; padding-top: 0\"><em>And equivalently for any other set of subtypes. Note: If using schemas for OpenAPI, you shouldn'tuse this declaration, as it would not be valid in OpenAPI (although it is valid in JSONSchema).</em></td></tr><tr><td><code>Dict[str, int]</code></td><td><code>object</code></td><td><code>{\"additionalProperties\": {\"type\": \"integer\"}}</code></td><td>JSON Schema Validation</td></tr><tr><td colspan=\"4\" style=\"border-top: none; padding-top: 0\"><em>And equivalently for any other subfields for dicts. Have in mind that although you can use othertypes as keys for dicts with Pydantic, only strings are valid keys for JSON, and so, only str isvalid as JSON Schema key types.</em></td></tr><tr><td><code>Union[str, int]</code></td><td><code>anyOf</code></td><td><code>{\"anyOf\": [{\"type\": \"string\"}, {\"type\": \"integer\"}]}</code></td><td>JSON Schema Validation</td></tr><tr><td colspan=\"4\" style=\"border-top: none; padding-top: 0\"><em>And equivalently for any other subfields for unions.</em></td></tr><tr><td><code>Enum</code></td><td><code>enum</code></td><td><code>{\"enum\": [...]}</code></td><td>JSON Schema Validation</td></tr><tr><td colspan=\"4\" style=\"border-top: none; padding-top: 0\"><em>All the literal values in the enum are included in the definition.</em></td></tr><tr><td><code>SecretStr</code></td><td><code>string</code></td><td><code>{\"writeOnly\": true}</code></td><td>JSON Schema Validation</td></tr><tr><td><code>SecretBytes</code></td><td><code>string</code></td><td><code>{\"writeOnly\": true}</code></td><td>JSON Schema Validation</td></tr><tr><td><code>EmailStr</code></td><td><code>string</code></td><td><code>{\"format\": \"email\"}</code></td><td>JSON Schema Validation</td></tr><tr><td><code>NameEmail</code></td><td><code>string</code></td><td><code>{\"format\": \"name-email\"}</code></td><td>Pydantic standard \"format\" extension</td></tr><tr><td><code>AnyUrl</code></td><td><code>string</code></td><td><code>{\"format\": \"uri\"}</code></td><td>JSON Schema Validation</td></tr><tr><td><code>Pattern</code></td><td><code>string</code></td><td><code>{\"format\": \"regex\"}</code></td><td>JSON Schema Validation</td></tr><tr><td><code>bytes</code></td><td><code>string</code></td><td><code>{\"format\": \"binary\"}</code></td><td>OpenAPI</td></tr><tr><td><code>Decimal</code></td><td><code>number</code></td><td></td><td>JSON Schema Core</td></tr><tr><td><code>UUID1</code></td><td><code>string</code></td><td><code>{\"format\": \"uuid1\"}</code></td><td>Pydantic standard \"format\" extension</td></tr><tr><td><code>UUID3</code></td><td><code>string</code></td><td><code>{\"format\": \"uuid3\"}</code></td><td>Pydantic standard \"format\" extension</td></tr><tr><td><code>UUID4</code></td><td><code>string</code></td><td><code>{\"format\": \"uuid4\"}</code></td><td>Pydantic standard \"format\" extension</td></tr><tr><td><code>UUID5</code></td><td><code>string</code></td><td><code>{\"format\": \"uuid5\"}</code></td><td>Pydantic standard \"format\" extension</td></tr><tr><td><code>UUID</code></td><td><code>string</code></td><td><code>{\"format\": \"uuid\"}</code></td><td>Pydantic standard \"format\" extension</td></tr><tr><td colspan=\"4\" style=\"border-top: none; padding-top: 0\"><em>Suggested in OpenAPI.</em></td></tr><tr><td><code>FilePath</code></td><td><code>string</code></td><td><code>{\"format\": \"file-path\"}</code></td><td>Pydantic standard \"format\" extension</td></tr><tr><td><code>DirectoryPath</code></td><td><code>string</code></td><td><code>{\"format\": \"directory-path\"}</code></td><td>Pydantic standard \"format\" extension</td></tr><tr><td><code>Path</code></td><td><code>string</code></td><td><code>{\"format\": \"path\"}</code></td><td>Pydantic standard \"format\" extension</td></tr><tr><td><code>datetime</code></td><td><code>string</code></td><td><code>{\"format\": \"date-time\"}</code></td><td>JSON Schema Validation</td></tr><tr><td><code>date</code></td><td><code>string</code></td><td><code>{\"format\": \"date\"}</code></td><td>JSON Schema Validation</td></tr><tr><td><code>time</code></td><td><code>string</code></td><td><code>{\"format\": \"time\"}</code></td><td>JSON Schema Validation</td></tr><tr><td><code>timedelta</code></td><td><code>number</code></td><td><code>{\"format\": \"time-delta\"}</code></td><td>Difference in seconds (a <code>float</code>), with Pydantic standard \"format\" extension</td></tr><tr><td colspan=\"4\" style=\"border-top: none; padding-top: 0\"><em>Suggested in JSON Schema repository's issues by maintainer.</em></td></tr><tr><td><code>Json</code></td><td><code>string</code></td><td><code>{\"format\": \"json-string\"}</code></td><td>Pydantic standard \"format\" extension</td></tr><tr><td><code>IPv4Address</code></td><td><code>string</code></td><td><code>{\"format\": \"ipv4\"}</code></td><td>JSON Schema Validation</td></tr><tr><td><code>IPv6Address</code></td><td><code>string</code></td><td><code>{\"format\": \"ipv6\"}</code></td><td>JSON Schema Validation</td></tr><tr><td><code>IPvAnyAddress</code></td><td><code>string</code></td><td><code>{\"format\": \"ipvanyaddress\"}</code></td><td>Pydantic standard \"format\" extension</td></tr><tr><td colspan=\"4\" style=\"border-top: none; padding-top: 0\"><em>IPv4 or IPv6 address as used in <code>ipaddress</code> module</em></td></tr><tr><td><code>IPv4Interface</code></td><td><code>string</code></td><td><code>{\"format\": \"ipv4interface\"}</code></td><td>Pydantic standard \"format\" extension</td></tr><tr><td colspan=\"4\" style=\"border-top: none; padding-top: 0\"><em>IPv4 interface as used in <code>ipaddress</code> module</em></td></tr><tr><td><code>IPv6Interface</code></td><td><code>string</code></td><td><code>{\"format\": \"ipv6interface\"}</code></td><td>Pydantic standard \"format\" extension</td></tr><tr><td colspan=\"4\" style=\"border-top: none; padding-top: 0\"><em>IPv6 interface as used in <code>ipaddress</code> module</em></td></tr><tr><td><code>IPvAnyInterface</code></td><td><code>string</code></td><td><code>{\"format\": \"ipvanyinterface\"}</code></td><td>Pydantic standard \"format\" extension</td></tr><tr><td colspan=\"4\" style=\"border-top: none; padding-top: 0\"><em>IPv4 or IPv6 interface as used in <code>ipaddress</code> module</em></td></tr><tr><td><code>IPv4Network</code></td><td><code>string</code></td><td><code>{\"format\": \"ipv4network\"}</code></td><td>Pydantic standard \"format\" extension</td></tr><tr><td colspan=\"4\" style=\"border-top: none; padding-top: 0\"><em>IPv4 network as used in <code>ipaddress</code> module</em></td></tr><tr><td><code>IPv6Network</code></td><td><code>string</code></td><td><code>{\"format\": \"ipv6network\"}</code></td><td>Pydantic standard \"format\" extension</td></tr><tr><td colspan=\"4\" style=\"border-top: none; padding-top: 0\"><em>IPv6 network as used in <code>ipaddress</code> module</em></td></tr><tr><td><code>IPvAnyNetwork</code></td><td><code>string</code></td><td><code>{\"format\": \"ipvanynetwork\"}</code></td><td>Pydantic standard \"format\" extension</td></tr><tr><td colspan=\"4\" style=\"border-top: none; padding-top: 0\"><em>IPv4 or IPv6 network as used in <code>ipaddress</code> module</em></td></tr><tr><td><code>StrictBool</code></td><td><code>boolean</code></td><td></td><td>JSON Schema Core</td></tr><tr><td><code>StrictStr</code></td><td><code>string</code></td><td></td><td>JSON Schema Core</td></tr><tr><td><code>ConstrainedStr</code></td><td><code>string</code></td><td></td><td>JSON Schema Core</td></tr><tr><td colspan=\"4\" style=\"border-top: none; padding-top: 0\"><em>If the type has values declared for the constraints, they are included as validations. See themapping for <code>constr</code> below.</em></td></tr><tr><td><code>constr(regex='^text$', min_length=2, max_length=10)</code></td><td><code>string</code></td><td><code>{\"pattern\": \"^text$\", \"minLength\": 2, \"maxLength\": 10}</code></td><td>JSON Schema Validation</td></tr><tr><td colspan=\"4\" style=\"border-top: none; padding-top: 0\"><em>Any argument not passed to the function (not defined) will not be included in the schema.</em></td></tr><tr><td><code>ConstrainedInt</code></td><td><code>integer</code></td><td></td><td>JSON Schema Core</td></tr><tr><td colspan=\"4\" style=\"border-top: none; padding-top: 0\"><em>If the type has values declared for the constraints, they are included as validations. See themapping for <code>conint</code> below.</em></td></tr><tr><td><code>conint(gt=1, ge=2, lt=6, le=5, multiple_of=2)</code></td><td><code>integer</code></td><td><code>{\"maximum\": 5, \"exclusiveMaximum\": 6, \"minimum\": 2, \"exclusiveMinimum\": 1, \"multipleOf\": 2}</code></td><td></td></tr><tr><td colspan=\"4\" style=\"border-top: none; padding-top: 0\"><em>Any argument not passed to the function (not defined) will not be included in the schema.</em></td></tr><tr><td><code>PositiveInt</code></td><td><code>integer</code></td><td><code>{\"exclusiveMinimum\": 0}</code></td><td>JSON Schema Validation</td></tr><tr><td><code>NegativeInt</code></td><td><code>integer</code></td><td><code>{\"exclusiveMaximum\": 0}</code></td><td>JSON Schema Validation</td></tr><tr><td><code>NonNegativeInt</code></td><td><code>integer</code></td><td><code>{\"minimum\": 0}</code></td><td>JSON Schema Validation</td></tr><tr><td><code>NonPositiveInt</code></td><td><code>integer</code></td><td><code>{\"maximum\": 0}</code></td><td>JSON Schema Validation</td></tr><tr><td><code>ConstrainedFloat</code></td><td><code>number</code></td><td></td><td>JSON Schema Core</td></tr><tr><td colspan=\"4\" style=\"border-top: none; padding-top: 0\"><em>If the type has values declared for the constraints, they are included as validations. See themapping for <code>confloat</code> below.</em></td></tr><tr><td><code>confloat(gt=1, ge=2, lt=6, le=5, multiple_of=2)</code></td><td><code>number</code></td><td><code>{\"maximum\": 5, \"exclusiveMaximum\": 6, \"minimum\": 2, \"exclusiveMinimum\": 1, \"multipleOf\": 2}</code></td><td>JSON Schema Validation</td></tr><tr><td colspan=\"4\" style=\"border-top: none; padding-top: 0\"><em>Any argument not passed to the function (not defined) will not be included in the schema.</em></td></tr><tr><td><code>PositiveFloat</code></td><td><code>number</code></td><td><code>{\"exclusiveMinimum\": 0}</code></td><td>JSON Schema Validation</td></tr><tr><td><code>NegativeFloat</code></td><td><code>number</code></td><td><code>{\"exclusiveMaximum\": 0}</code></td><td>JSON Schema Validation</td></tr><tr><td><code>NonNegativeFloat</code></td><td><code>number</code></td><td><code>{\"minimum\": 0}</code></td><td>JSON Schema Validation</td></tr><tr><td><code>NonPositiveFloat</code></td><td><code>number</code></td><td><code>{\"maximum\": 0}</code></td><td>JSON Schema Validation</td></tr><tr><td><code>ConstrainedDecimal</code></td><td><code>number</code></td><td></td><td>JSON Schema Core</td></tr><tr><td colspan=\"4\" style=\"border-top: none; padding-top: 0\"><em>If the type has values declared for the constraints, they are included as validations. See themapping for <code>condecimal</code> below.</em></td></tr><tr><td><code>condecimal(gt=1, ge=2, lt=6, le=5, multiple_of=2)</code></td><td><code>number</code></td><td><code>{\"maximum\": 5, \"exclusiveMaximum\": 6, \"minimum\": 2, \"exclusiveMinimum\": 1, \"multipleOf\": 2}</code></td><td>JSON Schema Validation</td></tr><tr><td colspan=\"4\" style=\"border-top: none; padding-top: 0\"><em>Any argument not passed to the function (not defined) will not be included in the schema.</em></td></tr><tr><td><code>BaseModel</code></td><td><code>object</code></td><td></td><td>JSON Schema Core</td></tr><tr><td colspan=\"4\" style=\"border-top: none; padding-top: 0\"><em>All the properties defined will be defined with standard JSON Schema, including submodels.</em></td></tr><tr><td><code>Color</code></td><td><code>string</code></td><td><code>{\"format\": \"color\"}</code></td><td>Pydantic standard \"format\" extension</td></tr></tbody></table>"
   ]
  },
  {
   "cell_type": "code",
   "execution_count": null,
   "metadata": {},
   "outputs": [],
   "source": []
  }
 ],
 "metadata": {
  "kernelspec": {
   "display_name": "valid-env",
   "language": "python",
   "name": "python3"
  },
  "language_info": {
   "codemirror_mode": {
    "name": "ipython",
    "version": 3
   },
   "file_extension": ".py",
   "mimetype": "text/x-python",
   "name": "python",
   "nbconvert_exporter": "python",
   "pygments_lexer": "ipython3",
   "version": "3.9.6 (tags/v3.9.6:db3ff76, Jun 28 2021, 15:26:21) [MSC v.1929 64 bit (AMD64)]"
  },
  "orig_nbformat": 4,
  "vscode": {
   "interpreter": {
    "hash": "c2258dd348c4db92d1fc23d9ac751564e58ace9e4e1a4507d6c5b14149e13659"
   }
  }
 },
 "nbformat": 4,
 "nbformat_minor": 2
}
