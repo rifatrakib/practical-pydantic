{
 "cells": [
  {
   "attachments": {},
   "cell_type": "markdown",
   "metadata": {},
   "source": [
    "#### Modifying schema in custom fields\n",
    "\n",
    "Custom field types can customise the schema generated for them using the `__modify_schema__` class method.\n",
    "\n",
    "`__modify_schema__` can also take a `field` argument which will have type `Optional[ModelField]`. _pydantic_ will inspect the signature of `__modify_schema__` to determine whether the `field` argument should be included."
   ]
  },
  {
   "cell_type": "code",
   "execution_count": 1,
   "metadata": {},
   "outputs": [],
   "source": [
    "from typing import Any, Callable, Dict, Generator, Optional\n",
    "from pydantic import BaseModel, Field\n",
    "from pydantic.fields import ModelField"
   ]
  },
  {
   "cell_type": "code",
   "execution_count": 2,
   "metadata": {},
   "outputs": [],
   "source": [
    "class RestrictedAlphabetStr(str):\n",
    "    @classmethod\n",
    "    def __get_validators__(cls) -> Generator[Callable, None, None]:\n",
    "        yield cls.validate\n",
    "    \n",
    "    @classmethod\n",
    "    def validate(cls, value: str, field: ModelField):\n",
    "        alphabet = field.field_info.extra[\"alphabet\"]\n",
    "        if any(c not in alphabet for c in value):\n",
    "            raise ValueError(f\"{value!r} is not restricted to {alphabet!r}\")\n",
    "        return cls(value)\n",
    "    \n",
    "    @classmethod\n",
    "    def __modify_schema__(\n",
    "        cls, field_schema: Dict[str, Any], field: Optional[ModelField]\n",
    "    ):\n",
    "        if field:\n",
    "            alphabet = field.field_info.extra[\"alphabet\"]\n",
    "            field_schema[\"examples\"] = [c * 3 for c in alphabet]"
   ]
  },
  {
   "cell_type": "code",
   "execution_count": 3,
   "metadata": {},
   "outputs": [],
   "source": [
    "class MyModel(BaseModel):\n",
    "    value: RestrictedAlphabetStr = Field(alphabet=\"ABC\")"
   ]
  },
  {
   "cell_type": "code",
   "execution_count": 4,
   "metadata": {},
   "outputs": [
    {
     "name": "stdout",
     "output_type": "stream",
     "text": [
      "{\n",
      "  \"title\": \"MyModel\",\n",
      "  \"type\": \"object\",\n",
      "  \"properties\": {\n",
      "    \"value\": {\n",
      "      \"title\": \"Value\",\n",
      "      \"alphabet\": \"ABC\",\n",
      "      \"examples\": [\n",
      "        \"AAA\",\n",
      "        \"BBB\",\n",
      "        \"CCC\"\n",
      "      ],\n",
      "      \"type\": \"string\"\n",
      "    }\n",
      "  },\n",
      "  \"required\": [\n",
      "    \"value\"\n",
      "  ]\n",
      "}\n"
     ]
    }
   ],
   "source": [
    "print(MyModel.schema_json(indent=2))"
   ]
  },
  {
   "cell_type": "code",
   "execution_count": null,
   "metadata": {},
   "outputs": [],
   "source": []
  }
 ],
 "metadata": {
  "kernelspec": {
   "display_name": "valid-env",
   "language": "python",
   "name": "python3"
  },
  "language_info": {
   "codemirror_mode": {
    "name": "ipython",
    "version": 3
   },
   "file_extension": ".py",
   "mimetype": "text/x-python",
   "name": "python",
   "nbconvert_exporter": "python",
   "pygments_lexer": "ipython3",
   "version": "3.9.6 (tags/v3.9.6:db3ff76, Jun 28 2021, 15:26:21) [MSC v.1929 64 bit (AMD64)]"
  },
  "orig_nbformat": 4,
  "vscode": {
   "interpreter": {
    "hash": "c2258dd348c4db92d1fc23d9ac751564e58ace9e4e1a4507d6c5b14149e13659"
   }
  }
 },
 "nbformat": 4,
 "nbformat_minor": 2
}
