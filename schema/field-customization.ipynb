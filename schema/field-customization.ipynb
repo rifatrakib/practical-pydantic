{
 "cells": [
  {
   "attachments": {},
   "cell_type": "markdown",
   "metadata": {},
   "source": [
    "#### Field customization\n",
    "\n",
    "Optionally, the `Field` function can be used to provide extra information about the field and validations. It has the following arguments.\n",
    "\n",
    "* `default`: (a positional argument) the default value of the field. Since the `Field` replaces the field's default, this first argument can be used to set the default. Use ellipsis (`...`) to indicate the field is required.\n",
    "\n",
    "* `default_factory`: a zero-argument callable that will be called when a default value is needed for this field. Among other purposes, this can be used to set dynamic default values. It is forbidden to set both `default` and `default_factory`.\n",
    "\n",
    "* `alias`: the public name of the field.\n",
    "\n",
    "* `title`: if omitted, `field_name.title()` is used.\n",
    "\n",
    "* `description`: if omitted and the annotation is a sub-model, the docstring of the sub-model will be used.\n",
    "\n",
    "* `exclude`: exclude this field when dumping (`.dict` and `.json`) the instance. The exact syntax and configuration options are described in details in the `exporting models section`.\n",
    "\n",
    "* `include`: include (only) this field when dumping (`.dict` and `.json`) the instance. The exact syntax and configuration options are described in details in the `exporting models section`.\n",
    "\n",
    "* `const`: this argument must be the same as the field's default value if present.\n",
    "\n",
    "* `gt`: for numeric values (`int`, `float`, `Decimal`), adds a validation of \"greater than\" and an annotation of `exclusiveMinimum` to the JSON Schema.\n",
    "\n",
    "* `ge`: for numeric values, this adds a validation of \"greater than or equal\" and an annotation of `minimum` to the JSON Schema.\n",
    "\n",
    "* `lt`: for numeric values, this adds a validation of \"less than\" and an annotation of `exclusiveMaximum` to the JSON Schema.\n",
    "\n",
    "* `le`: for numeric values, this adds a validation of \"less than or equal\" and an annotation of `maximum` to the JSON Schema.\n",
    "\n",
    "* `multiple_of`: for numeric values, this adds a validation of \"a multiple of\" and an annotation of multipleOf to the JSON Schema.\n",
    "\n",
    "* `max_digits`: for `Decimal` values, this adds a validation to have a maximum number of digits within the decimal. It does not include a zero before the decimal point or trailing decimal zeroes.\n",
    "\n",
    "* `decimal_places`: for `Decimal` values, this adds a validation to have at most a number of decimal places allowed. It does not include trailing decimal zeroes.\n",
    "\n",
    "* `min_items`: for list values, this adds a corresponding validation and an annotation of `minItems` to the JSON Schema.\n",
    "\n",
    "* `max_items`: for list values, this adds a corresponding validation and an annotation of `maxItems` to the JSON Schema.\n",
    "\n",
    "* `unique_items`: for list values, this adds a corresponding validation and an annotation of `uniqueItems` to the JSON Schema.\n",
    "\n",
    "* `min_length`: for string values, this adds a corresponding validation and an annotation of `minLength` to the JSON Schema.\n",
    "\n",
    "* `max_length`: for string values, this adds a corresponding validation and an annotation of `maxLength` to the JSON Schema.\n",
    "\n",
    "* `allow_mutation`: a boolean which defaults to `True`. When False, the field raises a `TypeError` if the field is assigned on an instance. The model config must set `validate_assignment` to `True` for this check to be performed.\n",
    "\n",
    "* `regex`: for string values, this adds a Regular Expression validation generated from the passed string and an annotation of `pattern` to the JSON Schema.\n",
    "\n",
    "> _pydantic_ validates strings using `re.match`, which treats regular expressions as implicitly anchored at the beginning. On the contrary, JSON Schema validators treat the `pattern` keyword as implicitly unanchored, more like what `re.search` does.\n",
    ">\n",
    "> For interoperability, depending on your desired behavior, either explicitly anchor your regular expressions with `^` (e.g. `^foo` to match any string starting with `foo`), or explicitly allow an arbitrary prefix with `.*?` (e.g. `.*?foo` to match any string containing the substring `foo`).\n",
    "\n",
    "* `repr`: a boolean which defaults to `True`. When False, the field shall be hidden from the object representation.\n",
    "\n",
    "* `**` any other keyword arguments (e.g. examples) will be added verbatim to the field's schema.\n",
    "\n",
    "Instead of using `Field`, the `fields` property of `the Config class` can be used to set all of the arguments above except `default`."
   ]
  },
  {
   "attachments": {},
   "cell_type": "markdown",
   "metadata": {},
   "source": [
    "##### Unenforced Field constraints\n",
    "\n",
    "If _pydantic_ finds constraints which are not being enforced, an error will be raised. If you want to force the constraint to appear in the schema, even though it's not being checked upon parsing, you can use variadic arguments to `Field()` with the raw schema attribute name."
   ]
  },
  {
   "cell_type": "code",
   "execution_count": 1,
   "metadata": {},
   "outputs": [],
   "source": [
    "from uuid import uuid4\n",
    "from typing import Annotated\n",
    "from pydantic import BaseModel, Field, PositiveInt"
   ]
  },
  {
   "cell_type": "code",
   "execution_count": 2,
   "metadata": {},
   "outputs": [
    {
     "name": "stdout",
     "output_type": "stream",
     "text": [
      "On field \"foo\" the following field constraints are set but not enforced: lt. \n",
      "For more details see https://pydantic-docs.helpmanual.io/usage/schema/#unenforced-field-constraints\n"
     ]
    }
   ],
   "source": [
    "try:\n",
    "    # this won't work since PositiveInt takes precedence over the\n",
    "    # constraints defined in Field meaning they're ignored\n",
    "    class Model(BaseModel):\n",
    "        foo: PositiveInt = Field(..., lt=10)\n",
    "except ValueError as e:\n",
    "    print(e)"
   ]
  },
  {
   "cell_type": "code",
   "execution_count": 3,
   "metadata": {},
   "outputs": [],
   "source": [
    "# but you can set the schema attribute directly:\n",
    "# (Note: here exclusiveMaximum will not be enforce)\n",
    "class Model(BaseModel):\n",
    "    foo: PositiveInt = Field(..., exclusiveMaximum=10)"
   ]
  },
  {
   "cell_type": "code",
   "execution_count": 4,
   "metadata": {},
   "outputs": [
    {
     "name": "stdout",
     "output_type": "stream",
     "text": [
      "{'title': 'Model', 'type': 'object', 'properties': {'foo': {'title': 'Foo', 'exclusiveMaximum': 10, 'exclusiveMinimum': 0, 'type': 'integer'}}, 'required': ['foo']}\n"
     ]
    }
   ],
   "source": [
    "print(Model.schema())"
   ]
  },
  {
   "cell_type": "code",
   "execution_count": 5,
   "metadata": {},
   "outputs": [
    {
     "name": "stdout",
     "output_type": "stream",
     "text": [
      "{\n",
      "    \"title\": \"Model\",\n",
      "    \"type\": \"object\",\n",
      "    \"properties\": {\n",
      "        \"foo\": {\n",
      "            \"title\": \"Foo\",\n",
      "            \"exclusiveMaximum\": 10,\n",
      "            \"exclusiveMinimum\": 0,\n",
      "            \"type\": \"integer\"\n",
      "        }\n",
      "    },\n",
      "    \"required\": [\n",
      "        \"foo\"\n",
      "    ]\n",
      "}\n"
     ]
    }
   ],
   "source": [
    "print(Model.schema_json(indent=4))"
   ]
  },
  {
   "cell_type": "code",
   "execution_count": 6,
   "metadata": {},
   "outputs": [],
   "source": [
    "# if you find yourself needing this, an alternative is to declare\n",
    "# the constraints in Field (or you could use conint())\n",
    "# here both constraints will be enforced:\n",
    "class Model(BaseModel):\n",
    "    # Here both constraints will be applied and the schema\n",
    "    # will be generated correctly\n",
    "    foo: int = Field(..., gt=0, lt=10)"
   ]
  },
  {
   "cell_type": "code",
   "execution_count": 7,
   "metadata": {},
   "outputs": [
    {
     "name": "stdout",
     "output_type": "stream",
     "text": [
      "{'title': 'Model', 'type': 'object', 'properties': {'foo': {'title': 'Foo', 'exclusiveMinimum': 0, 'exclusiveMaximum': 10, 'type': 'integer'}}, 'required': ['foo']}\n"
     ]
    }
   ],
   "source": [
    "print(Model.schema())"
   ]
  },
  {
   "cell_type": "code",
   "execution_count": 8,
   "metadata": {},
   "outputs": [
    {
     "name": "stdout",
     "output_type": "stream",
     "text": [
      "{\n",
      "    \"title\": \"Model\",\n",
      "    \"type\": \"object\",\n",
      "    \"properties\": {\n",
      "        \"foo\": {\n",
      "            \"title\": \"Foo\",\n",
      "            \"exclusiveMinimum\": 0,\n",
      "            \"exclusiveMaximum\": 10,\n",
      "            \"type\": \"integer\"\n",
      "        }\n",
      "    },\n",
      "    \"required\": [\n",
      "        \"foo\"\n",
      "    ]\n",
      "}\n"
     ]
    }
   ],
   "source": [
    "print(Model.schema_json(indent=4))"
   ]
  },
  {
   "attachments": {},
   "cell_type": "markdown",
   "metadata": {},
   "source": [
    "##### typing.Annotated Fields\n",
    "\n",
    "Rather than assigning a `Field` value, it can be specified in the type hint with `typing.Annotated`."
   ]
  },
  {
   "cell_type": "code",
   "execution_count": 9,
   "metadata": {},
   "outputs": [],
   "source": [
    "class Foo(BaseModel):\n",
    "    id: Annotated[str, Field(default_factory=lambda: uuid4().hex)]\n",
    "    name: Annotated[str, Field(max_length=256)] = \"Bar\""
   ]
  },
  {
   "attachments": {},
   "cell_type": "markdown",
   "metadata": {},
   "source": [
    "`Field` can only be supplied once per field - an error will be raised if used in `Annotated` and as the assigned value. Defaults can be set outside `Annotated` as the assigned value or with `Field.default_factory` inside `Annotated` - the `Field.default` argument is not supported inside `Annotated`.\n",
    "\n",
    "For versions of Python prior to 3.9, `typing_extensions.Annotated` can be used."
   ]
  },
  {
   "cell_type": "code",
   "execution_count": null,
   "metadata": {},
   "outputs": [],
   "source": []
  }
 ],
 "metadata": {
  "kernelspec": {
   "display_name": "valid-env",
   "language": "python",
   "name": "python3"
  },
  "language_info": {
   "codemirror_mode": {
    "name": "ipython",
    "version": 3
   },
   "file_extension": ".py",
   "mimetype": "text/x-python",
   "name": "python",
   "nbconvert_exporter": "python",
   "pygments_lexer": "ipython3",
   "version": "3.9.6"
  },
  "orig_nbformat": 4,
  "vscode": {
   "interpreter": {
    "hash": "c2258dd348c4db92d1fc23d9ac751564e58ace9e4e1a4507d6c5b14149e13659"
   }
  }
 },
 "nbformat": 4,
 "nbformat_minor": 2
}
