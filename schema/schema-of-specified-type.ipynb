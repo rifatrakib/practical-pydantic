{
 "cells": [
  {
   "attachments": {},
   "cell_type": "markdown",
   "metadata": {},
   "source": [
    "#### Getting schema of a specified type\n",
    "\n",
    "_Pydantic_ includes two standalone utility functions `schema_of` and `schema_json_of` that can be used to apply the schema generation logic used for pydantic models in a more ad-hoc way. These functions behave similarly to `BaseModel.schema` and `BaseModel.schema_json`, but work with arbitrary pydantic-compatible types."
   ]
  },
  {
   "cell_type": "code",
   "execution_count": 1,
   "metadata": {},
   "outputs": [],
   "source": [
    "from typing import Literal, Union\n",
    "from typing_extensions import Annotated\n",
    "from pydantic import BaseModel, Field, schema_json_of"
   ]
  },
  {
   "cell_type": "code",
   "execution_count": 2,
   "metadata": {},
   "outputs": [],
   "source": [
    "class Cat(BaseModel):\n",
    "    pet_type: Literal[\"cat\"]\n",
    "    cat_name: str"
   ]
  },
  {
   "cell_type": "code",
   "execution_count": 3,
   "metadata": {},
   "outputs": [],
   "source": [
    "class Dog(BaseModel):\n",
    "    pet_type: Literal[\"dog\"]\n",
    "    dog_name: str"
   ]
  },
  {
   "cell_type": "code",
   "execution_count": 4,
   "metadata": {},
   "outputs": [],
   "source": [
    "Pet = Annotated[Union[Cat, Dog], Field(discriminator=\"pet_type\")]"
   ]
  },
  {
   "cell_type": "code",
   "execution_count": 5,
   "metadata": {},
   "outputs": [
    {
     "name": "stdout",
     "output_type": "stream",
     "text": [
      "{\n",
      "  \"title\": \"The Pet Schema\",\n",
      "  \"discriminator\": {\n",
      "    \"propertyName\": \"pet_type\",\n",
      "    \"mapping\": {\n",
      "      \"cat\": \"#/definitions/Cat\",\n",
      "      \"dog\": \"#/definitions/Dog\"\n",
      "    }\n",
      "  },\n",
      "  \"oneOf\": [\n",
      "    {\n",
      "      \"$ref\": \"#/definitions/Cat\"\n",
      "    },\n",
      "    {\n",
      "      \"$ref\": \"#/definitions/Dog\"\n",
      "    }\n",
      "  ],\n",
      "  \"definitions\": {\n",
      "    \"Cat\": {\n",
      "      \"title\": \"Cat\",\n",
      "      \"type\": \"object\",\n",
      "      \"properties\": {\n",
      "        \"pet_type\": {\n",
      "          \"title\": \"Pet Type\",\n",
      "          \"enum\": [\n",
      "            \"cat\"\n",
      "          ],\n",
      "          \"type\": \"string\"\n",
      "        },\n",
      "        \"cat_name\": {\n",
      "          \"title\": \"Cat Name\",\n",
      "          \"type\": \"string\"\n",
      "        }\n",
      "      },\n",
      "      \"required\": [\n",
      "        \"pet_type\",\n",
      "        \"cat_name\"\n",
      "      ]\n",
      "    },\n",
      "    \"Dog\": {\n",
      "      \"title\": \"Dog\",\n",
      "      \"type\": \"object\",\n",
      "      \"properties\": {\n",
      "        \"pet_type\": {\n",
      "          \"title\": \"Pet Type\",\n",
      "          \"enum\": [\n",
      "            \"dog\"\n",
      "          ],\n",
      "          \"type\": \"string\"\n",
      "        },\n",
      "        \"dog_name\": {\n",
      "          \"title\": \"Dog Name\",\n",
      "          \"type\": \"string\"\n",
      "        }\n",
      "      },\n",
      "      \"required\": [\n",
      "        \"pet_type\",\n",
      "        \"dog_name\"\n",
      "      ]\n",
      "    }\n",
      "  }\n",
      "}\n"
     ]
    }
   ],
   "source": [
    "print(schema_json_of(Pet, title=\"The Pet Schema\", indent=2))"
   ]
  },
  {
   "cell_type": "code",
   "execution_count": null,
   "metadata": {},
   "outputs": [],
   "source": []
  }
 ],
 "metadata": {
  "kernelspec": {
   "display_name": "valid-env",
   "language": "python",
   "name": "python3"
  },
  "language_info": {
   "codemirror_mode": {
    "name": "ipython",
    "version": 3
   },
   "file_extension": ".py",
   "mimetype": "text/x-python",
   "name": "python",
   "nbconvert_exporter": "python",
   "pygments_lexer": "ipython3",
   "version": "3.9.6"
  },
  "orig_nbformat": 4,
  "vscode": {
   "interpreter": {
    "hash": "c2258dd348c4db92d1fc23d9ac751564e58ace9e4e1a4507d6c5b14149e13659"
   }
  }
 },
 "nbformat": 4,
 "nbformat_minor": 2
}
