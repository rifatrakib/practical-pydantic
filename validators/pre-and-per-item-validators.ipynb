{
 "cells": [
  {
   "attachments": {},
   "cell_type": "markdown",
   "metadata": {},
   "source": [
    "#### Pre and per-item validators\n",
    "\n",
    "Validators can do a few more complex things."
   ]
  },
  {
   "cell_type": "code",
   "execution_count": 1,
   "metadata": {},
   "outputs": [],
   "source": [
    "from typing import List\n",
    "from pydantic import BaseModel, ValidationError, validator"
   ]
  },
  {
   "cell_type": "code",
   "execution_count": 2,
   "metadata": {},
   "outputs": [],
   "source": [
    "class DemoModel(BaseModel):\n",
    "    square_numbers: List[int] = []\n",
    "    cube_numbers: List[int] = []\n",
    "    \n",
    "    # '*' is the same as 'cube_numbers', 'square_numbers' here:\n",
    "    @validator(\"*\", pre=True)\n",
    "    def split_str(cls, v):\n",
    "        if isinstance(v, str):\n",
    "            return v.split(\"|\")\n",
    "        return v\n",
    "    \n",
    "    @validator(\"cube_numbers\", \"square_numbers\")\n",
    "    def check_sum(cls, v):\n",
    "        if sum(v) > 42:\n",
    "            raise ValueError(\"sum of numbers greater than 42\")\n",
    "        return v\n",
    "    \n",
    "    @validator(\"square_numbers\", each_item=True)\n",
    "    def check_squares(cls, v):\n",
    "        assert v ** 0.5 % 1 == 0, f\"{v} is not a square number\"\n",
    "        return v\n",
    "    \n",
    "    @validator(\"cube_numbers\", each_item=True)\n",
    "    def check_cubes(cls, v):\n",
    "        # 64 ** (1 / 3) == 3.9999999999999996 (!)\n",
    "        # this is not a good way of checking cubes\n",
    "        assert v ** (1 / 3) % 1 == 0, f\"{v} is not a cubed number\"\n",
    "        return v"
   ]
  },
  {
   "cell_type": "code",
   "execution_count": 3,
   "metadata": {},
   "outputs": [
    {
     "name": "stdout",
     "output_type": "stream",
     "text": [
      "DemoModel(square_numbers=[1, 4, 9]) = DemoModel(square_numbers=[1, 4, 9], cube_numbers=[])\n"
     ]
    }
   ],
   "source": [
    "print(f\"{DemoModel(square_numbers=[1, 4, 9]) = }\")"
   ]
  },
  {
   "cell_type": "code",
   "execution_count": 4,
   "metadata": {},
   "outputs": [
    {
     "name": "stdout",
     "output_type": "stream",
     "text": [
      "DemoModel(square_numbers='1|4|16') = DemoModel(square_numbers=[1, 4, 16], cube_numbers=[])\n"
     ]
    }
   ],
   "source": [
    "print(f\"{DemoModel(square_numbers='1|4|16') = }\")"
   ]
  },
  {
   "cell_type": "code",
   "execution_count": 5,
   "metadata": {},
   "outputs": [
    {
     "name": "stdout",
     "output_type": "stream",
     "text": [
      "DemoModel(square_numbers=[16], cube_numbers=[8, 27]) = DemoModel(square_numbers=[16], cube_numbers=[8, 27])\n"
     ]
    }
   ],
   "source": [
    "print(f\"{DemoModel(square_numbers=[16], cube_numbers=[8, 27]) = }\")"
   ]
  },
  {
   "cell_type": "code",
   "execution_count": 6,
   "metadata": {},
   "outputs": [
    {
     "name": "stdout",
     "output_type": "stream",
     "text": [
      "1 validation error for DemoModel\n",
      "square_numbers -> 2\n",
      "  2 is not a square number (type=assertion_error)\n"
     ]
    }
   ],
   "source": [
    "try:\n",
    "    print(f\"{DemoModel(square_numbers=[1, 4, 2]) = }\")\n",
    "except ValidationError as e:\n",
    "    print(e)"
   ]
  },
  {
   "cell_type": "code",
   "execution_count": 7,
   "metadata": {},
   "outputs": [
    {
     "name": "stdout",
     "output_type": "stream",
     "text": [
      "1 validation error for DemoModel\n",
      "cube_numbers\n",
      "  sum of numbers greater than 42 (type=value_error)\n"
     ]
    }
   ],
   "source": [
    "try:\n",
    "    print(f\"{DemoModel(cube_numbers=[27, 27]) = }\")\n",
    "except ValidationError as e:\n",
    "    print(e)"
   ]
  },
  {
   "attachments": {},
   "cell_type": "markdown",
   "metadata": {},
   "source": [
    "A few more things to note:\n",
    "\n",
    "* a single validator can be applied to multiple fields by passing it multiple field names.\n",
    "\n",
    "* a single validator can also be called on all fields by passing the special value \"*\".\n",
    "\n",
    "* the keyword argument `pre` will cause the validator to be called prior to other validation.\n",
    "\n",
    "* passing `each_item=True` will result in the validator being applied to individual values (e.g. of `List`, `Dict`, `Set`, etc.), rather than the whole object."
   ]
  },
  {
   "cell_type": "code",
   "execution_count": null,
   "metadata": {},
   "outputs": [],
   "source": []
  }
 ],
 "metadata": {
  "kernelspec": {
   "display_name": "valid-env",
   "language": "python",
   "name": "python3"
  },
  "language_info": {
   "codemirror_mode": {
    "name": "ipython",
    "version": 3
   },
   "file_extension": ".py",
   "mimetype": "text/x-python",
   "name": "python",
   "nbconvert_exporter": "python",
   "pygments_lexer": "ipython3",
   "version": "3.9.6"
  },
  "orig_nbformat": 4,
  "vscode": {
   "interpreter": {
    "hash": "c2258dd348c4db92d1fc23d9ac751564e58ace9e4e1a4507d6c5b14149e13659"
   }
  }
 },
 "nbformat": 4,
 "nbformat_minor": 2
}
