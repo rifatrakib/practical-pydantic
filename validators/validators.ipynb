{
 "cells": [
  {
   "attachments": {},
   "cell_type": "markdown",
   "metadata": {},
   "source": [
    "#### Validators\n",
    "\n",
    "Custom validation and complex relationships between objects can be achieved using the `validator` decorator."
   ]
  },
  {
   "cell_type": "code",
   "execution_count": 1,
   "metadata": {},
   "outputs": [],
   "source": [
    "from pydantic import BaseModel, ValidationError, validator"
   ]
  },
  {
   "cell_type": "code",
   "execution_count": 2,
   "metadata": {},
   "outputs": [],
   "source": [
    "class UserModel(BaseModel):\n",
    "    name: str\n",
    "    username: str\n",
    "    password1: str\n",
    "    password2: str\n",
    "    \n",
    "    @validator(\"name\")\n",
    "    def name_must_contain_space(cls, v):\n",
    "        if \" \" not in v:\n",
    "            raise ValueError(\"must contain a space\")\n",
    "        return v.title()\n",
    "    \n",
    "    @validator(\"password2\")\n",
    "    def password_match(cls, v, values, **kwargs):\n",
    "        if \"password1\" in values and v != values[\"password1\"]:\n",
    "            raise ValueError(\"passwords do not match\")\n",
    "        return v\n",
    "    \n",
    "    @validator(\"username\")\n",
    "    def username_alphanumeric(cls, v):\n",
    "        assert v.isalnum(), \"must be alphanumeric\"\n",
    "        return v"
   ]
  },
  {
   "cell_type": "code",
   "execution_count": 3,
   "metadata": {},
   "outputs": [
    {
     "name": "stdout",
     "output_type": "stream",
     "text": [
      "user = UserModel(name='Samuel Colvin', username='scolvin', password1='zxcvbn', password2='zxcvbn')\n"
     ]
    }
   ],
   "source": [
    "user = UserModel(\n",
    "    name=\"samuel colvin\",\n",
    "    username=\"scolvin\",\n",
    "    password1=\"zxcvbn\",\n",
    "    password2=\"zxcvbn\",\n",
    ")\n",
    "print(f\"{user = }\")"
   ]
  },
  {
   "cell_type": "code",
   "execution_count": 4,
   "metadata": {},
   "outputs": [
    {
     "name": "stdout",
     "output_type": "stream",
     "text": [
      "2 validation errors for UserModel\n",
      "name\n",
      "  must contain a space (type=value_error)\n",
      "password2\n",
      "  passwords do not match (type=value_error)\n"
     ]
    }
   ],
   "source": [
    "try:\n",
    "    user = UserModel(\n",
    "        name=\"samuel\",\n",
    "        username=\"scolvin\",\n",
    "        password1=\"zxcvbn\",\n",
    "        password2=\"zxcvbn2\",\n",
    "    )\n",
    "    print(f\"{user = }\")\n",
    "except ValidationError as e:\n",
    "    print(e)"
   ]
  },
  {
   "attachments": {},
   "cell_type": "markdown",
   "metadata": {},
   "source": [
    "A few things to note on validators:\n",
    "\n",
    "* validators are \"class methods\", so the first argument value they receive is the `UserModel` class, not an instance of `UserModel`.\n",
    "\n",
    "* the second argument is always the field value to validate; it can be named as you please.\n",
    "\n",
    "* you can also add any subset of the following arguments to the signature (the names __must__ match):\n",
    "\n",
    "    * `values`: a dict containing the name-to-value mapping of any previously-validated fields.\n",
    "\n",
    "    * `config`: the model config.\n",
    "\n",
    "    * `field`: the field being validated. Type of object is `pydantic.fields.ModelField`.\n",
    "\n",
    "    * `**kwargs`: if provided, this will include the arguments above not explicitly listed in the signature.\n",
    "\n",
    "* validators should either return the parsed value or raise a `ValueError`, `TypeError`, or `AssertionError` (`assert` statements may be used).\n",
    "\n",
    "> ##### Warning\n",
    ">\n",
    "> If you make use of `assert` statements, keep in mind that running Python with the `-O optimization flag` disables `assert` statements, and __validators will stop working__.\n",
    "\n",
    "* where validators rely on other values, you should be aware that:\n",
    "\n",
    "    * Validation is done in the order fields are defined. E.g. in the example above, `password2` has access to `password1` (and `name`), but `password1` does not have access to `password2`. See `Field Ordering` for more information on how fields are ordered.\n",
    "\n",
    "    * If validation fails on another field (or that field is missing) it will not be included in `values`, hence `if \"password1\" in values and ...` in this example."
   ]
  },
  {
   "cell_type": "code",
   "execution_count": null,
   "metadata": {},
   "outputs": [],
   "source": []
  }
 ],
 "metadata": {
  "kernelspec": {
   "display_name": "valid-env",
   "language": "python",
   "name": "python3"
  },
  "language_info": {
   "codemirror_mode": {
    "name": "ipython",
    "version": 3
   },
   "file_extension": ".py",
   "mimetype": "text/x-python",
   "name": "python",
   "nbconvert_exporter": "python",
   "pygments_lexer": "ipython3",
   "version": "3.9.6"
  },
  "orig_nbformat": 4,
  "vscode": {
   "interpreter": {
    "hash": "c2258dd348c4db92d1fc23d9ac751564e58ace9e4e1a4507d6c5b14149e13659"
   }
  }
 },
 "nbformat": 4,
 "nbformat_minor": 2
}
