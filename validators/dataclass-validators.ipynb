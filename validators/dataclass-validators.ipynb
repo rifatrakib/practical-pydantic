{
 "cells": [
  {
   "attachments": {},
   "cell_type": "markdown",
   "metadata": {},
   "source": [
    "#### Dataclass Validators\n",
    "\n",
    "Validators also work with pydantic dataclasses."
   ]
  },
  {
   "cell_type": "code",
   "execution_count": 1,
   "metadata": {},
   "outputs": [],
   "source": [
    "from datetime import datetime\n",
    "from pydantic import validator\n",
    "from pydantic.dataclasses import dataclass"
   ]
  },
  {
   "cell_type": "code",
   "execution_count": 2,
   "metadata": {},
   "outputs": [],
   "source": [
    "@dataclass\n",
    "class DemoDataclass:\n",
    "    ts: datetime = None\n",
    "    \n",
    "    @validator(\"ts\", pre=True, always=True)\n",
    "    def set_ts_now(cls, v):\n",
    "        return v or datetime.now()"
   ]
  },
  {
   "cell_type": "code",
   "execution_count": 3,
   "metadata": {},
   "outputs": [
    {
     "name": "stdout",
     "output_type": "stream",
     "text": [
      "DemoDataclass() = DemoDataclass(ts=datetime.datetime(2022, 12, 19, 17, 17, 49, 310341))\n",
      "DemoDataclass(ts='2017-11-08T14:00') = DemoDataclass(ts=datetime.datetime(2017, 11, 8, 14, 0))\n"
     ]
    }
   ],
   "source": [
    "print(f\"{DemoDataclass() = }\")\n",
    "print(f\"{DemoDataclass(ts='2017-11-08T14:00') = }\")"
   ]
  },
  {
   "cell_type": "code",
   "execution_count": null,
   "metadata": {},
   "outputs": [],
   "source": []
  }
 ],
 "metadata": {
  "kernelspec": {
   "display_name": "valid-env",
   "language": "python",
   "name": "python3"
  },
  "language_info": {
   "codemirror_mode": {
    "name": "ipython",
    "version": 3
   },
   "file_extension": ".py",
   "mimetype": "text/x-python",
   "name": "python",
   "nbconvert_exporter": "python",
   "pygments_lexer": "ipython3",
   "version": "3.9.6"
  },
  "orig_nbformat": 4,
  "vscode": {
   "interpreter": {
    "hash": "c2258dd348c4db92d1fc23d9ac751564e58ace9e4e1a4507d6c5b14149e13659"
   }
  }
 },
 "nbformat": 4,
 "nbformat_minor": 2
}
