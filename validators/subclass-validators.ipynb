{
 "cells": [
  {
   "attachments": {},
   "cell_type": "markdown",
   "metadata": {},
   "source": [
    "#### Subclass Validators and `each_item`\n",
    "\n",
    "If using a validator with a subclass that references a `List` type field on a parent class, using `each_item=True` will cause the validator not to run; instead, the list must be iterated over programmatically."
   ]
  },
  {
   "cell_type": "code",
   "execution_count": 1,
   "metadata": {},
   "outputs": [],
   "source": [
    "from typing import List\n",
    "from pydantic import BaseModel, ValidationError, validator"
   ]
  },
  {
   "cell_type": "code",
   "execution_count": 2,
   "metadata": {},
   "outputs": [],
   "source": [
    "class ParentModel(BaseModel):\n",
    "    names: List[str]"
   ]
  },
  {
   "cell_type": "code",
   "execution_count": 3,
   "metadata": {},
   "outputs": [],
   "source": [
    "class ChildModel(ParentModel):\n",
    "    @validator(\"names\", each_item=True)\n",
    "    def check_names_not_empty(cls, v):\n",
    "        assert v != \"\", \"empty strings are not allowed\"\n",
    "        return v"
   ]
  },
  {
   "cell_type": "code",
   "execution_count": 4,
   "metadata": {},
   "outputs": [
    {
     "name": "stdout",
     "output_type": "stream",
     "text": [
      "No ValidationError caught.\n"
     ]
    }
   ],
   "source": [
    "try:\n",
    "    child = ChildModel(names=[\"Alice\", \"Bob\", \"Eve\", \"\"])\n",
    "except ValidationError as e:\n",
    "    print(e)\n",
    "else:\n",
    "    print(\"No ValidationError caught.\")"
   ]
  },
  {
   "cell_type": "code",
   "execution_count": 5,
   "metadata": {},
   "outputs": [],
   "source": [
    "class IterativeChildModel(ParentModel):\n",
    "    @validator(\"names\")\n",
    "    def check_names_not_empty(cls, v):\n",
    "        for name in v:\n",
    "            assert name != \"\", \"empty strings are not allowed\"\n",
    "        return v"
   ]
  },
  {
   "cell_type": "code",
   "execution_count": 6,
   "metadata": {},
   "outputs": [
    {
     "name": "stdout",
     "output_type": "stream",
     "text": [
      "1 validation error for IterativeChildModel\n",
      "names\n",
      "  empty strings are not allowed (type=assertion_error)\n"
     ]
    }
   ],
   "source": [
    "try:\n",
    "    child = IterativeChildModel(names=[\"Alice\", \"Bob\", \"Eve\", \"\"])\n",
    "except ValidationError as e:\n",
    "    print(e)\n",
    "else:\n",
    "    print(\"No ValidationError caught.\")"
   ]
  },
  {
   "cell_type": "code",
   "execution_count": null,
   "metadata": {},
   "outputs": [],
   "source": []
  }
 ],
 "metadata": {
  "kernelspec": {
   "display_name": "valid-env",
   "language": "python",
   "name": "python3"
  },
  "language_info": {
   "codemirror_mode": {
    "name": "ipython",
    "version": 3
   },
   "file_extension": ".py",
   "mimetype": "text/x-python",
   "name": "python",
   "nbconvert_exporter": "python",
   "pygments_lexer": "ipython3",
   "version": "3.9.6"
  },
  "orig_nbformat": 4,
  "vscode": {
   "interpreter": {
    "hash": "c2258dd348c4db92d1fc23d9ac751564e58ace9e4e1a4507d6c5b14149e13659"
   }
  }
 },
 "nbformat": 4,
 "nbformat_minor": 2
}
