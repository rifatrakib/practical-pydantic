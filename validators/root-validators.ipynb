{
 "cells": [
  {
   "attachments": {},
   "cell_type": "markdown",
   "metadata": {},
   "source": [
    "#### Root Validators\n",
    "\n",
    "Validation can also be performed on the entire model's data."
   ]
  },
  {
   "cell_type": "code",
   "execution_count": 1,
   "metadata": {},
   "outputs": [],
   "source": [
    "from pydantic import BaseModel, ValidationError, root_validator"
   ]
  },
  {
   "cell_type": "code",
   "execution_count": 2,
   "metadata": {},
   "outputs": [],
   "source": [
    "class UserModel(BaseModel):\n",
    "    username: str\n",
    "    password1: str\n",
    "    password2: str\n",
    "    \n",
    "    @root_validator(pre=True)\n",
    "    def check_card_number_omitted(cls, values):\n",
    "        assert \"card_number\" not in values, \"card_number should not be included\"\n",
    "        return values\n",
    "    \n",
    "    @root_validator\n",
    "    def check_passwords_match(cls, values):\n",
    "        pw1, pw2 = values.get(\"password1\"), values.get(\"password2\")\n",
    "        if pw1 is not None and pw2 is not None and pw1 != pw2:\n",
    "            raise ValueError(\"passwords do not match\")\n",
    "        return values"
   ]
  },
  {
   "cell_type": "code",
   "execution_count": 3,
   "metadata": {},
   "outputs": [
    {
     "name": "stdout",
     "output_type": "stream",
     "text": [
      "UserModel(username='scolvin', password1='zxcvbn', password2='zxcvbn') = UserModel(username='scolvin', password1='zxcvbn', password2='zxcvbn')\n"
     ]
    }
   ],
   "source": [
    "print(f\"{UserModel(username='scolvin', password1='zxcvbn', password2='zxcvbn') = }\")"
   ]
  },
  {
   "cell_type": "code",
   "execution_count": 4,
   "metadata": {},
   "outputs": [
    {
     "name": "stdout",
     "output_type": "stream",
     "text": [
      "1 validation error for UserModel\n",
      "__root__\n",
      "  passwords do not match (type=value_error)\n"
     ]
    }
   ],
   "source": [
    "try:\n",
    "    print(f\"{UserModel(username='scolvin', password1='zxcvbn', password2='zxcvbn2') = }\")\n",
    "except ValidationError as e:\n",
    "    print(e)"
   ]
  },
  {
   "cell_type": "code",
   "execution_count": 5,
   "metadata": {},
   "outputs": [
    {
     "name": "stdout",
     "output_type": "stream",
     "text": [
      "1 validation error for UserModel\n",
      "__root__\n",
      "  card_number should not be included (type=assertion_error)\n"
     ]
    }
   ],
   "source": [
    "try:\n",
    "    m = UserModel(\n",
    "        username=\"scolvin\",\n",
    "        password1=\"zxcvbn\",\n",
    "        password2=\"zxcvbn\",\n",
    "        card_number=\"1234\",\n",
    "    )\n",
    "    print(m)\n",
    "except ValidationError as e:\n",
    "    print(e)"
   ]
  },
  {
   "attachments": {},
   "cell_type": "markdown",
   "metadata": {},
   "source": [
    "As with field validators, root validators can have `pre=True`, in which case they're called before field validation occurs (and are provided with the raw input data), or `pre=False` (the default), in which case they're called after field validation.\n",
    "\n",
    "Field validation will not occur if `pre=True` root validators raise an error. As with field validators, \"post\" (i.e. `pre=False`) root validators by default will be called even if prior validators fail; this behaviour can be changed by setting the `skip_on_failure=True` keyword argument to the validator. The `values` argument will be a dict containing the values which passed field validation and field defaults where applicable."
   ]
  },
  {
   "cell_type": "code",
   "execution_count": null,
   "metadata": {},
   "outputs": [],
   "source": []
  }
 ],
 "metadata": {
  "kernelspec": {
   "display_name": "valid-env",
   "language": "python",
   "name": "python3"
  },
  "language_info": {
   "codemirror_mode": {
    "name": "ipython",
    "version": 3
   },
   "file_extension": ".py",
   "mimetype": "text/x-python",
   "name": "python",
   "nbconvert_exporter": "python",
   "pygments_lexer": "ipython3",
   "version": "3.9.6"
  },
  "orig_nbformat": 4,
  "vscode": {
   "interpreter": {
    "hash": "c2258dd348c4db92d1fc23d9ac751564e58ace9e4e1a4507d6c5b14149e13659"
   }
  }
 },
 "nbformat": 4,
 "nbformat_minor": 2
}
