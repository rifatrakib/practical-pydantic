{
 "cells": [
  {
   "attachments": {},
   "cell_type": "markdown",
   "metadata": {},
   "source": [
    "#### Alias Generator\n",
    "\n",
    "If data source field names do not match your code style (e. g. CamelCase fields), you can automatically generate aliases using `alias_generator`."
   ]
  },
  {
   "cell_type": "code",
   "execution_count": 1,
   "metadata": {},
   "outputs": [],
   "source": [
    "from pydantic import BaseModel"
   ]
  },
  {
   "cell_type": "code",
   "execution_count": 2,
   "metadata": {},
   "outputs": [],
   "source": [
    "def to_camel(string: str) -> str:\n",
    "    return \"\".join(word.capitalize() for word in string.split(\"_\"))"
   ]
  },
  {
   "cell_type": "code",
   "execution_count": 3,
   "metadata": {},
   "outputs": [],
   "source": [
    "class Voice(BaseModel):\n",
    "    name: str\n",
    "    language_code: str\n",
    "    \n",
    "    class Config:\n",
    "        alias_generator = to_camel"
   ]
  },
  {
   "cell_type": "code",
   "execution_count": 4,
   "metadata": {},
   "outputs": [
    {
     "name": "stdout",
     "output_type": "stream",
     "text": [
      "voice.language_code = 'tr-TR'\n",
      "voice.dict(by_alias=True) = {'Name': 'Filiz', 'LanguageCode': 'tr-TR'}\n"
     ]
    }
   ],
   "source": [
    "voice = Voice(Name=\"Filiz\", LanguageCode=\"tr-TR\")\n",
    "print(f\"{voice.language_code = }\")\n",
    "print(f\"{voice.dict(by_alias=True) = }\")"
   ]
  },
  {
   "attachments": {},
   "cell_type": "markdown",
   "metadata": {},
   "source": [
    "Here camel case refers to `\"upper camel case\"` aka pascal case e.g. `CamelCase`. If you'd like instead to use lower camel case e.g. `camelCase`, instead use the `to_lower_camel` function."
   ]
  },
  {
   "cell_type": "code",
   "execution_count": null,
   "metadata": {},
   "outputs": [],
   "source": []
  }
 ],
 "metadata": {
  "kernelspec": {
   "display_name": "valid-env",
   "language": "python",
   "name": "python3"
  },
  "language_info": {
   "codemirror_mode": {
    "name": "ipython",
    "version": 3
   },
   "file_extension": ".py",
   "mimetype": "text/x-python",
   "name": "python",
   "nbconvert_exporter": "python",
   "pygments_lexer": "ipython3",
   "version": "3.9.6"
  },
  "orig_nbformat": 4,
  "vscode": {
   "interpreter": {
    "hash": "c2258dd348c4db92d1fc23d9ac751564e58ace9e4e1a4507d6c5b14149e13659"
   }
  }
 },
 "nbformat": 4,
 "nbformat_minor": 2
}
