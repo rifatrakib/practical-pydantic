{
 "cells": [
  {
   "attachments": {},
   "cell_type": "markdown",
   "metadata": {},
   "source": [
    "#### Smart Union\n",
    "\n",
    "By default, pydantic tries to validate (and coerce if it can) in the order of the `Union`. So sometimes you may have unexpected coerced data."
   ]
  },
  {
   "cell_type": "code",
   "execution_count": 1,
   "metadata": {},
   "outputs": [],
   "source": [
    "from typing import List, Union\n",
    "from pydantic import BaseModel"
   ]
  },
  {
   "cell_type": "code",
   "execution_count": 2,
   "metadata": {},
   "outputs": [],
   "source": [
    "class Foo(BaseModel):\n",
    "    pass"
   ]
  },
  {
   "cell_type": "code",
   "execution_count": 3,
   "metadata": {},
   "outputs": [],
   "source": [
    "class Bar(BaseModel):\n",
    "    pass"
   ]
  },
  {
   "cell_type": "code",
   "execution_count": 4,
   "metadata": {},
   "outputs": [],
   "source": [
    "class FaultyModel(BaseModel):\n",
    "    x: Union[str, int]\n",
    "    y: Union[Foo, Bar]"
   ]
  },
  {
   "cell_type": "code",
   "execution_count": 5,
   "metadata": {},
   "outputs": [
    {
     "name": "stdout",
     "output_type": "stream",
     "text": [
      "FaultyModel(x=1, y=Bar()) = FaultyModel(x='1', y=Foo())\n"
     ]
    }
   ],
   "source": [
    "print(f\"{FaultyModel(x=1, y=Bar()) = }\")"
   ]
  },
  {
   "attachments": {},
   "cell_type": "markdown",
   "metadata": {},
   "source": [
    "To prevent this, you can enable `Config.smart_union`. Pydantic will then check all allowed types before even trying to coerce. Know that this is of course slower, especially if your `Union` is quite big."
   ]
  },
  {
   "cell_type": "code",
   "execution_count": 6,
   "metadata": {},
   "outputs": [],
   "source": [
    "class GoodModel(BaseModel):\n",
    "    x: Union[str, int]\n",
    "    y: Union[Foo, Bar]\n",
    "    \n",
    "    class Config:\n",
    "        smart_union = True"
   ]
  },
  {
   "cell_type": "code",
   "execution_count": 7,
   "metadata": {},
   "outputs": [
    {
     "name": "stdout",
     "output_type": "stream",
     "text": [
      "GoodModel(x=1, y=Bar()) = GoodModel(x=1, y=Bar())\n"
     ]
    }
   ],
   "source": [
    "print(f\"{GoodModel(x=1, y=Bar()) = }\")"
   ]
  },
  {
   "attachments": {},
   "cell_type": "markdown",
   "metadata": {},
   "source": [
    "> ##### Note\n",
    ">\n",
    "> Note that this option __does not support compound types yet__ (e.g. differentiate `List[int]` and `List[str]`). This option will be improved further once a strict mode is added in pydantic and will probably be the default behaviour in v2!"
   ]
  },
  {
   "cell_type": "code",
   "execution_count": 8,
   "metadata": {},
   "outputs": [],
   "source": [
    "class Model(BaseModel, smart_union=True):\n",
    "    x: Union[List[str], List[int]]"
   ]
  },
  {
   "cell_type": "code",
   "execution_count": 9,
   "metadata": {},
   "outputs": [
    {
     "name": "stdout",
     "output_type": "stream",
     "text": [
      "Model(x=[1, '2']) = Model(x=['1', '2'])\n"
     ]
    }
   ],
   "source": [
    "print(f\"{Model(x=[1, '2']) = }\")"
   ]
  },
  {
   "cell_type": "code",
   "execution_count": 10,
   "metadata": {},
   "outputs": [
    {
     "name": "stdout",
     "output_type": "stream",
     "text": [
      "Model(x=[1, 2]) = Model(x=['1', '2'])\n"
     ]
    }
   ],
   "source": [
    "print(f\"{Model(x=[1, 2]) = }\")"
   ]
  },
  {
   "cell_type": "code",
   "execution_count": null,
   "metadata": {},
   "outputs": [],
   "source": []
  }
 ],
 "metadata": {
  "kernelspec": {
   "display_name": "valid-env",
   "language": "python",
   "name": "python3"
  },
  "language_info": {
   "codemirror_mode": {
    "name": "ipython",
    "version": 3
   },
   "file_extension": ".py",
   "mimetype": "text/x-python",
   "name": "python",
   "nbconvert_exporter": "python",
   "pygments_lexer": "ipython3",
   "version": "3.9.6"
  },
  "orig_nbformat": 4,
  "vscode": {
   "interpreter": {
    "hash": "c2258dd348c4db92d1fc23d9ac751564e58ace9e4e1a4507d6c5b14149e13659"
   }
  }
 },
 "nbformat": 4,
 "nbformat_minor": 2
}
