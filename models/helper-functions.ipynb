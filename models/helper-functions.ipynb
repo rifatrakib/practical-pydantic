{
 "cells": [
  {
   "cell_type": "markdown",
   "metadata": {},
   "source": [
    "#### Helper Functions\n",
    "\n",
    "Pydantic provides three `classmethod` helper functions on models for parsing data:\n",
    "\n",
    "* `parse_obj`: this is very similar to the `__init__` method of the model, except it takes a dict rather than keyword arguments. If the object passed is not a dict a `ValidationError` will be raised.\n",
    "\n",
    "* `parse_raw`: this takes a str or bytes and parses it as json, then passes the result to `parse_obj`. Parsing pickle data is also supported by setting the `content_type` argument appropriately.\n",
    "\n",
    "* `parse_file`: this takes in a file path, reads the file and passes the contents to `parse_raw`. If `content_type` is omitted, it is inferred from the file's extension."
   ]
  },
  {
   "cell_type": "code",
   "execution_count": 1,
   "metadata": {},
   "outputs": [],
   "source": [
    "import pickle\n",
    "from datetime import datetime\n",
    "from pathlib import Path\n",
    "\n",
    "from pydantic import BaseModel, ValidationError"
   ]
  },
  {
   "cell_type": "code",
   "execution_count": 2,
   "metadata": {},
   "outputs": [],
   "source": [
    "class User(BaseModel):\n",
    "    id: int\n",
    "    name = \"John Doe\"\n",
    "    signup_ts: datetime = None"
   ]
  },
  {
   "cell_type": "code",
   "execution_count": 3,
   "metadata": {},
   "outputs": [
    {
     "name": "stdout",
     "output_type": "stream",
     "text": [
      "id=123 signup_ts=None name='James'\n"
     ]
    }
   ],
   "source": [
    "m = User.parse_obj({\"id\": 123, \"name\": \"James\"})\n",
    "print(m)"
   ]
  },
  {
   "cell_type": "code",
   "execution_count": 4,
   "metadata": {},
   "outputs": [
    {
     "name": "stdout",
     "output_type": "stream",
     "text": [
      "1 validation error for User\n",
      "__root__\n",
      "  User expected dict not list (type=type_error)\n"
     ]
    }
   ],
   "source": [
    "try:\n",
    "    print(User.parse_obj([\"not\", \"a\", \"dict\"]))\n",
    "except ValidationError as e:\n",
    "    print(e)"
   ]
  },
  {
   "cell_type": "code",
   "execution_count": 5,
   "metadata": {},
   "outputs": [
    {
     "name": "stdout",
     "output_type": "stream",
     "text": [
      "id=123 signup_ts=None name='James'\n"
     ]
    }
   ],
   "source": [
    "m = User.parse_raw('{\"id\": 123, \"name\": \"James\"}')\n",
    "print(m)"
   ]
  },
  {
   "cell_type": "code",
   "execution_count": 6,
   "metadata": {},
   "outputs": [
    {
     "name": "stdout",
     "output_type": "stream",
     "text": [
      "id=123 signup_ts=datetime.datetime(2017, 7, 14, 0, 0) name='James'\n"
     ]
    }
   ],
   "source": [
    "pickle_data = pickle.dumps({\n",
    "    \"id\": 123,\n",
    "    \"name\": \"James\",\n",
    "    \"signup_ts\": datetime(2017, 7, 14),\n",
    "})\n",
    "m = User.parse_raw(\n",
    "    pickle_data, content_type=\"application/pickle\", allow_pickle=True,\n",
    ")\n",
    "print(m)"
   ]
  },
  {
   "cell_type": "code",
   "execution_count": 7,
   "metadata": {},
   "outputs": [
    {
     "name": "stdout",
     "output_type": "stream",
     "text": [
      "id=123 signup_ts=None name='James'\n"
     ]
    }
   ],
   "source": [
    "path = Path(\"data.json\")\n",
    "path.write_text('{\"id\": 123, \"name\": \"James\"}')\n",
    "m = User.parse_file(path)\n",
    "print(m)"
   ]
  },
  {
   "cell_type": "markdown",
   "metadata": {},
   "source": [
    "> ##### Warning\n",
    "> \n",
    "> To quote the official `pickle` docs, \"The pickle module is not secure against erroneous or maliciously constructed data. Never unpickle data received from an untrusted or unauthenticated source.\"\n",
    "\n",
    "> ##### Info\n",
    "> \n",
    "> Because it can result in arbitrary code execution, as a security measure, you need to explicitly pass allow_pickle to the parsing function in order to load pickle data."
   ]
  },
  {
   "cell_type": "markdown",
   "metadata": {},
   "source": [
    "##### Creating models without validation\n",
    "\n",
    "pydantic also provides the `construct()` method which allows models to be created without validation this can be useful when data has already been validated or comes from a trusted source and you want to create a model as efficiently as possible (`construct()` is generally around 30x faster than creating a model with full validation).\n",
    "\n",
    "> ##### Warning\n",
    "> \n",
    "> construct() does not do any validation, meaning it can create models which are invalid. You should only ever use the construct() method with data which has already been validated, or you trust."
   ]
  },
  {
   "cell_type": "code",
   "execution_count": 8,
   "metadata": {},
   "outputs": [],
   "source": [
    "class NoValidationUser(BaseModel):\n",
    "    id: int\n",
    "    age: int\n",
    "    name: str = \"John Doe\""
   ]
  },
  {
   "cell_type": "code",
   "execution_count": 9,
   "metadata": {},
   "outputs": [
    {
     "name": "stdout",
     "output_type": "stream",
     "text": [
      "{'id': 123, 'age': 32, 'name': 'John Doe'}\n",
      "{'id', 'age'}\n"
     ]
    }
   ],
   "source": [
    "original_user = NoValidationUser(id=123, age=32)\n",
    "user_data = original_user.dict()\n",
    "print(user_data)\n",
    "fields_set = original_user.__fields_set__\n",
    "print(fields_set)"
   ]
  },
  {
   "cell_type": "code",
   "execution_count": 10,
   "metadata": {},
   "outputs": [
    {
     "name": "stdout",
     "output_type": "stream",
     "text": [
      "NoValidationUser(id=123, age=32, name='John Doe')\n",
      "{'id', 'age'}\n"
     ]
    }
   ],
   "source": [
    "new_user = NoValidationUser.construct(_fields_set=fields_set, **user_data)\n",
    "print(repr(new_user))\n",
    "print(new_user.__fields_set__)"
   ]
  },
  {
   "cell_type": "code",
   "execution_count": 11,
   "metadata": {},
   "outputs": [
    {
     "name": "stdout",
     "output_type": "stream",
     "text": [
      "NoValidationUser(id='dog', name='John Doe')\n"
     ]
    }
   ],
   "source": [
    "bad_user = NoValidationUser.construct(id='dog')\n",
    "print(repr(bad_user))"
   ]
  },
  {
   "cell_type": "markdown",
   "metadata": {},
   "source": [
    "The `_fields_set` keyword argument to `construct()` is optional, but allows you to be more precise about which fields were originally set and which weren't. If it's omitted `__fields_set__` will just be the keys of the data provided.\n",
    "\n",
    "For example, in the example above, if `_fields_set` was not provided, `new_user.__fields_set__` would be `{\"id\", \"age\", \"name\"}`."
   ]
  },
  {
   "cell_type": "code",
   "execution_count": null,
   "metadata": {},
   "outputs": [],
   "source": []
  }
 ],
 "metadata": {
  "kernelspec": {
   "display_name": "Python 3.9.6 ('valid-env': venv)",
   "language": "python",
   "name": "python3"
  },
  "language_info": {
   "codemirror_mode": {
    "name": "ipython",
    "version": 3
   },
   "file_extension": ".py",
   "mimetype": "text/x-python",
   "name": "python",
   "nbconvert_exporter": "python",
   "pygments_lexer": "ipython3",
   "version": "3.9.6"
  },
  "orig_nbformat": 4,
  "vscode": {
   "interpreter": {
    "hash": "c2258dd348c4db92d1fc23d9ac751564e58ace9e4e1a4507d6c5b14149e13659"
   }
  }
 },
 "nbformat": 4,
 "nbformat_minor": 2
}
