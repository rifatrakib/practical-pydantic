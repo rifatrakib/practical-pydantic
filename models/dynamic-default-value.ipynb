{
 "cells": [
  {
   "cell_type": "markdown",
   "metadata": {},
   "source": [
    "#### Field with dynamic default value\n",
    "\n",
    "When declaring a field with a default value, you may want it to be dynamic (i.e. different for each model). To do this, you may want to use a `default_factory`.\n",
    "\n",
    "> ##### In Beta\n",
    ">\n",
    "> The `default_factory` argument is in __beta__, it has been added to pydantic in v1.5 on a __provisional basis__. It may change significantly in future releases and its signature or behaviour will not be concrete until v2. Feedback from the community while it's still provisional would be extremely useful."
   ]
  },
  {
   "cell_type": "code",
   "execution_count": 1,
   "metadata": {},
   "outputs": [],
   "source": [
    "from datetime import datetime\n",
    "from uuid import UUID, uuid4\n",
    "from pydantic import BaseModel, Field"
   ]
  },
  {
   "cell_type": "code",
   "execution_count": 2,
   "metadata": {},
   "outputs": [],
   "source": [
    "class Model(BaseModel):\n",
    "    uid: UUID = Field(default_factory=uuid4)\n",
    "    updated: datetime = Field(default_factory=datetime.utcnow)"
   ]
  },
  {
   "cell_type": "code",
   "execution_count": 3,
   "metadata": {},
   "outputs": [
    {
     "name": "stdout",
     "output_type": "stream",
     "text": [
      "m1.uid = UUID('cfda5855-a7cc-42ed-ad1d-067a29b188d4'), m1.updated = datetime.datetime(2022, 11, 24, 6, 1, 16, 72527)\n"
     ]
    }
   ],
   "source": [
    "m1 = Model()\n",
    "print(f\"{m1.uid = }, {m1.updated = }\")"
   ]
  },
  {
   "cell_type": "code",
   "execution_count": 4,
   "metadata": {},
   "outputs": [
    {
     "name": "stdout",
     "output_type": "stream",
     "text": [
      "m2.uid = UUID('0c91355c-6e87-4586-a0ca-0d67da8a36e9'), m2.updated = datetime.datetime(2022, 11, 24, 6, 1, 35, 346967)\n"
     ]
    }
   ],
   "source": [
    "m2 = Model()\n",
    "print(f\"{m2.uid = }, {m2.updated = }\")"
   ]
  },
  {
   "cell_type": "markdown",
   "metadata": {},
   "source": [
    "Where `Field` refers to the `field function`.\n",
    "\n",
    "> ##### Warning\n",
    ">\n",
    "> The `default_factory` expects the field type to be set."
   ]
  },
  {
   "cell_type": "code",
   "execution_count": null,
   "metadata": {},
   "outputs": [],
   "source": []
  }
 ],
 "metadata": {
  "kernelspec": {
   "display_name": "Python 3.9.6 ('valid-env': venv)",
   "language": "python",
   "name": "python3"
  },
  "language_info": {
   "codemirror_mode": {
    "name": "ipython",
    "version": 3
   },
   "file_extension": ".py",
   "mimetype": "text/x-python",
   "name": "python",
   "nbconvert_exporter": "python",
   "pygments_lexer": "ipython3",
   "version": "3.9.6"
  },
  "orig_nbformat": 4,
  "vscode": {
   "interpreter": {
    "hash": "c2258dd348c4db92d1fc23d9ac751564e58ace9e4e1a4507d6c5b14149e13659"
   }
  }
 },
 "nbformat": 4,
 "nbformat_minor": 2
}
