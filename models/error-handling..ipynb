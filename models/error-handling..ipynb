{
 "cells": [
  {
   "cell_type": "markdown",
   "metadata": {},
   "source": [
    "#### Error Handling\n",
    "\n",
    "pydantic will raise `ValidationError` whenever it finds an error in the data it's validating.\n",
    "\n",
    "> ##### Note\n",
    "> \n",
    "> Validation code should not raise `ValidationError` itself, but rather raise `ValueError`, `TypeError` or `AssertionError` (or subclasses of `ValueError` or `TypeError`) which will be caught and used to populate `ValidationError`.\n",
    "\n",
    "One exception will be raised regardless of the number of errors found, that `ValidationError` will contain information about all the errors and how they happened. You can access these errors in several ways:\n",
    "\n",
    "* `e.errors()`: method will return list of errors found in the input data.\n",
    "\n",
    "* `e.json()`: method will return a JSON representation of `errors`.\n",
    "\n",
    "* `str(e)`: method will return a human readable representation of the errors.\n",
    "\n",
    "Each error object contains:\n",
    "\n",
    "* `loc`: the error's location as a list. The first item in the list will be the field where the error occurred, and if the field is a `sub-model`, subsequent items will be present to indicate the nested location of the error.\n",
    "\n",
    "* `type`: a computer-readable identifier of the error type.\n",
    "\n",
    "* `msg`: a human readable explanation of the error.\n",
    "\n",
    "* `ctx`: an optional object which contains values required to render the error message."
   ]
  },
  {
   "cell_type": "code",
   "execution_count": 1,
   "metadata": {},
   "outputs": [],
   "source": [
    "from typing import List\n",
    "from pydantic import BaseModel, ValidationError, PydanticValueError, conint, validator"
   ]
  },
  {
   "cell_type": "code",
   "execution_count": 2,
   "metadata": {},
   "outputs": [],
   "source": [
    "class Location(BaseModel):\n",
    "    lat = 0.1\n",
    "    lng = 10.1"
   ]
  },
  {
   "cell_type": "code",
   "execution_count": 3,
   "metadata": {},
   "outputs": [],
   "source": [
    "class Model(BaseModel):\n",
    "    is_required: float\n",
    "    gt_int: conint(gt=42)\n",
    "    list_of_ints: List[int] = None\n",
    "    a_float: float = None\n",
    "    recursive_model: Location = None"
   ]
  },
  {
   "cell_type": "code",
   "execution_count": 4,
   "metadata": {},
   "outputs": [],
   "source": [
    "data = dict(\n",
    "    list_of_ints=[\"1\", 2, \"bad\"],\n",
    "    a_float=\"not a float\",\n",
    "    recursive_model={\"lat\": 4.2, \"lng\": \"New York\"},\n",
    "    gt_int=21,\n",
    ")"
   ]
  },
  {
   "cell_type": "code",
   "execution_count": 5,
   "metadata": {},
   "outputs": [
    {
     "name": "stdout",
     "output_type": "stream",
     "text": [
      "5 validation errors for Model\n",
      "is_required\n",
      "  field required (type=value_error.missing)\n",
      "gt_int\n",
      "  ensure this value is greater than 42 (type=value_error.number.not_gt; limit_value=42)\n",
      "list_of_ints -> 2\n",
      "  value is not a valid integer (type=type_error.integer)\n",
      "a_float\n",
      "  value is not a valid float (type=type_error.float)\n",
      "recursive_model -> lng\n",
      "  value is not a valid float (type=type_error.float)\n"
     ]
    }
   ],
   "source": [
    "try:\n",
    "    print(Model(**data))\n",
    "except ValidationError as e:\n",
    "    print(e)"
   ]
  },
  {
   "cell_type": "code",
   "execution_count": 6,
   "metadata": {},
   "outputs": [
    {
     "name": "stdout",
     "output_type": "stream",
     "text": [
      "[\n",
      "  {\n",
      "    \"loc\": [\n",
      "      \"is_required\"\n",
      "    ],\n",
      "    \"msg\": \"field required\",\n",
      "    \"type\": \"value_error.missing\"\n",
      "  },\n",
      "  {\n",
      "    \"loc\": [\n",
      "      \"gt_int\"\n",
      "    ],\n",
      "    \"msg\": \"ensure this value is greater than 42\",\n",
      "    \"type\": \"value_error.number.not_gt\",\n",
      "    \"ctx\": {\n",
      "      \"limit_value\": 42\n",
      "    }\n",
      "  },\n",
      "  {\n",
      "    \"loc\": [\n",
      "      \"list_of_ints\",\n",
      "      2\n",
      "    ],\n",
      "    \"msg\": \"value is not a valid integer\",\n",
      "    \"type\": \"type_error.integer\"\n",
      "  },\n",
      "  {\n",
      "    \"loc\": [\n",
      "      \"a_float\"\n",
      "    ],\n",
      "    \"msg\": \"value is not a valid float\",\n",
      "    \"type\": \"type_error.float\"\n",
      "  },\n",
      "  {\n",
      "    \"loc\": [\n",
      "      \"recursive_model\",\n",
      "      \"lng\"\n",
      "    ],\n",
      "    \"msg\": \"value is not a valid float\",\n",
      "    \"type\": \"type_error.float\"\n",
      "  }\n",
      "]\n"
     ]
    }
   ],
   "source": [
    "try:\n",
    "    print(Model(**data))\n",
    "except ValidationError as e:\n",
    "    print(e.json())"
   ]
  },
  {
   "cell_type": "markdown",
   "metadata": {},
   "source": [
    "##### Custom Errors\n",
    "\n",
    "In your custom data types or validators you should use `ValueError`, `TypeError` or `AssertionError` to raise errors.\n",
    "\n",
    "See `validators` for more details on use of the `@validator` decorator."
   ]
  },
  {
   "cell_type": "code",
   "execution_count": 7,
   "metadata": {},
   "outputs": [],
   "source": [
    "class Model(BaseModel):\n",
    "    foo: str\n",
    "\n",
    "    @validator(\"foo\")\n",
    "    def value_must_equal_bar(cls, v):\n",
    "        if v != \"bar\":\n",
    "            raise ValueError(\"value must be 'bar'\")\n",
    "\n",
    "        return v"
   ]
  },
  {
   "cell_type": "code",
   "execution_count": 8,
   "metadata": {},
   "outputs": [
    {
     "name": "stdout",
     "output_type": "stream",
     "text": [
      "[{'loc': ('foo',), 'msg': \"value must be 'bar'\", 'type': 'value_error'}]\n"
     ]
    }
   ],
   "source": [
    "try:\n",
    "    print(Model(foo=\"ber\"))\n",
    "except ValidationError as e:\n",
    "    print(e.errors())"
   ]
  },
  {
   "cell_type": "markdown",
   "metadata": {},
   "source": [
    "You can also define your own error classes, which can specify a custom error code, message template, and context."
   ]
  },
  {
   "cell_type": "code",
   "execution_count": 9,
   "metadata": {},
   "outputs": [],
   "source": [
    "class NotABarError(PydanticValueError):\n",
    "    code = \"not_a_bar\"\n",
    "    msg_template = \"value is not 'bar', got '{wrong_value}'\""
   ]
  },
  {
   "cell_type": "code",
   "execution_count": 10,
   "metadata": {},
   "outputs": [],
   "source": [
    "class FooModel(BaseModel):\n",
    "    foo: str\n",
    "\n",
    "    @validator(\"foo\")\n",
    "    def value_must_equal_bar(cls, v):\n",
    "        if v != \"bar\":\n",
    "            raise NotABarError(wrong_value=v)\n",
    "        return v"
   ]
  },
  {
   "cell_type": "code",
   "execution_count": 11,
   "metadata": {},
   "outputs": [
    {
     "name": "stdout",
     "output_type": "stream",
     "text": [
      "[\n",
      "  {\n",
      "    \"loc\": [\n",
      "      \"foo\"\n",
      "    ],\n",
      "    \"msg\": \"value must be 'bar'\",\n",
      "    \"type\": \"value_error\"\n",
      "  }\n",
      "]\n"
     ]
    }
   ],
   "source": [
    "try:\n",
    "    print(Model(foo='ber'))\n",
    "except ValidationError as e:\n",
    "    print(e.json())"
   ]
  },
  {
   "cell_type": "code",
   "execution_count": null,
   "metadata": {},
   "outputs": [],
   "source": []
  }
 ],
 "metadata": {
  "kernelspec": {
   "display_name": "Python 3.9.6 ('valid-env': venv)",
   "language": "python",
   "name": "python3"
  },
  "language_info": {
   "codemirror_mode": {
    "name": "ipython",
    "version": 3
   },
   "file_extension": ".py",
   "mimetype": "text/x-python",
   "name": "python",
   "nbconvert_exporter": "python",
   "pygments_lexer": "ipython3",
   "version": "3.9.6"
  },
  "orig_nbformat": 4,
  "vscode": {
   "interpreter": {
    "hash": "c2258dd348c4db92d1fc23d9ac751564e58ace9e4e1a4507d6c5b14149e13659"
   }
  }
 },
 "nbformat": 4,
 "nbformat_minor": 2
}
