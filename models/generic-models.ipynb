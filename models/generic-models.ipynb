{
 "cells": [
  {
   "cell_type": "markdown",
   "metadata": {},
   "source": [
    "#### Generic Models\n",
    "\n",
    "Pydantic supports the creation of generic models to make it easier to reuse a common model structure.\n",
    "\n",
    "In order to declare a generic model, you perform the following steps:\n",
    "\n",
    "* Declare one or more `typing.TypeVar` instances to use to parameterize your model.\n",
    "\n",
    "* Declare a pydantic model that inherits from `pydantic.generics.GenericModel` and `typing.Generic`, where you pass the `TypeVar` instances as parameters to `typing.Generic`.\n",
    "\n",
    "* Use the `TypeVar` instances as annotations where you will want to replace them with other types or pydantic models.\n",
    "\n",
    "Here is an example using `GenericModel` to create an easily-reused HTTP response payload wrapper."
   ]
  },
  {
   "cell_type": "code",
   "execution_count": 1,
   "metadata": {},
   "outputs": [],
   "source": [
    "from typing import Generic, TypeVar, Optional, List, Any, Type, Tuple\n",
    "\n",
    "from pydantic import BaseModel, validator, ValidationError\n",
    "from pydantic.generics import GenericModel"
   ]
  },
  {
   "cell_type": "code",
   "execution_count": 2,
   "metadata": {},
   "outputs": [],
   "source": [
    "DataT = TypeVar(\"DataT\")"
   ]
  },
  {
   "cell_type": "code",
   "execution_count": 3,
   "metadata": {},
   "outputs": [],
   "source": [
    "class Error(BaseModel):\n",
    "    code: int\n",
    "    message: str"
   ]
  },
  {
   "cell_type": "code",
   "execution_count": 4,
   "metadata": {},
   "outputs": [],
   "source": [
    "class DataModel(BaseModel):\n",
    "    numbers: List[int]\n",
    "    people: List[str]"
   ]
  },
  {
   "cell_type": "code",
   "execution_count": 5,
   "metadata": {},
   "outputs": [],
   "source": [
    "class Response(GenericModel, Generic[DataT]):\n",
    "    data: Optional[DataT]\n",
    "    error: Optional[Error]\n",
    "\n",
    "    @validator(\"error\", always=True)\n",
    "    def check_consistency(cls, v, values):\n",
    "        if v is not None and values[\"data\"] is not None:\n",
    "            raise ValueError(\"must not provide both data and error\")\n",
    "        if v is None and values.get(\"data\") is None:\n",
    "            raise ValueError(\"must provide data or error\")\n",
    "        return v"
   ]
  },
  {
   "cell_type": "code",
   "execution_count": 6,
   "metadata": {},
   "outputs": [],
   "source": [
    "data = DataModel(numbers=[1, 2, 3], people=[])\n",
    "error = Error(code=404, message=\"Not found\")"
   ]
  },
  {
   "cell_type": "code",
   "execution_count": 7,
   "metadata": {},
   "outputs": [
    {
     "name": "stdout",
     "output_type": "stream",
     "text": [
      "data=1 error=None\n"
     ]
    }
   ],
   "source": [
    "print(Response[int](data=1))"
   ]
  },
  {
   "cell_type": "code",
   "execution_count": 8,
   "metadata": {},
   "outputs": [
    {
     "name": "stdout",
     "output_type": "stream",
     "text": [
      "data='value' error=None\n"
     ]
    }
   ],
   "source": [
    "print(Response[str](data=\"value\"))"
   ]
  },
  {
   "cell_type": "code",
   "execution_count": 9,
   "metadata": {},
   "outputs": [
    {
     "name": "stdout",
     "output_type": "stream",
     "text": [
      "{'data': 'value', 'error': None}\n"
     ]
    }
   ],
   "source": [
    "print(Response[str](data=\"value\").dict())"
   ]
  },
  {
   "cell_type": "code",
   "execution_count": 10,
   "metadata": {},
   "outputs": [
    {
     "name": "stdout",
     "output_type": "stream",
     "text": [
      "{'data': {'numbers': [1, 2, 3], 'people': []}, 'error': None}\n"
     ]
    }
   ],
   "source": [
    "print(Response[DataModel](data=data).dict())"
   ]
  },
  {
   "cell_type": "code",
   "execution_count": 11,
   "metadata": {},
   "outputs": [
    {
     "name": "stdout",
     "output_type": "stream",
     "text": [
      "{'data': None, 'error': {'code': 404, 'message': 'Not found'}}\n"
     ]
    }
   ],
   "source": [
    "print(Response[DataModel](error=error).dict())"
   ]
  },
  {
   "cell_type": "code",
   "execution_count": 12,
   "metadata": {},
   "outputs": [
    {
     "name": "stdout",
     "output_type": "stream",
     "text": [
      "2 validation errors for Response[int]\n",
      "data\n",
      "  value is not a valid integer (type=type_error.integer)\n",
      "error\n",
      "  must provide data or error (type=value_error)\n"
     ]
    }
   ],
   "source": [
    "try:\n",
    "    print(Response[int](data=\"value\"))\n",
    "except ValidationError as e:\n",
    "    print(e)"
   ]
  },
  {
   "cell_type": "markdown",
   "metadata": {},
   "source": [
    "If you set `Config` or make use of `validator` in your generic model definition, it is applied to concrete subclasses in the same way as when inheriting from `BaseModel`. Any methods defined on your generic class will also be inherited.\n",
    "\n",
    "Pydantic's generics also integrate properly with mypy, so you get all the type checking you would expect mypy to provide if you were to declare the type without using `GenericModel`.\n",
    "\n",
    "> ##### Note\n",
    "> \n",
    "> Internally, pydantic uses create_model to generate a (cached) concrete BaseModel at runtime, so there is essentially zero overhead introduced by making use of GenericModel.\n",
    "\n",
    "To inherit from a GenericModel without replacing the `TypeVar` instance, a class must also inherit from `typing.Generic`."
   ]
  },
  {
   "cell_type": "code",
   "execution_count": 13,
   "metadata": {},
   "outputs": [],
   "source": [
    "TypeX = TypeVar(\"TypeX\")"
   ]
  },
  {
   "cell_type": "code",
   "execution_count": 14,
   "metadata": {},
   "outputs": [],
   "source": [
    "class BaseClass(GenericModel, Generic[TypeX]):\n",
    "    X: TypeX"
   ]
  },
  {
   "cell_type": "code",
   "execution_count": 15,
   "metadata": {},
   "outputs": [],
   "source": [
    "class ChildClass(BaseClass[TypeX], Generic[TypeX]):\n",
    "    pass"
   ]
  },
  {
   "cell_type": "code",
   "execution_count": 16,
   "metadata": {},
   "outputs": [
    {
     "name": "stdout",
     "output_type": "stream",
     "text": [
      "X=1\n"
     ]
    }
   ],
   "source": [
    "print(ChildClass[int](X=1))"
   ]
  },
  {
   "cell_type": "markdown",
   "metadata": {},
   "source": [
    "You can also create a generic subclass of a `GenericModel` that partially or fully replaces the type parameters in the superclass."
   ]
  },
  {
   "cell_type": "code",
   "execution_count": 17,
   "metadata": {},
   "outputs": [],
   "source": [
    "TypeY = TypeVar(\"TypeY\")\n",
    "TypeZ = TypeVar(\"TypeZ\")"
   ]
  },
  {
   "cell_type": "code",
   "execution_count": 18,
   "metadata": {},
   "outputs": [],
   "source": [
    "class GenericBaseClass(GenericModel, Generic[TypeX, TypeY]):\n",
    "    x: TypeX\n",
    "    y: TypeY"
   ]
  },
  {
   "cell_type": "code",
   "execution_count": 19,
   "metadata": {},
   "outputs": [],
   "source": [
    "class GenericChildClass(GenericBaseClass[int, TypeY], Generic[TypeY, TypeZ]):\n",
    "    z: TypeZ"
   ]
  },
  {
   "cell_type": "code",
   "execution_count": 20,
   "metadata": {},
   "outputs": [
    {
     "name": "stdout",
     "output_type": "stream",
     "text": [
      "x=1 y='y' z=3\n"
     ]
    }
   ],
   "source": [
    "print(GenericChildClass[str, int](x=1, y=\"y\", z=3))"
   ]
  },
  {
   "cell_type": "markdown",
   "metadata": {},
   "source": [
    "If the name of the concrete subclasses is important, you can also override the default behavior."
   ]
  },
  {
   "cell_type": "code",
   "execution_count": 21,
   "metadata": {},
   "outputs": [],
   "source": [
    "class DataResponse(GenericModel, Generic[DataT]):\n",
    "    data: DataT\n",
    "\n",
    "    @classmethod\n",
    "    def __concrete_name__(cls: Type[Any], params: Tuple[Type[Any], ...]) -> str:\n",
    "        return f\"{params[0].__name__.title()}DataResponse\""
   ]
  },
  {
   "cell_type": "code",
   "execution_count": 22,
   "metadata": {},
   "outputs": [
    {
     "name": "stdout",
     "output_type": "stream",
     "text": [
      "IntDataResponse(data=1)\n",
      "StrDataResponse(data='a')\n"
     ]
    }
   ],
   "source": [
    "print(repr(DataResponse[int](data=1)))\n",
    "print(repr(DataResponse[str](data='a')))"
   ]
  },
  {
   "cell_type": "markdown",
   "metadata": {},
   "source": [
    "Using the same TypeVar in nested models allows you to enforce typing relationships at different points in your model."
   ]
  },
  {
   "cell_type": "code",
   "execution_count": 23,
   "metadata": {},
   "outputs": [],
   "source": [
    "T = TypeVar(\"T\")"
   ]
  },
  {
   "cell_type": "code",
   "execution_count": 24,
   "metadata": {},
   "outputs": [],
   "source": [
    "class InnerT(GenericModel, Generic[T]):\n",
    "    inner: T"
   ]
  },
  {
   "cell_type": "code",
   "execution_count": 25,
   "metadata": {},
   "outputs": [],
   "source": [
    "class OuterT(GenericModel, Generic[T]):\n",
    "    outer: T\n",
    "    nested: InnerT[T]"
   ]
  },
  {
   "cell_type": "code",
   "execution_count": 26,
   "metadata": {},
   "outputs": [
    {
     "name": "stdout",
     "output_type": "stream",
     "text": [
      "outer=1 nested=InnerT[int](inner=1)\n"
     ]
    }
   ],
   "source": [
    "nested = InnerT[int](inner=1)\n",
    "print(OuterT[int](outer=1, nested=nested))"
   ]
  },
  {
   "cell_type": "code",
   "execution_count": 27,
   "metadata": {},
   "outputs": [
    {
     "name": "stdout",
     "output_type": "stream",
     "text": [
      "2 validation errors for OuterT[int]\n",
      "outer\n",
      "  value is not a valid integer (type=type_error.integer)\n",
      "nested -> inner\n",
      "  value is not a valid integer (type=type_error.integer)\n"
     ]
    }
   ],
   "source": [
    "try:\n",
    "    nested = InnerT[str](inner=\"a\")\n",
    "    print(OuterT[int](outer=\"a\", nested=nested))\n",
    "except ValidationError as e:\n",
    "    print(e)"
   ]
  },
  {
   "cell_type": "markdown",
   "metadata": {},
   "source": [
    "Pydantic also treats `GenericModel` similarly to how it treats built-in generic types like `List` and `Dict` when it comes to leaving them unparameterized, or using bounded `TypeVar` instances:\n",
    "\n",
    "* If you don't specify parameters before instantiating the generic model, they will be treated as `Any`\n",
    "\n",
    "* You can parametrize models with one or more bounded parameters to add subclass checks\n",
    "\n",
    "Also, like `List` and `Dict`, any parameters specified using a `TypeVar` can later be substituted with concrete types."
   ]
  },
  {
   "cell_type": "code",
   "execution_count": 28,
   "metadata": {},
   "outputs": [],
   "source": [
    "AT = TypeVar(\"AT\")\n",
    "BT = TypeVar(\"BT\")"
   ]
  },
  {
   "cell_type": "code",
   "execution_count": 29,
   "metadata": {},
   "outputs": [],
   "source": [
    "class Model(GenericModel, Generic[AT, BT]):\n",
    "    a: AT\n",
    "    b: BT"
   ]
  },
  {
   "cell_type": "code",
   "execution_count": 30,
   "metadata": {},
   "outputs": [
    {
     "name": "stdout",
     "output_type": "stream",
     "text": [
      "a='a' b='a'\n"
     ]
    }
   ],
   "source": [
    "print(Model(a=\"a\", b=\"a\"))"
   ]
  },
  {
   "cell_type": "code",
   "execution_count": 31,
   "metadata": {},
   "outputs": [
    {
     "name": "stdout",
     "output_type": "stream",
     "text": [
      "a=1 b=1\n"
     ]
    }
   ],
   "source": [
    "IntT = TypeVar(\"IntT\", bound=int)\n",
    "typevar_model = Model[int, IntT]\n",
    "print(typevar_model(a=1, b=1))"
   ]
  },
  {
   "cell_type": "code",
   "execution_count": 32,
   "metadata": {},
   "outputs": [
    {
     "name": "stdout",
     "output_type": "stream",
     "text": [
      "2 validation errors for Model[int, IntT]\n",
      "a\n",
      "  value is not a valid integer (type=type_error.integer)\n",
      "b\n",
      "  value is not a valid integer (type=type_error.integer)\n"
     ]
    }
   ],
   "source": [
    "try:\n",
    "    typevar_model(a=\"a\", b=\"a\")\n",
    "except ValidationError as exc:\n",
    "    print(exc)"
   ]
  },
  {
   "cell_type": "code",
   "execution_count": 33,
   "metadata": {},
   "outputs": [
    {
     "name": "stdout",
     "output_type": "stream",
     "text": [
      "a=1 b=1\n"
     ]
    }
   ],
   "source": [
    "concrete_model = typevar_model[int]\n",
    "print(concrete_model(a=1, b=1))"
   ]
  },
  {
   "cell_type": "code",
   "execution_count": null,
   "metadata": {},
   "outputs": [],
   "source": []
  }
 ],
 "metadata": {
  "kernelspec": {
   "display_name": "Python 3.9.6 ('valid-env': venv)",
   "language": "python",
   "name": "python3"
  },
  "language_info": {
   "codemirror_mode": {
    "name": "ipython",
    "version": 3
   },
   "file_extension": ".py",
   "mimetype": "text/x-python",
   "name": "python",
   "nbconvert_exporter": "python",
   "pygments_lexer": "ipython3",
   "version": "3.9.6"
  },
  "orig_nbformat": 4,
  "vscode": {
   "interpreter": {
    "hash": "c2258dd348c4db92d1fc23d9ac751564e58ace9e4e1a4507d6c5b14149e13659"
   }
  }
 },
 "nbformat": 4,
 "nbformat_minor": 2
}
