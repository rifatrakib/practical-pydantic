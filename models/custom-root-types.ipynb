{
 "cells": [
  {
   "cell_type": "markdown",
   "metadata": {},
   "source": [
    "#### Custom Root Types\n",
    "\n",
    "Pydantic models can be defined with a custom root type by declaring the `__root__` field.\n",
    "\n",
    "The root type can be any type supported by pydantic, and is specified by the type hint on the `__root__` field. The root value can be passed to the model `__init__` via the `__root__` keyword argument, or as the first and only argument to `parse_obj`."
   ]
  },
  {
   "cell_type": "code",
   "execution_count": 1,
   "metadata": {},
   "outputs": [],
   "source": [
    "import json\n",
    "from typing import List, Dict\n",
    "from pydantic.schema import schema\n",
    "from pydantic import BaseModel, ValidationError"
   ]
  },
  {
   "cell_type": "code",
   "execution_count": 2,
   "metadata": {},
   "outputs": [],
   "source": [
    "class Pets(BaseModel):\n",
    "    __root__: List[str]"
   ]
  },
  {
   "cell_type": "code",
   "execution_count": 3,
   "metadata": {},
   "outputs": [
    {
     "name": "stdout",
     "output_type": "stream",
     "text": [
      "__root__=['dog', 'cat']\n"
     ]
    }
   ],
   "source": [
    "print(Pets(__root__=[\"dog\", \"cat\"]))"
   ]
  },
  {
   "cell_type": "code",
   "execution_count": 4,
   "metadata": {},
   "outputs": [
    {
     "name": "stdout",
     "output_type": "stream",
     "text": [
      "[\"dog\", \"cat\"]\n"
     ]
    }
   ],
   "source": [
    "print(Pets(__root__=[\"dog\", \"cat\"]).json())"
   ]
  },
  {
   "cell_type": "code",
   "execution_count": 5,
   "metadata": {},
   "outputs": [
    {
     "name": "stdout",
     "output_type": "stream",
     "text": [
      "__root__=['dog', 'cat']\n"
     ]
    }
   ],
   "source": [
    "print(Pets.parse_obj([\"dog\", \"cat\"]))"
   ]
  },
  {
   "cell_type": "code",
   "execution_count": 6,
   "metadata": {},
   "outputs": [
    {
     "name": "stdout",
     "output_type": "stream",
     "text": [
      "{'title': 'Pets', 'type': 'array', 'items': {'type': 'string'}}\n"
     ]
    }
   ],
   "source": [
    "print(Pets.schema())"
   ]
  },
  {
   "cell_type": "code",
   "execution_count": 7,
   "metadata": {},
   "outputs": [
    {
     "name": "stdout",
     "output_type": "stream",
     "text": [
      "{\n",
      "    \"definitions\": {\n",
      "        \"Pets\": {\n",
      "            \"title\": \"Pets\",\n",
      "            \"type\": \"array\",\n",
      "            \"items\": {\n",
      "                \"type\": \"string\"\n",
      "            }\n",
      "        }\n",
      "    }\n",
      "}\n"
     ]
    }
   ],
   "source": [
    "pets_schema = schema([Pets])\n",
    "print(json.dumps(pets_schema, indent=4))"
   ]
  },
  {
   "cell_type": "markdown",
   "metadata": {},
   "source": [
    "If you call the `parse_obj` method for a model with a custom root type with a dict as the first argument, the following logic is used:\n",
    "\n",
    "* If the custom root type is a mapping type (eg., `Dict` or `Mapping`), the argument itself is always validated against the custom root type.\n",
    "\n",
    "* For other custom root types, if the dict has precisely one key with the value `__root__`, the corresponding value will be validated against the custom root type.\n",
    "\n",
    "* Otherwise, the dict itself is validated against the custom root type."
   ]
  },
  {
   "cell_type": "code",
   "execution_count": 8,
   "metadata": {},
   "outputs": [
    {
     "name": "stdout",
     "output_type": "stream",
     "text": [
      "__root__=['dog', 'cat']\n"
     ]
    }
   ],
   "source": [
    "print(Pets.parse_obj([\"dog\", \"cat\"]))"
   ]
  },
  {
   "cell_type": "code",
   "execution_count": 9,
   "metadata": {},
   "outputs": [
    {
     "name": "stdout",
     "output_type": "stream",
     "text": [
      "__root__=['dog', 'cat']\n"
     ]
    }
   ],
   "source": [
    "print(Pets.parse_obj({\"__root__\": [\"dog\", \"cat\"]}))"
   ]
  },
  {
   "cell_type": "code",
   "execution_count": 10,
   "metadata": {},
   "outputs": [],
   "source": [
    "class PetsByName(BaseModel):\n",
    "    __root__: Dict[str, str]"
   ]
  },
  {
   "cell_type": "code",
   "execution_count": 11,
   "metadata": {},
   "outputs": [
    {
     "name": "stdout",
     "output_type": "stream",
     "text": [
      "__root__={'Otis': 'dog', 'Milo': 'cat'}\n"
     ]
    }
   ],
   "source": [
    "print(PetsByName.parse_obj({\"Otis\": \"dog\", \"Milo\": \"cat\"}))"
   ]
  },
  {
   "cell_type": "code",
   "execution_count": 12,
   "metadata": {},
   "outputs": [
    {
     "name": "stdout",
     "output_type": "stream",
     "text": [
      "1 validation error for PetsByName\n",
      "__root__ -> __root__\n",
      "  str type expected (type=type_error.str)\n"
     ]
    }
   ],
   "source": [
    "try:\n",
    "    print(PetsByName.parse_obj({\"__root__\": {\"Otis\": \"dog\", \"Milo\": \"cat\"}}))\n",
    "except ValidationError as e:\n",
    "    print(e)"
   ]
  },
  {
   "cell_type": "markdown",
   "metadata": {},
   "source": [
    "> ##### Warning\n",
    "> \n",
    "> Calling the `parse_obj` method on a dict with the single key `\"__root__\"` for non-mapping custom root types is currently supported for backwards compatibility, but is not recommended and may be dropped in a future version.\n",
    "\n",
    "If you want to access items in the `__root__` field directly or to iterate over the items, you can implement custom `__iter__` and `__getitem__` functions, as shown in the following example."
   ]
  },
  {
   "cell_type": "code",
   "execution_count": 13,
   "metadata": {},
   "outputs": [],
   "source": [
    "class MappedPets(BaseModel):\n",
    "    __root__: List[str]\n",
    "\n",
    "    def __iter__(self):\n",
    "        return iter(self.__root__)\n",
    "\n",
    "    def __getitem__(self, item):\n",
    "        return self.__root__[item]"
   ]
  },
  {
   "cell_type": "code",
   "execution_count": 14,
   "metadata": {},
   "outputs": [
    {
     "name": "stdout",
     "output_type": "stream",
     "text": [
      "dog\n"
     ]
    }
   ],
   "source": [
    "pets = MappedPets.parse_obj([\"dog\", \"cat\"])\n",
    "print(pets[0])"
   ]
  },
  {
   "cell_type": "code",
   "execution_count": 15,
   "metadata": {},
   "outputs": [
    {
     "name": "stdout",
     "output_type": "stream",
     "text": [
      "['dog', 'cat']\n"
     ]
    }
   ],
   "source": [
    "print([pet for pet in pets])"
   ]
  },
  {
   "cell_type": "code",
   "execution_count": null,
   "metadata": {},
   "outputs": [],
   "source": []
  }
 ],
 "metadata": {
  "kernelspec": {
   "display_name": "Python 3.9.6 ('valid-env': venv)",
   "language": "python",
   "name": "python3"
  },
  "language_info": {
   "codemirror_mode": {
    "name": "ipython",
    "version": 3
   },
   "file_extension": ".py",
   "mimetype": "text/x-python",
   "name": "python",
   "nbconvert_exporter": "python",
   "pygments_lexer": "ipython3",
   "version": "3.9.6"
  },
  "orig_nbformat": 4,
  "vscode": {
   "interpreter": {
    "hash": "c2258dd348c4db92d1fc23d9ac751564e58ace9e4e1a4507d6c5b14149e13659"
   }
  }
 },
 "nbformat": 4,
 "nbformat_minor": 2
}
