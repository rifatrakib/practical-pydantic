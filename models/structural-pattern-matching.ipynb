{
 "cells": [
  {
   "cell_type": "markdown",
   "metadata": {},
   "source": [
    "#### Structural pattern matching\n",
    "\n",
    "`pydantic` supports structural pattern matching for models, as introduced by `PEP 636` in Python 3.10."
   ]
  },
  {
   "cell_type": "code",
   "execution_count": 1,
   "metadata": {},
   "outputs": [],
   "source": [
    "from pydantic import BaseModel"
   ]
  },
  {
   "cell_type": "code",
   "execution_count": 2,
   "metadata": {},
   "outputs": [],
   "source": [
    "class Pet(BaseModel):\n",
    "    name: str\n",
    "    species: str"
   ]
  },
  {
   "cell_type": "code",
   "execution_count": null,
   "metadata": {},
   "outputs": [],
   "source": [
    "a = Pet(name=\"Bones\", species=\"dog\")\n",
    "\n",
    "match a:\n",
    "    # match `species` to \"dog\", declare and initialize `dog_name`\n",
    "    case Pet(species=\"dog\", name=dog_name):\n",
    "        print(f\"{dog_name} is a dog\")\n",
    "    # default case\n",
    "    case _:\n",
    "        print(\"No dogs matched\")"
   ]
  },
  {
   "cell_type": "markdown",
   "metadata": {},
   "source": [
    "A match-case statement may seem as if it creates a new model, but don't be fooled; it is just syntactic sugar for getting an attribute and either comparing it or declaring and initializing it."
   ]
  },
  {
   "cell_type": "code",
   "execution_count": null,
   "metadata": {},
   "outputs": [],
   "source": []
  }
 ],
 "metadata": {
  "kernelspec": {
   "display_name": "Python 3.9.6 ('valid-env': venv)",
   "language": "python",
   "name": "python3"
  },
  "language_info": {
   "codemirror_mode": {
    "name": "ipython",
    "version": 3
   },
   "file_extension": ".py",
   "mimetype": "text/x-python",
   "name": "python",
   "nbconvert_exporter": "python",
   "pygments_lexer": "ipython3",
   "version": "3.9.6"
  },
  "orig_nbformat": 4,
  "vscode": {
   "interpreter": {
    "hash": "c2258dd348c4db92d1fc23d9ac751564e58ace9e4e1a4507d6c5b14149e13659"
   }
  }
 },
 "nbformat": 4,
 "nbformat_minor": 2
}
