{
 "cells": [
  {
   "cell_type": "markdown",
   "metadata": {},
   "source": [
    "#### Field Ordering\n",
    "\n",
    "Field order is important in models for the following reasons:\n",
    "\n",
    "* validation is performed in the order fields are defined; `fields validators` can access the values of earlier fields, but not later ones\n",
    "\n",
    "* field order is preserved in the model `schema`\n",
    "\n",
    "* field order is preserved in `validation errors`\n",
    "\n",
    "* field order is preserved by `.dict()` and `.json()` etc.\n",
    "\n",
    "As of v1.0 all fields with annotations (whether annotation-only or with a default value) will precede all fields without an annotation. Within their respective groups, fields remain in the order they were defined."
   ]
  },
  {
   "cell_type": "code",
   "execution_count": 1,
   "metadata": {},
   "outputs": [],
   "source": [
    "from pydantic import BaseModel, ValidationError"
   ]
  },
  {
   "cell_type": "code",
   "execution_count": 2,
   "metadata": {},
   "outputs": [],
   "source": [
    "class Model(BaseModel):\n",
    "    a: int\n",
    "    b = 2\n",
    "    c: int = 1\n",
    "    d = 0\n",
    "    e: float"
   ]
  },
  {
   "cell_type": "code",
   "execution_count": 3,
   "metadata": {},
   "outputs": [
    {
     "name": "stdout",
     "output_type": "stream",
     "text": [
      "Model.__fields__.keys() = dict_keys(['a', 'c', 'e', 'b', 'd'])\n"
     ]
    }
   ],
   "source": [
    "print(f\"{Model.__fields__.keys() = }\")"
   ]
  },
  {
   "cell_type": "code",
   "execution_count": 4,
   "metadata": {},
   "outputs": [
    {
     "name": "stdout",
     "output_type": "stream",
     "text": [
      "m.dict() = {'a': 1, 'c': 1, 'e': 2.0, 'b': 2, 'd': 0}\n"
     ]
    }
   ],
   "source": [
    "m = Model(e=2, a=1)\n",
    "print(f\"{m.dict() = }\")"
   ]
  },
  {
   "cell_type": "code",
   "execution_count": 5,
   "metadata": {},
   "outputs": [
    {
     "name": "stdout",
     "output_type": "stream",
     "text": [
      "error_locations = [('a',), ('c',), ('e',), ('b',), ('d',)]\n"
     ]
    }
   ],
   "source": [
    "try:\n",
    "    item = Model(a=\"x\", b=\"x\", c=\"x\", d=\"x\", e=\"x\")\n",
    "    print(f\"{item = }\")\n",
    "except ValidationError as e:\n",
    "    error_locations = [e[\"loc\"] for e in e.errors()]\n",
    "    print(f\"{error_locations = }\")"
   ]
  },
  {
   "cell_type": "markdown",
   "metadata": {},
   "source": [
    "> ##### Warning\n",
    "> \n",
    "> As demonstrated by the example above, combining the use of annotated and non-annotated fields in the same model can result in surprising field orderings. (This is due to limitations of Python)\n",
    "> \n",
    "> Therefore, __we recommend adding type annotations to all fields__, even when a default value would determine the type by itself to guarantee field order is preserved."
   ]
  },
  {
   "cell_type": "code",
   "execution_count": null,
   "metadata": {},
   "outputs": [],
   "source": []
  }
 ],
 "metadata": {
  "kernelspec": {
   "display_name": "Python 3.9.6 ('valid-env': venv)",
   "language": "python",
   "name": "python3"
  },
  "language_info": {
   "codemirror_mode": {
    "name": "ipython",
    "version": 3
   },
   "file_extension": ".py",
   "mimetype": "text/x-python",
   "name": "python",
   "nbconvert_exporter": "python",
   "pygments_lexer": "ipython3",
   "version": "3.9.6"
  },
  "orig_nbformat": 4,
  "vscode": {
   "interpreter": {
    "hash": "c2258dd348c4db92d1fc23d9ac751564e58ace9e4e1a4507d6c5b14149e13659"
   }
  }
 },
 "nbformat": 4,
 "nbformat_minor": 2
}
