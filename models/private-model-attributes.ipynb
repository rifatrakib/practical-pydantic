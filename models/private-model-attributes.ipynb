{
 "cells": [
  {
   "cell_type": "markdown",
   "metadata": {},
   "source": [
    "#### Private model attributes\n",
    "\n",
    "If you need to vary or manipulate internal attributes on instances of the model, you can declare them using `PrivateAttr`."
   ]
  },
  {
   "cell_type": "code",
   "execution_count": 4,
   "metadata": {},
   "outputs": [],
   "source": [
    "from typing import ClassVar\n",
    "from datetime import datetime\n",
    "from random import randint\n",
    "from pydantic import BaseModel, PrivateAttr"
   ]
  },
  {
   "cell_type": "code",
   "execution_count": 2,
   "metadata": {},
   "outputs": [],
   "source": [
    "class TimeAwareModel(BaseModel):\n",
    "    _processed_at: datetime = PrivateAttr(default_factory=datetime.utcnow)\n",
    "    _secret_value: str = PrivateAttr()\n",
    "    \n",
    "    def __init__(self, **data):\n",
    "        super().__init__(**data)\n",
    "        # this could also be done with default_factory\n",
    "        self._secret_value = randint(1, 5)"
   ]
  },
  {
   "cell_type": "code",
   "execution_count": 3,
   "metadata": {},
   "outputs": [
    {
     "name": "stdout",
     "output_type": "stream",
     "text": [
      "m._processed_at = datetime.datetime(2022, 11, 24, 6, 7, 39, 579044)\n",
      "m._secret_value = 1\n"
     ]
    }
   ],
   "source": [
    "m = TimeAwareModel()\n",
    "print(f\"{m._processed_at = }\")\n",
    "print(f\"{m._secret_value = }\")"
   ]
  },
  {
   "cell_type": "markdown",
   "metadata": {},
   "source": [
    "Private attribute names must start with underscore to prevent conflicts with model fields: both `_attr` and `__attr__` are supported.\n",
    "\n",
    "If `Config.underscore_attrs_are_private` is `True`, any non-ClassVar underscore attribute will be treated as private."
   ]
  },
  {
   "cell_type": "code",
   "execution_count": 5,
   "metadata": {},
   "outputs": [],
   "source": [
    "class Model(BaseModel):\n",
    "    _class_var: ClassVar[str] = \"class var value\"\n",
    "    _private_attr: str = \"private attr value\"\n",
    "    \n",
    "    class Config:\n",
    "        underscore_attrs_are_private = True"
   ]
  },
  {
   "cell_type": "code",
   "execution_count": 6,
   "metadata": {},
   "outputs": [
    {
     "name": "stdout",
     "output_type": "stream",
     "text": [
      "Model._class_var = 'class var value'\n",
      "Model._private_attr = <member '_private_attr' of 'Model' objects>\n",
      "Model()._private_attr = 'private attr value'\n"
     ]
    }
   ],
   "source": [
    "print(f\"{Model._class_var = }\")\n",
    "print(f\"{Model._private_attr = }\")\n",
    "print(f\"{Model()._private_attr = }\")"
   ]
  },
  {
   "cell_type": "markdown",
   "metadata": {},
   "source": [
    "Upon class creation pydantic constructs `__slots__` filled with private attributes."
   ]
  },
  {
   "cell_type": "code",
   "execution_count": null,
   "metadata": {},
   "outputs": [],
   "source": []
  }
 ],
 "metadata": {
  "kernelspec": {
   "display_name": "Python 3.9.6 ('valid-env': venv)",
   "language": "python",
   "name": "python3"
  },
  "language_info": {
   "codemirror_mode": {
    "name": "ipython",
    "version": 3
   },
   "file_extension": ".py",
   "mimetype": "text/x-python",
   "name": "python",
   "nbconvert_exporter": "python",
   "pygments_lexer": "ipython3",
   "version": "3.9.6"
  },
  "orig_nbformat": 4,
  "vscode": {
   "interpreter": {
    "hash": "c2258dd348c4db92d1fc23d9ac751564e58ace9e4e1a4507d6c5b14149e13659"
   }
  }
 },
 "nbformat": 4,
 "nbformat_minor": 2
}
