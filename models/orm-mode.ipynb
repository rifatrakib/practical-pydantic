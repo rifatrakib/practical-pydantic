{
 "cells": [
  {
   "cell_type": "markdown",
   "metadata": {},
   "source": [
    "#### ORM Mode (aka Arbitrary Class Instances)\n",
    "\n",
    "Pydantic models can be created from arbitrary class instances to support models that map to ORM objects. To do this:\n",
    "\n",
    "1. The `Config` property `orm_mode` must be set to `True`.\n",
    "\n",
    "2. The special constructor `from_orm` must be used to create the model instance.\n",
    "\n",
    "The example here uses `SQLAlchemy`, but the same approach should work for any ORM."
   ]
  },
  {
   "cell_type": "code",
   "execution_count": 1,
   "metadata": {},
   "outputs": [],
   "source": [
    "from typing import Any, List, Dict, Optional\n",
    "from sqlalchemy import Column, Integer, String, JSON\n",
    "from sqlalchemy.dialects.postgresql import ARRAY\n",
    "from sqlalchemy.ext.declarative import declarative_base\n",
    "from pydantic import BaseModel, Field, constr\n",
    "from pydantic.utils import GetterDict\n",
    "from xml.etree.ElementTree import fromstring"
   ]
  },
  {
   "cell_type": "code",
   "execution_count": 2,
   "metadata": {},
   "outputs": [],
   "source": [
    "Base = declarative_base()"
   ]
  },
  {
   "cell_type": "code",
   "execution_count": 3,
   "metadata": {},
   "outputs": [],
   "source": [
    "class CompanyOrm(Base):\n",
    "    __tablename__ = \"companies\"\n",
    "    id = Column(Integer, primary_key=True, nullable=False)\n",
    "    public_key = Column(String(20), index=True, nullable=False, unique=True)\n",
    "    name = Column(String(63), unique=True)\n",
    "    domains = Column(ARRAY(String(255)))"
   ]
  },
  {
   "cell_type": "code",
   "execution_count": 4,
   "metadata": {},
   "outputs": [],
   "source": [
    "class CompanyModel(BaseModel):\n",
    "    id: int\n",
    "    public_key: constr(max_length=20)\n",
    "    name: constr(max_length=63)\n",
    "    domains: List[constr(max_length=255)]\n",
    "\n",
    "    class Config:\n",
    "        orm_mode = True"
   ]
  },
  {
   "cell_type": "code",
   "execution_count": 5,
   "metadata": {},
   "outputs": [
    {
     "name": "stdout",
     "output_type": "stream",
     "text": [
      "<__main__.CompanyOrm object at 0x0000026B21A6D610>\n"
     ]
    }
   ],
   "source": [
    "co_orm = CompanyOrm(\n",
    "    id=123,\n",
    "    public_key=\"foobar\",\n",
    "    name=\"Testing\",\n",
    "    domains=[\"example.com\", \"foobar.com\"],\n",
    ")\n",
    "print(co_orm)"
   ]
  },
  {
   "cell_type": "code",
   "execution_count": 6,
   "metadata": {},
   "outputs": [
    {
     "name": "stdout",
     "output_type": "stream",
     "text": [
      "id=123 public_key='foobar' name='Testing' domains=['example.com', 'foobar.com']\n"
     ]
    }
   ],
   "source": [
    "co_model = CompanyModel.from_orm(co_orm)\n",
    "print(co_model)"
   ]
  },
  {
   "cell_type": "markdown",
   "metadata": {},
   "source": [
    "##### Reserved names\n",
    "\n",
    "You may want to name a Column after a reserved SQLAlchemy field. In that case, Field aliases will be convenient."
   ]
  },
  {
   "cell_type": "code",
   "execution_count": 7,
   "metadata": {},
   "outputs": [],
   "source": [
    "class MyModel(BaseModel):\n",
    "    metadata: Dict[str, str] = Field(alias=\"metadata_\")\n",
    "\n",
    "    class Config:\n",
    "        orm_mode = True"
   ]
  },
  {
   "cell_type": "code",
   "execution_count": 8,
   "metadata": {},
   "outputs": [],
   "source": [
    "class SQLModel(Base):\n",
    "    __tablename__ = \"my_table\"\n",
    "    id = Column(\"id\", Integer, primary_key=True)\n",
    "    metadata_ = Column(\"metadata\", JSON)"
   ]
  },
  {
   "cell_type": "markdown",
   "metadata": {},
   "source": [
    "> ##### Note\n",
    "> \n",
    "> The example above works because aliases have priority over field names for field population. Accessing `SQLModel`'s `metadata` attribute would lead to a `ValidationError`."
   ]
  },
  {
   "cell_type": "markdown",
   "metadata": {},
   "source": [
    "##### Recursive ORM models\n",
    "\n",
    "ORM instances will be parsed with `from_orm` recursively as well as at the top level. Here a vanilla class is used to demonstrate the principle, but any ORM class could be used instead."
   ]
  },
  {
   "cell_type": "code",
   "execution_count": 9,
   "metadata": {},
   "outputs": [],
   "source": [
    "class PetCls:\n",
    "    def __init__(self, *, name: str, species: str):\n",
    "        self.name = name\n",
    "        self.species = species"
   ]
  },
  {
   "cell_type": "code",
   "execution_count": 10,
   "metadata": {},
   "outputs": [],
   "source": [
    "class PersonCls:\n",
    "    def __init__(self, *, name: str, age: float = None, pets: List[PetCls]):\n",
    "        self.name = name\n",
    "        self.age = age\n",
    "        self.pets = pets"
   ]
  },
  {
   "cell_type": "code",
   "execution_count": 11,
   "metadata": {},
   "outputs": [],
   "source": [
    "class Pet(BaseModel):\n",
    "    name: str\n",
    "    species: str\n",
    "\n",
    "    class Config:\n",
    "        orm_mode = True"
   ]
  },
  {
   "cell_type": "code",
   "execution_count": 12,
   "metadata": {},
   "outputs": [],
   "source": [
    "class Person(BaseModel):\n",
    "    name: str\n",
    "    age: float = None\n",
    "    pets: List[Pet]\n",
    "\n",
    "    class Config:\n",
    "        orm_mode = True"
   ]
  },
  {
   "cell_type": "code",
   "execution_count": 13,
   "metadata": {},
   "outputs": [
    {
     "name": "stdout",
     "output_type": "stream",
     "text": [
      "name='Anna' age=20.0 pets=[Pet(name='Bones', species='dog'), Pet(name='Orion', species='cat')]\n"
     ]
    }
   ],
   "source": [
    "bones = PetCls(name='Bones', species='dog')\n",
    "orion = PetCls(name='Orion', species='cat')\n",
    "anna = PersonCls(name='Anna', age=20, pets=[bones, orion])\n",
    "anna_model = Person.from_orm(anna)\n",
    "print(anna_model)"
   ]
  },
  {
   "cell_type": "markdown",
   "metadata": {},
   "source": [
    "##### Data binding\n",
    "\n",
    "Arbitrary classes are processed by pydantic using the `GetterDict` class, which attempts to provide a dictionary-like interface to any class. You can customise how this works by setting your own sub-class of `GetterDict` as the value of `Config.getter_dict` (see `config`).\n",
    "\n",
    "You can also customise class validation using `root_validators` with `pre=True`. In this case your validator function will be passed a `GetterDict` instance which you may copy and modify.\n",
    "\n",
    "The `GetterDict` instance will be called for each field with a sentinel as a fallback (if no other default value is set). Returning this sentinel means that the field is missing. Any other value will be interpreted as the value of the field."
   ]
  },
  {
   "cell_type": "code",
   "execution_count": 14,
   "metadata": {},
   "outputs": [],
   "source": [
    "xmlstring = \"\"\"\n",
    "<User Id=\"2138\">\n",
    "    <FirstName />\n",
    "    <LoggedIn Value=\"true\" />\n",
    "</User>\n",
    "\"\"\""
   ]
  },
  {
   "cell_type": "code",
   "execution_count": 15,
   "metadata": {},
   "outputs": [],
   "source": [
    "class UserGetter(GetterDict):\n",
    "    def get(self, key: str, default: Any) -> Any:\n",
    "\n",
    "        # element attributes\n",
    "        if key in {'Id', 'Status'}:\n",
    "            return self._obj.attrib.get(key, default)\n",
    "\n",
    "        # element children\n",
    "        else:\n",
    "            try:\n",
    "                return self._obj.find(key).attrib['Value']\n",
    "            except (AttributeError, KeyError):\n",
    "                return default"
   ]
  },
  {
   "cell_type": "code",
   "execution_count": 16,
   "metadata": {},
   "outputs": [],
   "source": [
    "class User(BaseModel):\n",
    "    Id: int\n",
    "    Status: Optional[str]\n",
    "    FirstName: Optional[str]\n",
    "    LastName: Optional[str]\n",
    "    LoggedIn: bool\n",
    "\n",
    "    class Config:\n",
    "        orm_mode = True\n",
    "        getter_dict = UserGetter"
   ]
  },
  {
   "cell_type": "code",
   "execution_count": 17,
   "metadata": {},
   "outputs": [
    {
     "name": "stdout",
     "output_type": "stream",
     "text": [
      "Id=2138 Status=None FirstName=None LastName=None LoggedIn=True\n"
     ]
    }
   ],
   "source": [
    "user = User.from_orm(fromstring(xmlstring))\n",
    "print(user)"
   ]
  },
  {
   "cell_type": "code",
   "execution_count": null,
   "metadata": {},
   "outputs": [],
   "source": []
  }
 ],
 "metadata": {
  "kernelspec": {
   "display_name": "Python 3.9.6 ('valid-env': venv)",
   "language": "python",
   "name": "python3"
  },
  "language_info": {
   "codemirror_mode": {
    "name": "ipython",
    "version": 3
   },
   "file_extension": ".py",
   "mimetype": "text/x-python",
   "name": "python",
   "nbconvert_exporter": "python",
   "pygments_lexer": "ipython3",
   "version": "3.9.6"
  },
  "orig_nbformat": 4,
  "vscode": {
   "interpreter": {
    "hash": "c2258dd348c4db92d1fc23d9ac751564e58ace9e4e1a4507d6c5b14149e13659"
   }
  }
 },
 "nbformat": 4,
 "nbformat_minor": 2
}
