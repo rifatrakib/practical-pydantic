{
 "cells": [
  {
   "attachments": {},
   "cell_type": "markdown",
   "metadata": {},
   "source": [
    "#### Secret Types\n",
    "\n",
    "You can use the `SecretStr` and the `SecretBytes` data types for storing sensitive information that you do not want to be visible in logging or tracebacks. `SecretStr` and `SecretBytes` can be initialized idempotently or by using `str` or `bytes` literals respectively. The `SecretStr` and `SecretBytes` will be formatted as either `'**********'` or `''` on conversion to json."
   ]
  },
  {
   "cell_type": "code",
   "execution_count": 1,
   "metadata": {},
   "outputs": [],
   "source": [
    "from pydantic import BaseModel, SecretStr, SecretBytes, ValidationError"
   ]
  },
  {
   "cell_type": "code",
   "execution_count": 2,
   "metadata": {},
   "outputs": [],
   "source": [
    "class Model(BaseModel):\n",
    "    password: SecretStr\n",
    "    password_bytes: SecretBytes"
   ]
  },
  {
   "cell_type": "code",
   "execution_count": 3,
   "metadata": {},
   "outputs": [
    {
     "name": "stdout",
     "output_type": "stream",
     "text": [
      "sm = Model(password=SecretStr('**********'), password_bytes=SecretBytes(b'**********'))\n",
      "sm.password = SecretStr('**********')\n",
      "sm.dict() = {'password': SecretStr('**********'), 'password_bytes': SecretBytes(b'**********')}\n",
      "sm.json() = '{\"password\": \"**********\", \"password_bytes\": \"**********\"}'\n"
     ]
    }
   ],
   "source": [
    "sm = Model(password=\"IAmSensitive\", password_bytes=b\"IAmSensitiveBytes\")\n",
    "print(f\"{sm = }\")\n",
    "print(f\"{sm.password = }\")\n",
    "print(f\"{sm.dict() = }\")\n",
    "print(f\"{sm.json() = }\")"
   ]
  },
  {
   "cell_type": "code",
   "execution_count": 4,
   "metadata": {},
   "outputs": [
    {
     "name": "stdout",
     "output_type": "stream",
     "text": [
      "sm.password.get_secret_value() = 'IAmSensitive'\n",
      "sm.password_bytes.get_secret_value() = b'IAmSensitiveBytes'\n"
     ]
    }
   ],
   "source": [
    "print(f\"{sm.password.get_secret_value() = }\")\n",
    "print(f\"{sm.password_bytes.get_secret_value() = }\")"
   ]
  },
  {
   "cell_type": "code",
   "execution_count": 5,
   "metadata": {},
   "outputs": [
    {
     "name": "stdout",
     "output_type": "stream",
     "text": [
      "2 validation errors for Model\n",
      "password\n",
      "  str type expected (type=type_error.str)\n",
      "password_bytes\n",
      "  byte type expected (type=type_error.bytes)\n"
     ]
    }
   ],
   "source": [
    "try:\n",
    "    m = Model(password=[1, 2, 3], password_bytes=[1, 2, 3])\n",
    "    print(m)\n",
    "except ValidationError as e:\n",
    "    print(e)"
   ]
  },
  {
   "cell_type": "code",
   "execution_count": 6,
   "metadata": {},
   "outputs": [],
   "source": [
    "class ModelDumpable(BaseModel):\n",
    "    password: SecretStr\n",
    "    password_bytes: SecretBytes\n",
    "    \n",
    "    class Config:\n",
    "        json_encoders = {\n",
    "            SecretStr: lambda v: v.get_secret_value() if v else None,\n",
    "            SecretBytes: lambda v: v.get_secret_value() if v else None,\n",
    "        }"
   ]
  },
  {
   "cell_type": "code",
   "execution_count": 7,
   "metadata": {},
   "outputs": [
    {
     "name": "stdout",
     "output_type": "stream",
     "text": [
      "sm = ModelDumpable(password=SecretStr('**********'), password_bytes=SecretBytes(b'**********'))\n",
      "sm.password = SecretStr('**********')\n",
      "sm.dict() = {'password': SecretStr('**********'), 'password_bytes': SecretBytes(b'**********')}\n",
      "sm.json() = '{\"password\": \"IAmSensitive\", \"password_bytes\": \"IAmSensitiveBytes\"}'\n"
     ]
    }
   ],
   "source": [
    "sm = ModelDumpable(password=\"IAmSensitive\", password_bytes=b\"IAmSensitiveBytes\")\n",
    "print(f\"{sm = }\")\n",
    "print(f\"{sm.password = }\")\n",
    "print(f\"{sm.dict() = }\")\n",
    "print(f\"{sm.json() = }\")"
   ]
  },
  {
   "cell_type": "code",
   "execution_count": null,
   "metadata": {},
   "outputs": [],
   "source": []
  }
 ],
 "metadata": {
  "kernelspec": {
   "display_name": "Python 3.9.6 ('valid-env': venv)",
   "language": "python",
   "name": "python3"
  },
  "language_info": {
   "codemirror_mode": {
    "name": "ipython",
    "version": 3
   },
   "file_extension": ".py",
   "mimetype": "text/x-python",
   "name": "python",
   "nbconvert_exporter": "python",
   "pygments_lexer": "ipython3",
   "version": "3.9.6"
  },
  "orig_nbformat": 4,
  "vscode": {
   "interpreter": {
    "hash": "c2258dd348c4db92d1fc23d9ac751564e58ace9e4e1a4507d6c5b14149e13659"
   }
  }
 },
 "nbformat": 4,
 "nbformat_minor": 2
}
