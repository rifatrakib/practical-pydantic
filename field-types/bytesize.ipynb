{
 "cells": [
  {
   "attachments": {},
   "cell_type": "markdown",
   "metadata": {},
   "source": [
    "#### ByteSize\n",
    "\n",
    "You can use the `ByteSize` data type to convert byte string representation to raw bytes and print out human readable versions of the bytes as well.\n",
    "\n",
    "> ##### Note\n",
    ">\n",
    "> Note that `1b` will be parsed as \"1 byte\" and not \"1 bit\"."
   ]
  },
  {
   "cell_type": "code",
   "execution_count": 1,
   "metadata": {},
   "outputs": [],
   "source": [
    "from pydantic import BaseModel, ByteSize"
   ]
  },
  {
   "cell_type": "code",
   "execution_count": 2,
   "metadata": {},
   "outputs": [],
   "source": [
    "class Model(BaseModel):\n",
    "    size: ByteSize"
   ]
  },
  {
   "cell_type": "code",
   "execution_count": 3,
   "metadata": {},
   "outputs": [
    {
     "name": "stdout",
     "output_type": "stream",
     "text": [
      "Model(size=52000).size = 52000\n",
      "Model(size='3000 KiB').size = 3072000\n"
     ]
    }
   ],
   "source": [
    "print(f\"{Model(size=52000).size = }\")\n",
    "print(f\"{Model(size='3000 KiB').size = }\")"
   ]
  },
  {
   "cell_type": "code",
   "execution_count": 4,
   "metadata": {},
   "outputs": [],
   "source": [
    "m = Model(size=\"50 PB\")"
   ]
  },
  {
   "cell_type": "code",
   "execution_count": 5,
   "metadata": {},
   "outputs": [
    {
     "name": "stdout",
     "output_type": "stream",
     "text": [
      "m.size.human_readable() = '44.4PiB'\n",
      "m.size.human_readable(decimal=True) = '50.0PB'\n",
      "m.size.to('TiB') = 45474.73508864641\n"
     ]
    }
   ],
   "source": [
    "print(f\"{m.size.human_readable() = }\")\n",
    "print(f\"{m.size.human_readable(decimal=True) = }\")\n",
    "print(f\"{m.size.to('TiB') = }\")"
   ]
  },
  {
   "cell_type": "code",
   "execution_count": null,
   "metadata": {},
   "outputs": [],
   "source": []
  }
 ],
 "metadata": {
  "kernelspec": {
   "display_name": "Python 3.9.6 ('valid-env': venv)",
   "language": "python",
   "name": "python3"
  },
  "language_info": {
   "codemirror_mode": {
    "name": "ipython",
    "version": 3
   },
   "file_extension": ".py",
   "mimetype": "text/x-python",
   "name": "python",
   "nbconvert_exporter": "python",
   "pygments_lexer": "ipython3",
   "version": "3.9.6"
  },
  "orig_nbformat": 4,
  "vscode": {
   "interpreter": {
    "hash": "c2258dd348c4db92d1fc23d9ac751564e58ace9e4e1a4507d6c5b14149e13659"
   }
  }
 },
 "nbformat": 4,
 "nbformat_minor": 2
}
