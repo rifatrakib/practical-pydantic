{
 "cells": [
  {
   "attachments": {},
   "cell_type": "markdown",
   "metadata": {},
   "source": [
    "#### Strict Types\n",
    "\n",
    "You can use the `StrictStr`, `StrictBytes`, `StrictInt`, `StrictFloat`, and `StrictBool` types to prevent coercion from compatible types. These types will only pass validation when the validated value is of the respective type or is a subtype of that type. This behavior is also exposed via the `strict` field of the `ConstrainedStr`, `ConstrainedBytes`, `ConstrainedFloat` and `ConstrainedInt` classes and can be combined with a multitude of complex validation rules.\n",
    "\n",
    "The following caveats apply:\n",
    "\n",
    "* `StrictBytes` (and the `strict` option of `ConstrainedBytes`) will accept both `bytes`, and `bytearray` types.\n",
    "\n",
    "* `StrictInt` (and the `strict` option of `ConstrainedInt`) will not accept `bool` types, even though `bool` is a subclass of `int` in Python. Other subclasses will work.\n",
    "\n",
    "* `StrictFloat` (and the `strict` option of `ConstrainedFloat`) will not accept `int`."
   ]
  },
  {
   "cell_type": "code",
   "execution_count": 1,
   "metadata": {},
   "outputs": [],
   "source": [
    "from pydantic import (\n",
    "    BaseModel, StrictBytes, StrictBool, StrictInt, ValidationError, confloat,\n",
    ")"
   ]
  },
  {
   "cell_type": "code",
   "execution_count": 2,
   "metadata": {},
   "outputs": [],
   "source": [
    "class StrictBytesModel(BaseModel):\n",
    "    strict_bytes: StrictBytes"
   ]
  },
  {
   "cell_type": "code",
   "execution_count": 3,
   "metadata": {},
   "outputs": [
    {
     "name": "stdout",
     "output_type": "stream",
     "text": [
      "1 validation error for StrictBytesModel\n",
      "strict_bytes\n",
      "  byte type expected (type=type_error.bytes)\n"
     ]
    }
   ],
   "source": [
    "try:\n",
    "    StrictBytesModel(strict_bytes=\"hello world\")\n",
    "except ValidationError as e:\n",
    "    print(e)"
   ]
  },
  {
   "cell_type": "code",
   "execution_count": 4,
   "metadata": {},
   "outputs": [],
   "source": [
    "class StrictIntModel(BaseModel):\n",
    "    strict_int: StrictInt"
   ]
  },
  {
   "cell_type": "code",
   "execution_count": 5,
   "metadata": {},
   "outputs": [
    {
     "name": "stdout",
     "output_type": "stream",
     "text": [
      "1 validation error for StrictIntModel\n",
      "strict_int\n",
      "  value is not a valid integer (type=type_error.integer)\n"
     ]
    }
   ],
   "source": [
    "try:\n",
    "    StrictIntModel(strict_int=3.14159)\n",
    "except ValidationError as e:\n",
    "    print(e)"
   ]
  },
  {
   "cell_type": "code",
   "execution_count": 6,
   "metadata": {},
   "outputs": [],
   "source": [
    "class ConstrainedFloatModel(BaseModel):\n",
    "    constrained_float: confloat(strict=True, ge=0.0)"
   ]
  },
  {
   "cell_type": "code",
   "execution_count": 7,
   "metadata": {},
   "outputs": [
    {
     "name": "stdout",
     "output_type": "stream",
     "text": [
      "1 validation error for ConstrainedFloatModel\n",
      "constrained_float\n",
      "  value is not a valid float (type=type_error.float)\n"
     ]
    }
   ],
   "source": [
    "try:\n",
    "    ConstrainedFloatModel(constrained_float=3)\n",
    "except ValidationError as e:\n",
    "    print(e)"
   ]
  },
  {
   "cell_type": "code",
   "execution_count": 8,
   "metadata": {},
   "outputs": [
    {
     "name": "stdout",
     "output_type": "stream",
     "text": [
      "1 validation error for ConstrainedFloatModel\n",
      "constrained_float\n",
      "  ensure this value is greater than or equal to 0.0 (type=value_error.number.not_ge; limit_value=0.0)\n"
     ]
    }
   ],
   "source": [
    "try:\n",
    "    ConstrainedFloatModel(constrained_float=-1.23)\n",
    "except ValidationError as e:\n",
    "    print(e)"
   ]
  },
  {
   "cell_type": "code",
   "execution_count": 9,
   "metadata": {},
   "outputs": [],
   "source": [
    "class StrictBoolModel(BaseModel):\n",
    "    strict_bool: StrictBool"
   ]
  },
  {
   "cell_type": "code",
   "execution_count": 10,
   "metadata": {},
   "outputs": [
    {
     "name": "stdout",
     "output_type": "stream",
     "text": [
      "1 validation error for StrictBoolModel\n",
      "strict_bool\n",
      "  value is not a valid boolean (type=value_error.strictbool)\n"
     ]
    }
   ],
   "source": [
    "try:\n",
    "    StrictBoolModel(strict_bool=\"False\")\n",
    "except ValidationError as e:\n",
    "    print(str(e))"
   ]
  },
  {
   "cell_type": "code",
   "execution_count": null,
   "metadata": {},
   "outputs": [],
   "source": []
  }
 ],
 "metadata": {
  "kernelspec": {
   "display_name": "Python 3.9.6 ('valid-env': venv)",
   "language": "python",
   "name": "python3"
  },
  "language_info": {
   "codemirror_mode": {
    "name": "ipython",
    "version": 3
   },
   "file_extension": ".py",
   "mimetype": "text/x-python",
   "name": "python",
   "nbconvert_exporter": "python",
   "pygments_lexer": "ipython3",
   "version": "3.9.6"
  },
  "orig_nbformat": 4,
  "vscode": {
   "interpreter": {
    "hash": "c2258dd348c4db92d1fc23d9ac751564e58ace9e4e1a4507d6c5b14149e13659"
   }
  }
 },
 "nbformat": 4,
 "nbformat_minor": 2
}
