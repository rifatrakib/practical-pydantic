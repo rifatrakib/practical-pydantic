{
 "cells": [
  {
   "attachments": {},
   "cell_type": "markdown",
   "metadata": {},
   "source": [
    "#### Payment Card Numbers\n",
    "\n",
    "The `PaymentCardNumber` type validates `payment cards` (such as a debit or credit card)."
   ]
  },
  {
   "cell_type": "code",
   "execution_count": 1,
   "metadata": {},
   "outputs": [],
   "source": [
    "from datetime import date\n",
    "from pydantic import BaseModel\n",
    "from pydantic.types import PaymentCardBrand, PaymentCardNumber, constr"
   ]
  },
  {
   "cell_type": "code",
   "execution_count": 2,
   "metadata": {},
   "outputs": [],
   "source": [
    "class Card(BaseModel):\n",
    "    name: constr(strip_whitespace=True, min_length=1)\n",
    "    number: PaymentCardNumber\n",
    "    exp: date\n",
    "    \n",
    "    @property\n",
    "    def brand(self) -> PaymentCardBrand:\n",
    "        return self.number.brand\n",
    "    \n",
    "    @property\n",
    "    def expired(self) -> bool:\n",
    "        return self.exp < date.today()"
   ]
  },
  {
   "cell_type": "code",
   "execution_count": 3,
   "metadata": {},
   "outputs": [],
   "source": [
    "card = Card(\n",
    "    name=\"Georg Wilhelm Friedrich Hegel\",\n",
    "    number=\"4000000000000002\",\n",
    "    exp=date(2023, 9, 30),\n",
    ")"
   ]
  },
  {
   "cell_type": "code",
   "execution_count": 4,
   "metadata": {},
   "outputs": [
    {
     "name": "stdout",
     "output_type": "stream",
     "text": [
      "card.number.brand == PaymentCardBrand.visa = True\n",
      "card.number.bin == \"400000\" = True\n",
      "card.number.last4 == \"0002\" = True\n",
      "card.number.masked == \"400000******0002\" = True\n"
     ]
    }
   ],
   "source": [
    "print(f\"{card.number.brand == PaymentCardBrand.visa = }\")\n",
    "print(f'{card.number.bin == \"400000\" = }')\n",
    "print(f'{card.number.last4 == \"0002\" = }')\n",
    "print(f'{card.number.masked == \"400000******0002\" = }')"
   ]
  },
  {
   "attachments": {},
   "cell_type": "markdown",
   "metadata": {},
   "source": [
    "`PaymentCardBrand` can be one of the following based on the BIN:\n",
    "\n",
    "* PaymentCardBrand.amex\n",
    "\n",
    "* PaymentCardBrand.mastercard\n",
    "\n",
    "* PaymentCardBrand.visa\n",
    "\n",
    "* PaymentCardBrand.other\n",
    "\n",
    "The actual validation verifies the card number is:\n",
    "\n",
    "* a `str` of only digits\n",
    "\n",
    "* `luhn` valid\n",
    "\n",
    "* the correct length based on the BIN, if Amex, Mastercard or Visa, and between 12 and 19 digits for all other brands"
   ]
  },
  {
   "cell_type": "code",
   "execution_count": null,
   "metadata": {},
   "outputs": [],
   "source": []
  }
 ],
 "metadata": {
  "kernelspec": {
   "display_name": "Python 3.9.6 ('valid-env': venv)",
   "language": "python",
   "name": "python3"
  },
  "language_info": {
   "codemirror_mode": {
    "name": "ipython",
    "version": 3
   },
   "file_extension": ".py",
   "mimetype": "text/x-python",
   "name": "python",
   "nbconvert_exporter": "python",
   "pygments_lexer": "ipython3",
   "version": "3.9.6"
  },
  "orig_nbformat": 4,
  "vscode": {
   "interpreter": {
    "hash": "c2258dd348c4db92d1fc23d9ac751564e58ace9e4e1a4507d6c5b14149e13659"
   }
  }
 },
 "nbformat": 4,
 "nbformat_minor": 2
}
