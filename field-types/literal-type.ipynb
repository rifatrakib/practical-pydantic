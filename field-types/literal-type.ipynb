{
 "cells": [
  {
   "cell_type": "markdown",
   "metadata": {},
   "source": [
    "#### Literal Type\n",
    "\n",
    "> ##### Note\n",
    ">\n",
    "> This is a new feature of the Python standard library as of Python 3.8; prior to Python 3.8, it requires the `typing-extensions` package.\n",
    "\n",
    "_pydantic_ supports the use of `typing.Literal` (or `typing_extensions.Literal` prior to Python 3.8) as a lightweight way to specify that a field may accept only specific literal values."
   ]
  },
  {
   "cell_type": "code",
   "execution_count": 1,
   "metadata": {},
   "outputs": [],
   "source": [
    "from typing import ClassVar, List, Literal, Optional, Union\n",
    "from pydantic import BaseModel, ValidationError"
   ]
  },
  {
   "cell_type": "code",
   "execution_count": 2,
   "metadata": {},
   "outputs": [],
   "source": [
    "class Pie(BaseModel):\n",
    "    flavor: Literal[\"apple\", \"pumpkin\"]"
   ]
  },
  {
   "cell_type": "code",
   "execution_count": 3,
   "metadata": {},
   "outputs": [
    {
     "data": {
      "text/plain": [
       "Pie(flavor='apple')"
      ]
     },
     "execution_count": 3,
     "metadata": {},
     "output_type": "execute_result"
    }
   ],
   "source": [
    "Pie(flavor=\"apple\")"
   ]
  },
  {
   "cell_type": "code",
   "execution_count": 4,
   "metadata": {},
   "outputs": [
    {
     "data": {
      "text/plain": [
       "Pie(flavor='pumpkin')"
      ]
     },
     "execution_count": 4,
     "metadata": {},
     "output_type": "execute_result"
    }
   ],
   "source": [
    "Pie(flavor=\"pumpkin\")"
   ]
  },
  {
   "cell_type": "code",
   "execution_count": 5,
   "metadata": {},
   "outputs": [
    {
     "name": "stdout",
     "output_type": "stream",
     "text": [
      "1 validation error for Pie\n",
      "flavor\n",
      "  unexpected value; permitted: 'apple', 'pumpkin' (type=value_error.const; given=cherry; permitted=('apple', 'pumpkin'))\n"
     ]
    }
   ],
   "source": [
    "try:\n",
    "    m = Pie(flavor=\"cherry\")\n",
    "    print(m)\n",
    "except ValidationError as e:\n",
    "    print(str(e))"
   ]
  },
  {
   "cell_type": "markdown",
   "metadata": {},
   "source": [
    "One benefit of this field type is that it can be used to check for equality with one or more specific values without needing to declare custom validators."
   ]
  },
  {
   "cell_type": "code",
   "execution_count": 6,
   "metadata": {},
   "outputs": [],
   "source": [
    "class Cake(BaseModel):\n",
    "    kind: Literal[\"cake\"]\n",
    "    required_utensils: ClassVar[List[str]] = [\"fork\", \"knife\"]"
   ]
  },
  {
   "cell_type": "code",
   "execution_count": 7,
   "metadata": {},
   "outputs": [],
   "source": [
    "class IceCream(BaseModel):\n",
    "    kind: Literal[\"icecream\"]\n",
    "    required_utensils: ClassVar[List[str]] = [\"spoon\"]"
   ]
  },
  {
   "cell_type": "code",
   "execution_count": 8,
   "metadata": {},
   "outputs": [],
   "source": [
    "class Meal(BaseModel):\n",
    "    dessert: Union[Cake, IceCream]"
   ]
  },
  {
   "cell_type": "code",
   "execution_count": 9,
   "metadata": {},
   "outputs": [
    {
     "name": "stdout",
     "output_type": "stream",
     "text": [
      "type(Meal(dessert={'kind': 'cake'}).dessert).__name__ = 'Cake'\n"
     ]
    }
   ],
   "source": [
    "print(f\"{type(Meal(dessert={'kind': 'cake'}).dessert).__name__ = }\")"
   ]
  },
  {
   "cell_type": "code",
   "execution_count": 10,
   "metadata": {},
   "outputs": [
    {
     "name": "stdout",
     "output_type": "stream",
     "text": [
      "type(Meal(dessert={'kind': 'icecream'}).dessert).__name__ = 'IceCream'\n"
     ]
    }
   ],
   "source": [
    "print(f\"{type(Meal(dessert={'kind': 'icecream'}).dessert).__name__ = }\")"
   ]
  },
  {
   "cell_type": "code",
   "execution_count": 11,
   "metadata": {},
   "outputs": [
    {
     "name": "stdout",
     "output_type": "stream",
     "text": [
      "2 validation errors for Meal\n",
      "dessert -> kind\n",
      "  unexpected value; permitted: 'cake' (type=value_error.const; given=pie; permitted=('cake',))\n",
      "dessert -> kind\n",
      "  unexpected value; permitted: 'icecream' (type=value_error.const; given=pie; permitted=('icecream',))\n"
     ]
    }
   ],
   "source": [
    "try:\n",
    "    m = Meal(dessert={\"kind\": \"pie\"})\n",
    "    print(m)\n",
    "except ValidationError as e:\n",
    "    print(str(e))"
   ]
  },
  {
   "cell_type": "markdown",
   "metadata": {},
   "source": [
    "With proper ordering in an annotated `Union`, you can use this to parse types of decreasing specificity."
   ]
  },
  {
   "cell_type": "code",
   "execution_count": 12,
   "metadata": {},
   "outputs": [],
   "source": [
    "class Dessert(BaseModel):\n",
    "    kind: str"
   ]
  },
  {
   "cell_type": "code",
   "execution_count": 13,
   "metadata": {},
   "outputs": [],
   "source": [
    "class SuperPie(BaseModel):\n",
    "    kind: Literal[\"pie\"]\n",
    "    flavor: Optional[str]"
   ]
  },
  {
   "cell_type": "code",
   "execution_count": 14,
   "metadata": {},
   "outputs": [],
   "source": [
    "class ApplePie(Pie):\n",
    "    flavor: Literal[\"apple\"]"
   ]
  },
  {
   "cell_type": "code",
   "execution_count": 15,
   "metadata": {},
   "outputs": [],
   "source": [
    "class PumpkinPie(Pie):\n",
    "    flavor: Literal[\"pumpkin\"]"
   ]
  },
  {
   "cell_type": "code",
   "execution_count": 16,
   "metadata": {},
   "outputs": [],
   "source": [
    "class DeliciousMeal(BaseModel):\n",
    "    dessert: Union[ApplePie, PumpkinPie, SuperPie, Dessert]"
   ]
  },
  {
   "cell_type": "code",
   "execution_count": 17,
   "metadata": {},
   "outputs": [
    {
     "name": "stdout",
     "output_type": "stream",
     "text": [
      "type(DeliciousMeal(dessert={'kind': 'pie', 'flavor': 'apple'}).dessert).__name__ = 'ApplePie'\n"
     ]
    }
   ],
   "source": [
    "print(f\"{type(DeliciousMeal(dessert={'kind': 'pie', 'flavor': 'apple'}).dessert).__name__ = }\")"
   ]
  },
  {
   "cell_type": "code",
   "execution_count": 18,
   "metadata": {},
   "outputs": [
    {
     "name": "stdout",
     "output_type": "stream",
     "text": [
      "type(DeliciousMeal(dessert={'kind': 'pie', 'flavor': 'pumpkin'}).dessert).__name__ = 'PumpkinPie'\n"
     ]
    }
   ],
   "source": [
    "print(f\"{type(DeliciousMeal(dessert={'kind': 'pie', 'flavor': 'pumpkin'}).dessert).__name__ = }\")"
   ]
  },
  {
   "cell_type": "code",
   "execution_count": 19,
   "metadata": {},
   "outputs": [
    {
     "name": "stdout",
     "output_type": "stream",
     "text": [
      "type(DeliciousMeal(dessert={'kind': 'pie'}).dessert).__name__ = 'SuperPie'\n"
     ]
    }
   ],
   "source": [
    "print(f\"{type(DeliciousMeal(dessert={'kind': 'pie'}).dessert).__name__ = }\")"
   ]
  },
  {
   "cell_type": "code",
   "execution_count": 20,
   "metadata": {},
   "outputs": [
    {
     "name": "stdout",
     "output_type": "stream",
     "text": [
      "type(DeliciousMeal(dessert={'kind': 'cake'}).dessert).__name__ = 'Dessert'\n"
     ]
    }
   ],
   "source": [
    "print(f\"{type(DeliciousMeal(dessert={'kind': 'cake'}).dessert).__name__ = }\")"
   ]
  },
  {
   "cell_type": "code",
   "execution_count": null,
   "metadata": {},
   "outputs": [],
   "source": []
  }
 ],
 "metadata": {
  "kernelspec": {
   "display_name": "Python 3.9.6 ('valid-env': venv)",
   "language": "python",
   "name": "python3"
  },
  "language_info": {
   "codemirror_mode": {
    "name": "ipython",
    "version": 3
   },
   "file_extension": ".py",
   "mimetype": "text/x-python",
   "name": "python",
   "nbconvert_exporter": "python",
   "pygments_lexer": "ipython3",
   "version": "3.9.6"
  },
  "orig_nbformat": 4,
  "vscode": {
   "interpreter": {
    "hash": "c2258dd348c4db92d1fc23d9ac751564e58ace9e4e1a4507d6c5b14149e13659"
   }
  }
 },
 "nbformat": 4,
 "nbformat_minor": 2
}
