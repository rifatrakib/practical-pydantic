{
 "cells": [
  {
   "cell_type": "markdown",
   "metadata": {},
   "source": [
    "#### Booleans\n",
    "\n",
    "> ##### Warning\n",
    ">\n",
    "> The logic for parsing `bool` fields has changed as of version **v1.0**. Prior to **v1.0**, `bool` parsing never failed, leading to some unexpected results. The new logic is described below.\n",
    "\n",
    "A standard `bool` field will raise a `ValidationError` if the value is not one of the following:\n",
    "\n",
    "* A valid boolean (i.e. `True` or `False`),\n",
    "* The integers `0` or `1`,\n",
    "* a `str` which when converted to lower case is one of `\"0\", \"off\", \"f\", \"false\", \"n\", \"no\", \"1\", \"on\", \"t\", \"true\", \"y\", \"yes\"`\n",
    "* a `bytes` which is valid (per the previous rule) when decoded to `str`\n",
    "\n",
    "> ##### Note\n",
    ">\n",
    "> If you want stricter boolean logic (e.g. a field which only permits `True` and `False`) you can use `StrictBool`."
   ]
  },
  {
   "cell_type": "code",
   "execution_count": 1,
   "metadata": {},
   "outputs": [],
   "source": [
    "from pydantic import BaseModel, ValidationError"
   ]
  },
  {
   "cell_type": "code",
   "execution_count": 2,
   "metadata": {},
   "outputs": [],
   "source": [
    "class BooleanModel(BaseModel):\n",
    "    bool_value: bool"
   ]
  },
  {
   "cell_type": "code",
   "execution_count": 3,
   "metadata": {},
   "outputs": [
    {
     "name": "stdout",
     "output_type": "stream",
     "text": [
      "bool_value=False\n"
     ]
    }
   ],
   "source": [
    "print(BooleanModel(bool_value=False))"
   ]
  },
  {
   "cell_type": "code",
   "execution_count": 4,
   "metadata": {},
   "outputs": [
    {
     "name": "stdout",
     "output_type": "stream",
     "text": [
      "bool_value=False\n"
     ]
    }
   ],
   "source": [
    "print(BooleanModel(bool_value=\"False\"))"
   ]
  },
  {
   "cell_type": "code",
   "execution_count": 5,
   "metadata": {},
   "outputs": [
    {
     "name": "stdout",
     "output_type": "stream",
     "text": [
      "1 validation error for BooleanModel\n",
      "bool_value\n",
      "  value could not be parsed to a boolean (type=type_error.bool)\n"
     ]
    }
   ],
   "source": [
    "try:\n",
    "    m = BooleanModel(bool_value=[])\n",
    "    print(m)\n",
    "except ValidationError as e:\n",
    "    print(str(e))"
   ]
  },
  {
   "cell_type": "code",
   "execution_count": null,
   "metadata": {},
   "outputs": [],
   "source": []
  }
 ],
 "metadata": {
  "kernelspec": {
   "display_name": "Python 3.9.6 ('valid-env': venv)",
   "language": "python",
   "name": "python3"
  },
  "language_info": {
   "codemirror_mode": {
    "name": "ipython",
    "version": 3
   },
   "file_extension": ".py",
   "mimetype": "text/x-python",
   "name": "python",
   "nbconvert_exporter": "python",
   "pygments_lexer": "ipython3",
   "version": "3.9.6"
  },
  "orig_nbformat": 4,
  "vscode": {
   "interpreter": {
    "hash": "c2258dd348c4db92d1fc23d9ac751564e58ace9e4e1a4507d6c5b14149e13659"
   }
  }
 },
 "nbformat": 4,
 "nbformat_minor": 2
}
