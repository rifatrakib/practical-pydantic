{
 "cells": [
  {
   "cell_type": "markdown",
   "metadata": {},
   "source": [
    "#### Unions\n",
    "\n",
    "The `Union` type allows a model attribute to accept different types.\n",
    "\n",
    "> ##### Info\n",
    ">\n",
    "> You may get unexpected coercion with `Union`; see below. Know that you can also make the check slower but stricter by using `Smart Union`."
   ]
  },
  {
   "cell_type": "code",
   "execution_count": 1,
   "metadata": {},
   "outputs": [],
   "source": [
    "from uuid import UUID\n",
    "from typing import Literal, Union\n",
    "from typing_extensions import Annotated\n",
    "from pydantic import BaseModel, Field, ValidationError"
   ]
  },
  {
   "cell_type": "code",
   "execution_count": 2,
   "metadata": {},
   "outputs": [],
   "source": [
    "class User(BaseModel):\n",
    "    id: Union[int, str, UUID]\n",
    "    name: str"
   ]
  },
  {
   "cell_type": "code",
   "execution_count": 3,
   "metadata": {},
   "outputs": [
    {
     "name": "stdout",
     "output_type": "stream",
     "text": [
      "id=123 name='John Doe'\n"
     ]
    }
   ],
   "source": [
    "user_1 = User(id=123, name=\"John Doe\")\n",
    "print(user_1)"
   ]
  },
  {
   "cell_type": "code",
   "execution_count": 4,
   "metadata": {},
   "outputs": [
    {
     "name": "stdout",
     "output_type": "stream",
     "text": [
      "123\n"
     ]
    }
   ],
   "source": [
    "print(user_1.id)"
   ]
  },
  {
   "cell_type": "code",
   "execution_count": 5,
   "metadata": {},
   "outputs": [
    {
     "name": "stdout",
     "output_type": "stream",
     "text": [
      "id=1234 name='John Doe'\n"
     ]
    }
   ],
   "source": [
    "user_2 = User(id=\"1234\", name=\"John Doe\")\n",
    "print(user_2)"
   ]
  },
  {
   "cell_type": "code",
   "execution_count": 6,
   "metadata": {},
   "outputs": [
    {
     "name": "stdout",
     "output_type": "stream",
     "text": [
      "1234\n"
     ]
    }
   ],
   "source": [
    "print(user_2.id)"
   ]
  },
  {
   "cell_type": "code",
   "execution_count": 7,
   "metadata": {},
   "outputs": [
    {
     "name": "stdout",
     "output_type": "stream",
     "text": [
      "id=275603287559914445491632874575877060712 name='John Doe'\n"
     ]
    }
   ],
   "source": [
    "user_3_uuid = UUID(\"cf57432e-809e-4353-adbd-9d5c0d733868\")\n",
    "user_3 = User(id=user_3_uuid, name=\"John Doe\")\n",
    "print(user_3)"
   ]
  },
  {
   "cell_type": "code",
   "execution_count": 8,
   "metadata": {},
   "outputs": [
    {
     "name": "stdout",
     "output_type": "stream",
     "text": [
      "275603287559914445491632874575877060712\n"
     ]
    }
   ],
   "source": [
    "print(user_3.id)"
   ]
  },
  {
   "cell_type": "code",
   "execution_count": 9,
   "metadata": {},
   "outputs": [
    {
     "name": "stdout",
     "output_type": "stream",
     "text": [
      "275603287559914445491632874575877060712\n"
     ]
    }
   ],
   "source": [
    "print(user_3_uuid.int)"
   ]
  },
  {
   "cell_type": "markdown",
   "metadata": {},
   "source": [
    "However, as can be seen above, pydantic will attempt to 'match' any of the types defined under `Union` and will use the first one that matches. In the above example the `id` of `user_3` was defined as a `uuid.UUID` class (which is defined under the attribute's `Union` annotation) but as the `uuid.UUID` can be marshalled into an `int` it chose to match against the `int` type and disregarded the other types.\n",
    "\n",
    "> ##### Warning\n",
    ">\n",
    "> `typing.Union` also ignores order when defined, so `Union[int, float] == Union[float, int]` which can lead to unexpected behaviour when combined with matching based on the Union type order inside other type definitions, such as `List` and `Dict` types (because Python treats these definitions as singletons). For example, `Dict[str, Union[int, float]] == Dict[str, Union[float, int]]` with the order based on the first time it was defined. Please note that this can also be `affected by third party libraries` and their internal type definitions and the import orders.\n",
    "\n",
    "As such, it is recommended that, when defining `Union` annotations, the most specific type is included first and followed by less specific types. In the above example, the `UUID` class should precede the `int` and `str` classes to preclude the unexpected representation."
   ]
  },
  {
   "cell_type": "code",
   "execution_count": 10,
   "metadata": {},
   "outputs": [],
   "source": [
    "class RightUser(BaseModel):\n",
    "    id: Union[UUID, int, str]\n",
    "    name: str"
   ]
  },
  {
   "cell_type": "code",
   "execution_count": 11,
   "metadata": {},
   "outputs": [
    {
     "name": "stdout",
     "output_type": "stream",
     "text": [
      "id=UUID('cf57432e-809e-4353-adbd-9d5c0d733868') name='John Doe'\n"
     ]
    }
   ],
   "source": [
    "user_3_uuid = UUID(\"cf57432e-809e-4353-adbd-9d5c0d733868\")\n",
    "user_3 = RightUser(id=user_3_uuid, name=\"John Doe\")\n",
    "print(user_3)"
   ]
  },
  {
   "cell_type": "code",
   "execution_count": 12,
   "metadata": {},
   "outputs": [
    {
     "name": "stdout",
     "output_type": "stream",
     "text": [
      "cf57432e-809e-4353-adbd-9d5c0d733868\n"
     ]
    }
   ],
   "source": [
    "print(user_3.id)"
   ]
  },
  {
   "cell_type": "code",
   "execution_count": 13,
   "metadata": {},
   "outputs": [
    {
     "name": "stdout",
     "output_type": "stream",
     "text": [
      "275603287559914445491632874575877060712\n"
     ]
    }
   ],
   "source": [
    "print(user_3_uuid.int)"
   ]
  },
  {
   "cell_type": "markdown",
   "metadata": {},
   "source": [
    "> ##### Tip\n",
    ">\n",
    "> The type `Optional[x]` is a shorthand for `Union[x, None]`. `Optional[x]` can also be used to specify a required field that can take `None` as a value."
   ]
  },
  {
   "cell_type": "markdown",
   "metadata": {},
   "source": [
    "##### Discriminated Unions (a.k.a. Tagged Unions)\n",
    "\n",
    "When `Union` is used with multiple submodels, you sometimes know exactly which submodel needs to be checked and validated and want to enforce this. To do that you can set the same field - let's call it `my_discriminator` - in each of the submodels with a discriminated value, which is one (or many) `Literal` value(s). For your `Union`, you can set the discriminator in its value: `Field(discriminator='my_discriminator')`.\n",
    "\n",
    "Setting a discriminated union has many benefits:\n",
    "\n",
    "* validation is faster since it is only attempted against one model.\n",
    "\n",
    "* only one explicit error is raised in case of failure.\n",
    "\n",
    "* the generated JSON schema implements the `associated OpenAPI specification`."
   ]
  },
  {
   "cell_type": "code",
   "execution_count": 14,
   "metadata": {},
   "outputs": [],
   "source": [
    "class Cat(BaseModel):\n",
    "    pet_type: Literal[\"cat\"]\n",
    "    meows: int"
   ]
  },
  {
   "cell_type": "code",
   "execution_count": 15,
   "metadata": {},
   "outputs": [],
   "source": [
    "class Dog(BaseModel):\n",
    "    pet_type: Literal[\"dog\"]\n",
    "    barks: int"
   ]
  },
  {
   "cell_type": "code",
   "execution_count": 16,
   "metadata": {},
   "outputs": [],
   "source": [
    "class Lizard(BaseModel):\n",
    "    pet_type: Literal[\"reptile\", \"lizard\"]\n",
    "    scales: bool"
   ]
  },
  {
   "cell_type": "code",
   "execution_count": 17,
   "metadata": {},
   "outputs": [],
   "source": [
    "class Pet(BaseModel):\n",
    "    pet: Union[Cat, Dog, Lizard] = Field(..., discrimintor=\"pet_type\")\n",
    "    n: int"
   ]
  },
  {
   "cell_type": "code",
   "execution_count": 18,
   "metadata": {},
   "outputs": [
    {
     "name": "stdout",
     "output_type": "stream",
     "text": [
      "Pet(pet={'pet_type': 'dog', 'barks': 3.14}, n=1) = Pet(pet=Dog(pet_type='dog', barks=3), n=1)\n"
     ]
    }
   ],
   "source": [
    "print(f\"{Pet(pet={'pet_type': 'dog', 'barks': 3.14}, n=1) = }\")"
   ]
  },
  {
   "cell_type": "code",
   "execution_count": 19,
   "metadata": {},
   "outputs": [
    {
     "name": "stdout",
     "output_type": "stream",
     "text": [
      "5 validation errors for Pet\n",
      "pet -> pet_type\n",
      "  unexpected value; permitted: 'cat' (type=value_error.const; given=dog; permitted=('cat',))\n",
      "pet -> meows\n",
      "  field required (type=value_error.missing)\n",
      "pet -> barks\n",
      "  field required (type=value_error.missing)\n",
      "pet -> pet_type\n",
      "  unexpected value; permitted: 'reptile', 'lizard' (type=value_error.const; given=dog; permitted=('reptile', 'lizard'))\n",
      "pet -> scales\n",
      "  field required (type=value_error.missing)\n"
     ]
    }
   ],
   "source": [
    "try:\n",
    "    print(f\"{Pet(pet={'pet_type': 'dog'}, n=1) = }\")\n",
    "except ValidationError as e:\n",
    "    print(e)"
   ]
  },
  {
   "cell_type": "markdown",
   "metadata": {},
   "source": [
    "> ##### Note\n",
    ">\n",
    "> Using the `Annotated Fields syntax` can be handy to regroup the `Union` and `discriminator` information. See below for an example!\n",
    "\n",
    "> Warning\n",
    ">\n",
    "> Discriminated unions cannot be used with only a single variant, such as `Union[Cat]`. Python changes `Union[T]` into `T` at interpretation time, so it is not possible for pydantic to distinguish fields of `Union[T]` from `T`."
   ]
  },
  {
   "cell_type": "markdown",
   "metadata": {},
   "source": [
    "##### Nested Discriminated Unions\n",
    "\n",
    "Only one discriminator can be set for a field but sometimes you want to combine multiple discriminators. In this case you can always create \"intermediate\" models with `__root__` and add your discriminator."
   ]
  },
  {
   "cell_type": "code",
   "execution_count": 20,
   "metadata": {},
   "outputs": [],
   "source": [
    "class BlackCat(BaseModel):\n",
    "    pet_type: Literal[\"cat\"]\n",
    "    color: Literal[\"black\"]\n",
    "    black_name: str"
   ]
  },
  {
   "cell_type": "code",
   "execution_count": 21,
   "metadata": {},
   "outputs": [],
   "source": [
    "class WhiteCat(BaseModel):\n",
    "    pet_type: Literal[\"cat\"]\n",
    "    color: Literal[\"white\"]\n",
    "    white_name: str"
   ]
  },
  {
   "cell_type": "code",
   "execution_count": 22,
   "metadata": {},
   "outputs": [],
   "source": [
    "# # Can also be written with a custom root type\n",
    "# class ColoredCat(BaseModel):\n",
    "#     __root__: Annotated[Union[BlackCat, WhiteCat], Field(discriminator=\"color\")]\n",
    "ColoredCat = Annotated[Union[BlackCat, WhiteCat], Field(discriminator=\"color\")]"
   ]
  },
  {
   "cell_type": "code",
   "execution_count": 23,
   "metadata": {},
   "outputs": [],
   "source": [
    "UpgragedPet = Annotated[Union[ColoredCat, Dog], Field(discriminator=\"pet_type\")]"
   ]
  },
  {
   "cell_type": "code",
   "execution_count": 24,
   "metadata": {},
   "outputs": [],
   "source": [
    "class Model(BaseModel):\n",
    "    pet: UpgragedPet\n",
    "    n: int"
   ]
  },
  {
   "cell_type": "code",
   "execution_count": 25,
   "metadata": {},
   "outputs": [
    {
     "name": "stdout",
     "output_type": "stream",
     "text": [
      "pet=BlackCat(pet_type='cat', color='black', black_name='felix') n=1\n"
     ]
    }
   ],
   "source": [
    "m = Model(pet={\"pet_type\": \"cat\", \"color\": \"black\", \"black_name\": \"felix\"}, n=1)\n",
    "print(m)"
   ]
  },
  {
   "cell_type": "code",
   "execution_count": 26,
   "metadata": {},
   "outputs": [
    {
     "name": "stdout",
     "output_type": "stream",
     "text": [
      "1 validation error for Model\n",
      "pet -> Union[BlackCat, WhiteCat]\n",
      "  No match for discriminator 'color' and value 'red' (allowed values: 'black', 'white') (type=value_error.discriminated_union.invalid_discriminator; discriminator_key=color; discriminator_value=red; allowed_values='black', 'white')\n"
     ]
    }
   ],
   "source": [
    "try:\n",
    "    m = Model(pet={\"pet_type\": \"cat\", \"color\": \"red\"}, n=\"1\")\n",
    "    print(m)\n",
    "except ValidationError as e:\n",
    "    print(e)"
   ]
  },
  {
   "cell_type": "code",
   "execution_count": 27,
   "metadata": {},
   "outputs": [
    {
     "name": "stdout",
     "output_type": "stream",
     "text": [
      "1 validation error for Model\n",
      "pet -> Union[BlackCat, WhiteCat] -> BlackCat -> black_name\n",
      "  field required (type=value_error.missing)\n"
     ]
    }
   ],
   "source": [
    "try:\n",
    "    m = Model(pet={\"pet_type\": \"cat\", \"color\": \"black\"}, n=\"1\")\n",
    "    print(m)\n",
    "except ValidationError as e:\n",
    "    print(e)"
   ]
  },
  {
   "cell_type": "code",
   "execution_count": null,
   "metadata": {},
   "outputs": [],
   "source": []
  }
 ],
 "metadata": {
  "kernelspec": {
   "display_name": "Python 3.9.6 ('valid-env': venv)",
   "language": "python",
   "name": "python3"
  },
  "language_info": {
   "codemirror_mode": {
    "name": "ipython",
    "version": 3
   },
   "file_extension": ".py",
   "mimetype": "text/x-python",
   "name": "python",
   "nbconvert_exporter": "python",
   "pygments_lexer": "ipython3",
   "version": "3.9.6"
  },
  "orig_nbformat": 4,
  "vscode": {
   "interpreter": {
    "hash": "c2258dd348c4db92d1fc23d9ac751564e58ace9e4e1a4507d6c5b14149e13659"
   }
  }
 },
 "nbformat": 4,
 "nbformat_minor": 2
}
