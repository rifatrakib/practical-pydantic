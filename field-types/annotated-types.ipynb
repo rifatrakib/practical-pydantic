{
 "cells": [
  {
   "cell_type": "markdown",
   "metadata": {},
   "source": [
    "#### Annotated Types\n",
    "\n",
    "* `NamedTuple`"
   ]
  },
  {
   "cell_type": "code",
   "execution_count": 1,
   "metadata": {},
   "outputs": [],
   "source": [
    "from typing import NamedTuple\n",
    "from typing_extensions import TypedDict\n",
    "from pydantic import BaseModel, Extra, ValidationError"
   ]
  },
  {
   "cell_type": "code",
   "execution_count": 2,
   "metadata": {},
   "outputs": [],
   "source": [
    "class Point(NamedTuple):\n",
    "    x: int\n",
    "    y: int"
   ]
  },
  {
   "cell_type": "code",
   "execution_count": 3,
   "metadata": {},
   "outputs": [],
   "source": [
    "class PointModel(BaseModel):\n",
    "    p: Point"
   ]
  },
  {
   "cell_type": "code",
   "execution_count": 4,
   "metadata": {},
   "outputs": [
    {
     "name": "stdout",
     "output_type": "stream",
     "text": [
      "PointModel(p=('1', '2')) = PointModel(p=Point(x=1, y=2))\n"
     ]
    }
   ],
   "source": [
    "print(f\"{PointModel(p=('1', '2')) = }\")"
   ]
  },
  {
   "cell_type": "code",
   "execution_count": 5,
   "metadata": {},
   "outputs": [
    {
     "name": "stdout",
     "output_type": "stream",
     "text": [
      "1 validation error for PointModel\n",
      "p -> x\n",
      "  value is not a valid integer (type=type_error.integer)\n"
     ]
    }
   ],
   "source": [
    "try:\n",
    "    m = PointModel(p=('1.3', '2'))\n",
    "    print(m)\n",
    "except ValidationError as e:\n",
    "    print(e)"
   ]
  },
  {
   "cell_type": "markdown",
   "metadata": {},
   "source": [
    "* `TypedDict`\n",
    "\n",
    "> ##### Note\n",
    ">\n",
    "> This is a new feature of the Python standard library as of Python 3.8. Prior to Python 3.8, it requires the `typing-extensions` package. But required and optional fields are properly differentiated only since Python 3.9. We therefore recommend using `typing-extensions` with Python 3.8 as well."
   ]
  },
  {
   "cell_type": "code",
   "execution_count": 6,
   "metadata": {},
   "outputs": [],
   "source": [
    "# `total=False` means keys are non-required\n",
    "class UserIdentity(TypedDict, total=False):\n",
    "    name: str\n",
    "    surname: str"
   ]
  },
  {
   "cell_type": "code",
   "execution_count": 7,
   "metadata": {},
   "outputs": [],
   "source": [
    "class User(TypedDict):\n",
    "    identity: UserIdentity\n",
    "    age: int"
   ]
  },
  {
   "cell_type": "code",
   "execution_count": 8,
   "metadata": {},
   "outputs": [],
   "source": [
    "class UserModel(BaseModel):\n",
    "    u: User\n",
    "    \n",
    "    class Config:\n",
    "        extra = Extra.forbid"
   ]
  },
  {
   "cell_type": "code",
   "execution_count": 9,
   "metadata": {},
   "outputs": [
    {
     "name": "stdout",
     "output_type": "stream",
     "text": [
      "UserModel(u={'identity': {'name': 'Smith', 'surname': 'John'}, 'age': '37'}) = UserModel(u={'identity': {'name': 'Smith', 'surname': 'John'}, 'age': 37})\n"
     ]
    }
   ],
   "source": [
    "print(f\"{UserModel(u={'identity': {'name': 'Smith', 'surname': 'John'}, 'age': '37'}) = }\")"
   ]
  },
  {
   "cell_type": "code",
   "execution_count": 10,
   "metadata": {},
   "outputs": [
    {
     "name": "stdout",
     "output_type": "stream",
     "text": [
      "UserModel(u={'identity': {'name': None, 'surname': 'John'}, 'age': '37'}) = UserModel(u={'identity': {'name': None, 'surname': 'John'}, 'age': 37})\n"
     ]
    }
   ],
   "source": [
    "print(f\"{UserModel(u={'identity': {'name': None, 'surname': 'John'}, 'age': '37'}) = }\")"
   ]
  },
  {
   "cell_type": "code",
   "execution_count": 11,
   "metadata": {},
   "outputs": [
    {
     "name": "stdout",
     "output_type": "stream",
     "text": [
      "UserModel(u={'identity': {}, 'age': '37'}) = UserModel(u={'identity': {}, 'age': 37})\n"
     ]
    }
   ],
   "source": [
    "print(f\"{UserModel(u={'identity': {}, 'age': '37'}) = }\")"
   ]
  },
  {
   "cell_type": "code",
   "execution_count": 12,
   "metadata": {},
   "outputs": [
    {
     "name": "stdout",
     "output_type": "stream",
     "text": [
      "1 validation error for UserModel\n",
      "u -> identity -> name\n",
      "  str type expected (type=type_error.str)\n"
     ]
    }
   ],
   "source": [
    "try:\n",
    "    m = UserModel(u={\"identity\": {\"name\": [\"Smith\"], \"surname\": \"John\"}, \"age\": \"24\"})\n",
    "    print(m)\n",
    "except ValidationError as e:\n",
    "    print(e)"
   ]
  },
  {
   "cell_type": "code",
   "execution_count": 13,
   "metadata": {},
   "outputs": [
    {
     "name": "stdout",
     "output_type": "stream",
     "text": [
      "1 validation error for UserModel\n",
      "u -> email\n",
      "  extra fields not permitted (type=value_error.extra)\n"
     ]
    }
   ],
   "source": [
    "try:\n",
    "    m = UserModel(\n",
    "        u={\n",
    "            \"identity\": {\"name\": \"Smith\", \"surname\": \"John\"},\n",
    "            \"age\": \"37\",\n",
    "            \"email\": \"john.smith@me.com\",\n",
    "        }\n",
    "    )\n",
    "except ValidationError as e:\n",
    "    print(e)"
   ]
  },
  {
   "cell_type": "code",
   "execution_count": null,
   "metadata": {},
   "outputs": [],
   "source": []
  }
 ],
 "metadata": {
  "kernelspec": {
   "display_name": "Python 3.9.6 ('valid-env': venv)",
   "language": "python",
   "name": "python3"
  },
  "language_info": {
   "codemirror_mode": {
    "name": "ipython",
    "version": 3
   },
   "file_extension": ".py",
   "mimetype": "text/x-python",
   "name": "python",
   "nbconvert_exporter": "python",
   "pygments_lexer": "ipython3",
   "version": "3.9.6"
  },
  "orig_nbformat": 4,
  "vscode": {
   "interpreter": {
    "hash": "c2258dd348c4db92d1fc23d9ac751564e58ace9e4e1a4507d6c5b14149e13659"
   }
  }
 },
 "nbformat": 4,
 "nbformat_minor": 2
}
