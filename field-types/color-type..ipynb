{
 "cells": [
  {
   "cell_type": "markdown",
   "metadata": {},
   "source": [
    "#### Color Type\n",
    "\n",
    "You can use the `Color` data type for storing colors as per `CSS3 specification`. Colors can be defined via:\n",
    "\n",
    "* name (e.g. `\"Black\"`, `\"azure\"`)\n",
    "\n",
    "* hexadecimal value (e.g. `\"0x000\"`, `\"#FFFFFF\"`, `\"7fffd4\"`)\n",
    "\n",
    "* RGB/RGBA tuples (e.g. `(255, 255, 255)`, `(255, 255, 255, 0.5)`)\n",
    "\n",
    "* RGB/RGBA strings (e.g. `\"rgb(255, 255, 255)\"`, `\"rgba(255, 255, 255, 0.5)\"`)\n",
    "\n",
    "* HSL strings (e.g. `\"hsl(270, 60%, 70%)\"`, `\"hsl(270, 60%, 70%, .5)\"`)"
   ]
  },
  {
   "cell_type": "code",
   "execution_count": 1,
   "metadata": {},
   "outputs": [],
   "source": [
    "from pydantic import BaseModel, ValidationError\n",
    "from pydantic.color import Color"
   ]
  },
  {
   "cell_type": "code",
   "execution_count": 2,
   "metadata": {},
   "outputs": [],
   "source": [
    "class Model(BaseModel):\n",
    "    color: Color"
   ]
  },
  {
   "cell_type": "code",
   "execution_count": 3,
   "metadata": {},
   "outputs": [
    {
     "name": "stdout",
     "output_type": "stream",
     "text": [
      "c.as_named() = 'magenta'\n",
      "c.as_hex() = '#f0f'\n"
     ]
    }
   ],
   "source": [
    "c = Color(\"ff00ff\")\n",
    "print(f\"{c.as_named() = }\")\n",
    "print(f\"{c.as_hex() = }\")"
   ]
  },
  {
   "cell_type": "code",
   "execution_count": 4,
   "metadata": {},
   "outputs": [
    {
     "name": "stdout",
     "output_type": "stream",
     "text": [
      "c.as_rgb_tuple() = (0, 128, 0)\n",
      "c.original() = 'green'\n"
     ]
    }
   ],
   "source": [
    "c = Color(\"green\")\n",
    "print(f\"{c.as_rgb_tuple() = }\")\n",
    "print(f\"{c.original() = }\")"
   ]
  },
  {
   "cell_type": "code",
   "execution_count": 5,
   "metadata": {},
   "outputs": [
    {
     "name": "stdout",
     "output_type": "stream",
     "text": [
      "repr(Color('hsl(180, 100%, 50%)')) = \"Color('cyan', rgb=(0, 255, 255))\"\n"
     ]
    }
   ],
   "source": [
    "print(f\"{repr(Color('hsl(180, 100%, 50%)')) = }\")"
   ]
  },
  {
   "cell_type": "code",
   "execution_count": 6,
   "metadata": {},
   "outputs": [
    {
     "name": "stdout",
     "output_type": "stream",
     "text": [
      "Model(color='purple') = Model(color=Color('purple', rgb=(128, 0, 128)))\n"
     ]
    }
   ],
   "source": [
    "print(f\"{Model(color='purple') = }\")"
   ]
  },
  {
   "cell_type": "code",
   "execution_count": 7,
   "metadata": {},
   "outputs": [
    {
     "name": "stdout",
     "output_type": "stream",
     "text": [
      "1 validation error for Model\n",
      "color\n",
      "  value is not a valid color: string not recognised as a valid color (type=value_error.color; reason=string not recognised as a valid color)\n"
     ]
    }
   ],
   "source": [
    "try:\n",
    "    print(f\"{Model(color='hello') = }\")\n",
    "except ValidationError as e:\n",
    "    print(e)"
   ]
  },
  {
   "cell_type": "markdown",
   "metadata": {},
   "source": [
    "`Color` has the following methods:\n",
    "\n",
    "* `original`: the original string or tuple passed to `Color`.\n",
    "\n",
    "* `as_named`: returns a named CSS3 color; fails if the alpha channel is set or no such color exists unless `fallback=True` is supplied, in which case it falls back to `as_hex`.\n",
    "\n",
    "* `as_hex`: returns a string in the format `#fff` or `#ffffff`; will contain 4 (or 8) hex values if the alpha channel is set, e.g. `#7f33cc26`.\n",
    "\n",
    "* `as_rgb`: returns a string in the format `rgb(<red>, <green>, <blue>)`, or `rgba(<red>, <green>, <blue>, <alpha>)` if the alpha channel is set.\n",
    "\n",
    "* `as_rgb_tuple`: returns a 3- or 4-tuple in RGB(a) format. The `alpha` keyword argument can be used to define whether the alpha channel should be included; options: `True` - always include, `False` - never include, `None` (default) - include if set.\n",
    "\n",
    "* `as_hsl`: string in the format `hsl(<hue deg>, <saturation %>, <lightness %>)` or `hsl(<hue deg>, <saturation %>, <lightness %>, <alpha>)` if the alpha channel is set.\n",
    "\n",
    "* `as_hsl_tuple`: returns a 3- or 4-tuple in HSL(a) format. The `alpha` keyword argument can be used to define whether the alpha channel should be included; options: `True` - always include, `False` - never include, `None` (the default) - include if set.\n",
    "\n",
    "The `__str__` method for `Color` returns `self.as_named(fallback=True)`.\n",
    "\n",
    "> ##### Note\n",
    ">\n",
    "> the `as_hsl*` refer to hue, saturation, lightness \"HSL\" as used in html and most of the world, __not__ \"HLS\" as used in Python's `colorsys`."
   ]
  },
  {
   "cell_type": "code",
   "execution_count": null,
   "metadata": {},
   "outputs": [],
   "source": []
  }
 ],
 "metadata": {
  "kernelspec": {
   "display_name": "Python 3.9.6 ('valid-env': venv)",
   "language": "python",
   "name": "python3"
  },
  "language_info": {
   "codemirror_mode": {
    "name": "ipython",
    "version": 3
   },
   "file_extension": ".py",
   "mimetype": "text/x-python",
   "name": "python",
   "nbconvert_exporter": "python",
   "pygments_lexer": "ipython3",
   "version": "3.9.6"
  },
  "orig_nbformat": 4,
  "vscode": {
   "interpreter": {
    "hash": "c2258dd348c4db92d1fc23d9ac751564e58ace9e4e1a4507d6c5b14149e13659"
   }
  }
 },
 "nbformat": 4,
 "nbformat_minor": 2
}
