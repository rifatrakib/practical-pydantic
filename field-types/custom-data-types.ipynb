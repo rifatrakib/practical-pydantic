{
 "cells": [
  {
   "attachments": {},
   "cell_type": "markdown",
   "metadata": {},
   "source": [
    "#### Custom Data Types\n",
    "\n",
    "You can also define your own custom data types. There are several ways to achieve it."
   ]
  },
  {
   "attachments": {},
   "cell_type": "markdown",
   "metadata": {},
   "source": [
    "##### Classes with `__get_validators__`\n",
    "\n",
    "You use a custom class with a classmethod `__get_validators__`. It will be called to get validators to parse and validate the input data.\n",
    "\n",
    "> These validators have the same semantics as in `Validators`, you can declare a parameter `config`, `field`, etc."
   ]
  },
  {
   "cell_type": "code",
   "execution_count": 1,
   "metadata": {},
   "outputs": [],
   "source": [
    "import re\n",
    "from pydantic import BaseModel, ValidationError\n",
    "from pydantic.fields import ModelField\n",
    "from typing import TypeVar, Generic"
   ]
  },
  {
   "cell_type": "code",
   "execution_count": 2,
   "metadata": {},
   "outputs": [],
   "source": [
    "# https://en.wikipedia.org/wiki/Postcodes_in_the_United_Kingdom#Validation\n",
    "post_code_regex = re.compile(\n",
    "    r\"(?:\"\n",
    "    r\"([A-Z]{1,2}[0-9][A-Z0-9]?|ASCN|STHL|TDCU|BBND|[BFS]IQQ|PCRN|TKCA) ?\"\n",
    "    r\"([0-9][A-Z]{2})|\"\n",
    "    r\"(BFPO) ?([0-9]{1,4})|\"\n",
    "    r\"(KY[0-9]|MSR|VG|AI)[ -]?[0-9]{4}|\"\n",
    "    r\"([A-Z]{2}) ?([0-9]{2})|\"\n",
    "    r\"(GE) ?(CX)|\"\n",
    "    r\"(GIR) ?(0A{2})|\"\n",
    "    r\"(SAN) ?(TA1)\"\n",
    "    r\")\"\n",
    ")"
   ]
  },
  {
   "cell_type": "code",
   "execution_count": 3,
   "metadata": {},
   "outputs": [],
   "source": [
    "class PostCode(str):\n",
    "    \"\"\"\n",
    "    Partial UK postcode validation. Note: this is just an example, and is not\n",
    "    intended for use in production; in particular this does NOT guarantee\n",
    "    a postcode exists, just that it has a valid format.\n",
    "    \"\"\"\n",
    "    \n",
    "    @classmethod\n",
    "    def __get_validators__(cls):\n",
    "        # one or more validators may be yielded which will be called in the\n",
    "        # order to validate the input, each validator will receive as an input\n",
    "        # the value returned from the previous validator\n",
    "        yield cls.validate\n",
    "    \n",
    "    @classmethod\n",
    "    def validate(cls, v):\n",
    "        if not isinstance(v, str):\n",
    "            raise TypeError(\"string required\")\n",
    "        m = post_code_regex.fullmatch(v.upper())\n",
    "        if not m:\n",
    "            raise ValueError(\"invalid postcode format\")\n",
    "        # you could also return a string here which would mean model.post_code\n",
    "        # would be a string, pydantic won't care but you could end up with some\n",
    "        # confusion since the value's type won't match the type annotation\n",
    "        # exactly\n",
    "        return cls(f\"{m.group(1)} {m.group(2)}\")\n",
    "    \n",
    "    def __repr__(self):\n",
    "        return f\"PostCode({super().__repr__()})\""
   ]
  },
  {
   "cell_type": "code",
   "execution_count": 4,
   "metadata": {},
   "outputs": [],
   "source": [
    "class Model(BaseModel):\n",
    "    post_code: PostCode"
   ]
  },
  {
   "cell_type": "code",
   "execution_count": 5,
   "metadata": {},
   "outputs": [
    {
     "name": "stdout",
     "output_type": "stream",
     "text": [
      "model = Model(post_code=PostCode('SW8 5EL'))\n",
      "model.post_code = PostCode('SW8 5EL')\n"
     ]
    }
   ],
   "source": [
    "model = Model(post_code=\"sw8 5el\")\n",
    "print(f\"{model = }\")\n",
    "print(f\"{model.post_code = }\")"
   ]
  },
  {
   "cell_type": "code",
   "execution_count": 6,
   "metadata": {},
   "outputs": [
    {
     "name": "stdout",
     "output_type": "stream",
     "text": [
      "Model.schema() = {'title': 'Model', 'type': 'object', 'properties': {'post_code': {'title': 'Post Code', 'type': 'string'}}, 'required': ['post_code']}\n"
     ]
    }
   ],
   "source": [
    "print(f\"{Model.schema() = }\")"
   ]
  },
  {
   "attachments": {},
   "cell_type": "markdown",
   "metadata": {},
   "source": [
    "Similar validation could be achieved using `constr(regex=...)` except the value won't be formatted with a space, the schema would just include the full pattern and the returned value would be a vanilla string."
   ]
  },
  {
   "attachments": {},
   "cell_type": "markdown",
   "metadata": {},
   "source": [
    "##### Arbitrary Types Allowed\n",
    "\n",
    "You can allow arbitrary types using the `arbitrary_types_allowed` config in the `Model Config`."
   ]
  },
  {
   "cell_type": "code",
   "execution_count": 7,
   "metadata": {},
   "outputs": [],
   "source": [
    "class Pet:\n",
    "    def __init__(self, name: str):\n",
    "        self.name = name"
   ]
  },
  {
   "cell_type": "code",
   "execution_count": 8,
   "metadata": {},
   "outputs": [],
   "source": [
    "class PetOwner(BaseModel):\n",
    "    pet: Pet\n",
    "    owner: str\n",
    "    \n",
    "    class Config:\n",
    "        arbitrary_types_allowed = True"
   ]
  },
  {
   "cell_type": "code",
   "execution_count": 9,
   "metadata": {},
   "outputs": [
    {
     "name": "stdout",
     "output_type": "stream",
     "text": [
      "m = PetOwner(pet=<__main__.Pet object at 0x000001E72F222FD0>, owner='Harry')\n",
      "m.pet = <__main__.Pet object at 0x000001E72F222FD0>\n",
      "m.pet.name = 'Hedwig'\n",
      "type(m.pet) = <class '__main__.Pet'>\n"
     ]
    }
   ],
   "source": [
    "pet = Pet(name=\"Hedwig\")\n",
    "m = PetOwner(owner=\"Harry\", pet=pet)\n",
    "print(f\"{m = }\")\n",
    "print(f\"{m.pet = }\")\n",
    "print(f\"{m.pet.name = }\")\n",
    "print(f\"{type(m.pet) = }\")"
   ]
  },
  {
   "cell_type": "code",
   "execution_count": 10,
   "metadata": {},
   "outputs": [
    {
     "name": "stdout",
     "output_type": "stream",
     "text": [
      "1 validation error for PetOwner\n",
      "pet\n",
      "  instance of Pet expected (type=type_error.arbitrary_type; expected_arbitrary_type=Pet)\n"
     ]
    }
   ],
   "source": [
    "try:\n",
    "    m = PetOwner(owner=\"Harry\", pet=\"Hedwig\")\n",
    "    print(m)\n",
    "except ValidationError as e:\n",
    "    print(e)"
   ]
  },
  {
   "cell_type": "code",
   "execution_count": 11,
   "metadata": {},
   "outputs": [
    {
     "name": "stdout",
     "output_type": "stream",
     "text": [
      "m = PetOwner(pet=<__main__.Pet object at 0x000001E72F24CA30>, owner='Harry')\n",
      "m.pet = <__main__.Pet object at 0x000001E72F24CA30>\n",
      "m.pet.name = 42\n",
      "type(m.pet) = <class '__main__.Pet'>\n"
     ]
    }
   ],
   "source": [
    "pet = Pet(name=42)\n",
    "m = PetOwner(owner=\"Harry\", pet=pet)\n",
    "print(f\"{m = }\")\n",
    "print(f\"{m.pet = }\")\n",
    "print(f\"{m.pet.name = }\")\n",
    "print(f\"{type(m.pet) = }\")"
   ]
  },
  {
   "attachments": {},
   "cell_type": "markdown",
   "metadata": {},
   "source": [
    "##### Generic Classes as Types\n",
    "\n",
    "> ##### Warning\n",
    ">\n",
    "> This is an advanced technique that you might not need in the beginning. In most of the cases you will probably be fine with standard _pydantic_ models.\n",
    "\n",
    "You can use `Generic Classes` as field types and perform custom validation based on the \"type parameters\" (or sub-types) with `__get_validators__`.\n",
    "\n",
    "If the Generic class that you are using as a sub-type has a classmethod `__get_validators__` you don't need to use `arbitrary_types_allowed` for it to work.\n",
    "\n",
    "Because you can declare validators that receive the current `field`, you can extract the `sub_fields` (from the generic class type parameters) and validate data with them."
   ]
  },
  {
   "cell_type": "code",
   "execution_count": 12,
   "metadata": {},
   "outputs": [],
   "source": [
    "AgedType = TypeVar(\"AgedType\")\n",
    "QualityType = TypeVar(\"QualityType\")"
   ]
  },
  {
   "cell_type": "code",
   "execution_count": 13,
   "metadata": {},
   "outputs": [],
   "source": [
    "class TastingModel(Generic[AgedType, QualityType]):\n",
    "    def __init__(self, name: str, aged: AgedType, quality: QualityType):\n",
    "        self.name = name\n",
    "        self.aged = aged\n",
    "        self.quality = quality\n",
    "    \n",
    "    @classmethod\n",
    "    def __get_validators__(cls):\n",
    "        yield cls.validate\n",
    "    \n",
    "    @classmethod\n",
    "    def validate(cls, v, field: ModelField):\n",
    "        if not isinstance(v, cls):\n",
    "            raise TypeError(\"invalid value\")\n",
    "        if not field.sub_fields:\n",
    "            return v\n",
    "        \n",
    "        aged_f = field.sub_fields[0]\n",
    "        quality_f = field.sub_fields[1]\n",
    "        errors = []\n",
    "        \n",
    "        valid_value, error = aged_f.validate(v.aged, {}, loc=\"aged\")\n",
    "        if error:\n",
    "            errors.append(error)\n",
    "        \n",
    "        valid_value, error = quality_f.validate(v.quality, {}, loc=\"quality\")\n",
    "        if error:\n",
    "            errors.append(error)\n",
    "        \n",
    "        if errors:\n",
    "            raise ValidationError(errors, cls)\n",
    "        return v"
   ]
  },
  {
   "cell_type": "code",
   "execution_count": 14,
   "metadata": {},
   "outputs": [],
   "source": [
    "class Tasting(BaseModel):\n",
    "    # for wine, \"aged\" is an int with years, \"quality\" is a float\n",
    "    wine: TastingModel[int, float]\n",
    "    # for cheese, \"aged\" is a bool, \"quality\" is a str\n",
    "    cheese: TastingModel[bool, str]\n",
    "    # for thing, \"aged\" is a Any, \"quality\" is Any\n",
    "    thing: TastingModel"
   ]
  },
  {
   "cell_type": "code",
   "execution_count": 15,
   "metadata": {},
   "outputs": [],
   "source": [
    "model = Tasting(\n",
    "    # This wine was aged for 20 years and has a quality of 85.6\n",
    "    wine=TastingModel(name=\"Cabernet Sauvignon\", aged=20, quality=85.6),\n",
    "    # This cheese is aged (is mature) and has \"Good\" quality\n",
    "    cheese=TastingModel(name=\"Gouda\", aged=True, quality=\"Good\"),\n",
    "    # This Python thing has aged \"Not much\" and has a quality \"Awesome\"\n",
    "    thing=TastingModel(name=\"Python\", aged=\"Not much\", quality=\"Awesome\"),\n",
    ")"
   ]
  },
  {
   "cell_type": "code",
   "execution_count": 16,
   "metadata": {},
   "outputs": [
    {
     "name": "stdout",
     "output_type": "stream",
     "text": [
      "model = Tasting(wine=<__main__.TastingModel object at 0x000001E72F5CB550>, cheese=<__main__.TastingModel object at 0x000001E72F5CB640>, thing=<__main__.TastingModel object at 0x000001E72F5C09A0>)\n",
      "model.wine.aged = 20\n",
      "model.wine.quality = 85.6\n",
      "model.cheese.aged = True\n",
      "model.cheese.quality = 'Good'\n",
      "model.thing.aged = 'Not much'\n"
     ]
    }
   ],
   "source": [
    "print(f\"{model = }\")\n",
    "print(f\"{model.wine.aged = }\")\n",
    "print(f\"{model.wine.quality = }\")\n",
    "print(f\"{model.cheese.aged = }\")\n",
    "print(f\"{model.cheese.quality = }\")\n",
    "print(f\"{model.thing.aged = }\")"
   ]
  },
  {
   "cell_type": "code",
   "execution_count": 17,
   "metadata": {},
   "outputs": [
    {
     "name": "stdout",
     "output_type": "stream",
     "text": [
      "2 validation errors for Tasting\n",
      "wine -> quality\n",
      "  value is not a valid float (type=type_error.float)\n",
      "cheese -> aged\n",
      "  value could not be parsed to a boolean (type=type_error.bool)\n"
     ]
    }
   ],
   "source": [
    "try:\n",
    "    m = Tasting(\n",
    "        # For wine, aged should be an int with the years, and quality a float\n",
    "        wine=TastingModel(name=\"Merlot\", aged=True, quality=\"Kinda good\"),\n",
    "        # For cheese, aged should be a bool, and quality a str\n",
    "        cheese=TastingModel(name=\"Gouda\", aged=\"yeah\", quality=5),\n",
    "        # For thing, no type parameters are declared, and we skipped validation\n",
    "        # in those cases in the Assessment.validate() function\n",
    "        thing=TastingModel(name=\"Python\", aged=\"Not much\", quality=\"Awesome\"),\n",
    "    )\n",
    "except ValidationError as e:\n",
    "    print(e)"
   ]
  },
  {
   "cell_type": "code",
   "execution_count": null,
   "metadata": {},
   "outputs": [],
   "source": []
  }
 ],
 "metadata": {
  "kernelspec": {
   "display_name": "valid-env",
   "language": "python",
   "name": "python3"
  },
  "language_info": {
   "codemirror_mode": {
    "name": "ipython",
    "version": 3
   },
   "file_extension": ".py",
   "mimetype": "text/x-python",
   "name": "python",
   "nbconvert_exporter": "python",
   "pygments_lexer": "ipython3",
   "version": "3.9.6"
  },
  "orig_nbformat": 4,
  "vscode": {
   "interpreter": {
    "hash": "c2258dd348c4db92d1fc23d9ac751564e58ace9e4e1a4507d6c5b14149e13659"
   }
  }
 },
 "nbformat": 4,
 "nbformat_minor": 2
}
