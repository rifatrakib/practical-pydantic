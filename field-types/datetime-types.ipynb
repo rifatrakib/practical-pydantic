{
 "cells": [
  {
   "cell_type": "markdown",
   "metadata": {},
   "source": [
    "#### Datetime Types\n",
    "\n",
    "*Pydantic* supports the following `datetime` types:\n",
    "\n",
    "* `datetime` fields can be:\n",
    "\n",
    "  * `datetime`, existing `datetime` object\n",
    "  * `int` or `float`, assumed as Unix time, i.e. seconds (if >= `-2e10` or <= `2e10`) or milliseconds (if < `-2e10`or > `2e10`) since 1 January 1970\n",
    "  * `str`, following formats work:\n",
    "\n",
    "    * `YYYY-MM-DD[T]HH:MM[:SS[.ffffff]][Z or [±]HH[:]MM]]]`\n",
    "    * `int` or `float` as a string (assumed as Unix time)\n",
    "\n",
    "* `date` fields can be:\n",
    "\n",
    "  * `date`, existing `date` object\n",
    "  * `int` or `float`, see `datetime`\n",
    "  * `str`, following formats work:\n",
    "\n",
    "    * `YYYY-MM-DD`\n",
    "    * `int` or `float`, see `datetime`\n",
    "\n",
    "* `time` fields can be:\n",
    "\n",
    "  * `time`, existing `time` object\n",
    "  * `str`, following formats work:\n",
    "\n",
    "    * `HH:MM[:SS[.ffffff]][Z or [±]HH[:]MM]]]`\n",
    "\n",
    "* `timedelta` fields can be:\n",
    "\n",
    "  * `timedelta`, existing `timedelta` object\n",
    "  * `int` or `float`, assumed as seconds\n",
    "  * `str`, following formats work:\n",
    "\n",
    "    * `[-][DD ][HH:MM]SS[.ffffff]`\n",
    "    * `[±]P[DD]DT[HH]H[MM]M[SS]S` (ISO 8601)"
   ]
  },
  {
   "cell_type": "code",
   "execution_count": 1,
   "metadata": {},
   "outputs": [],
   "source": [
    "from datetime import date, datetime, time, timedelta\n",
    "from pydantic import BaseModel"
   ]
  },
  {
   "cell_type": "code",
   "execution_count": 2,
   "metadata": {},
   "outputs": [],
   "source": [
    "class Model(BaseModel):\n",
    "    date_field: date = None\n",
    "    datetime_field: datetime = None\n",
    "    time_field: time = None\n",
    "    timedelta_field: timedelta = None"
   ]
  },
  {
   "cell_type": "code",
   "execution_count": 3,
   "metadata": {},
   "outputs": [
    {
     "name": "stdout",
     "output_type": "stream",
     "text": [
      "{'date_field': datetime.date(2032, 4, 22), 'datetime_field': datetime.datetime(2032, 4, 23, 10, 20, 30, 400000, tzinfo=datetime.timezone(datetime.timedelta(seconds=9000))), 'time_field': datetime.time(4, 8, 16), 'timedelta_field': datetime.timedelta(days=3, seconds=45005)}\n"
     ]
    }
   ],
   "source": [
    "m = Model(\n",
    "    date_field=1966280412345.6789,\n",
    "    datetime_field=\"2032-04-23T10:20:30.400+02:30\",\n",
    "    time_field=time(4, 8, 16),\n",
    "    timedelta_field=\"P3DT12H30M5S\",\n",
    ")\n",
    "print(m.dict())"
   ]
  },
  {
   "cell_type": "code",
   "execution_count": null,
   "metadata": {},
   "outputs": [],
   "source": []
  }
 ],
 "metadata": {
  "kernelspec": {
   "display_name": "Python 3.9.6 ('valid-env': venv)",
   "language": "python",
   "name": "python3"
  },
  "language_info": {
   "codemirror_mode": {
    "name": "ipython",
    "version": 3
   },
   "file_extension": ".py",
   "mimetype": "text/x-python",
   "name": "python",
   "nbconvert_exporter": "python",
   "pygments_lexer": "ipython3",
   "version": "3.9.6"
  },
  "orig_nbformat": 4,
  "vscode": {
   "interpreter": {
    "hash": "c2258dd348c4db92d1fc23d9ac751564e58ace9e4e1a4507d6c5b14149e13659"
   }
  }
 },
 "nbformat": 4,
 "nbformat_minor": 2
}
