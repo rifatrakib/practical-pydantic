{
 "cells": [
  {
   "attachments": {},
   "cell_type": "markdown",
   "metadata": {},
   "source": [
    "#### Json Type\n",
    "\n",
    "You can use `Json` data type to make pydantic first load a raw JSON string. It can also optionally be used to parse the loaded object into another type base on the type `Json` is parameterised with."
   ]
  },
  {
   "cell_type": "code",
   "execution_count": 1,
   "metadata": {},
   "outputs": [],
   "source": [
    "from typing import Any, List\n",
    "from pydantic import BaseModel, Json, ValidationError"
   ]
  },
  {
   "cell_type": "code",
   "execution_count": 2,
   "metadata": {},
   "outputs": [],
   "source": [
    "class AnyJsonModel(BaseModel):\n",
    "    json_obj: Json[Any]"
   ]
  },
  {
   "cell_type": "code",
   "execution_count": 3,
   "metadata": {},
   "outputs": [],
   "source": [
    "class ConstrainedJsonModel(BaseModel):\n",
    "    json_obj: Json[List[int]]"
   ]
  },
  {
   "cell_type": "code",
   "execution_count": 4,
   "metadata": {},
   "outputs": [
    {
     "name": "stdout",
     "output_type": "stream",
     "text": [
      "m = AnyJsonModel(json_obj={'b': 1})\n",
      "n = ConstrainedJsonModel(json_obj=[1, 2, 3])\n"
     ]
    }
   ],
   "source": [
    "m = AnyJsonModel(json_obj='{\"b\": 1}')\n",
    "print(f\"{m = }\")\n",
    "\n",
    "n = ConstrainedJsonModel(json_obj=\"[1, 2, 3]\")\n",
    "print(f\"{n = }\")"
   ]
  },
  {
   "cell_type": "code",
   "execution_count": 5,
   "metadata": {},
   "outputs": [
    {
     "name": "stdout",
     "output_type": "stream",
     "text": [
      "1 validation error for ConstrainedJsonModel\n",
      "json_obj\n",
      "  JSON object must be str, bytes or bytearray (type=type_error.json)\n"
     ]
    }
   ],
   "source": [
    "try:\n",
    "    m = ConstrainedJsonModel(json_obj=12)\n",
    "except ValidationError as e:\n",
    "    print(e)"
   ]
  },
  {
   "cell_type": "code",
   "execution_count": 6,
   "metadata": {},
   "outputs": [
    {
     "name": "stdout",
     "output_type": "stream",
     "text": [
      "1 validation error for ConstrainedJsonModel\n",
      "json_obj\n",
      "  Invalid JSON (type=value_error.json)\n"
     ]
    }
   ],
   "source": [
    "try:\n",
    "    ConstrainedJsonModel(json_obj=\"[a, b]\")\n",
    "except ValidationError as e:\n",
    "    print(e)"
   ]
  },
  {
   "cell_type": "code",
   "execution_count": 7,
   "metadata": {},
   "outputs": [
    {
     "name": "stdout",
     "output_type": "stream",
     "text": [
      "2 validation errors for ConstrainedJsonModel\n",
      "json_obj -> 0\n",
      "  value is not a valid integer (type=type_error.integer)\n",
      "json_obj -> 1\n",
      "  value is not a valid integer (type=type_error.integer)\n"
     ]
    }
   ],
   "source": [
    "try:\n",
    "    ConstrainedJsonModel(json_obj='[\"a\", \"b\"]')\n",
    "except ValidationError as e:\n",
    "    print(e)"
   ]
  },
  {
   "cell_type": "code",
   "execution_count": null,
   "metadata": {},
   "outputs": [],
   "source": []
  }
 ],
 "metadata": {
  "kernelspec": {
   "display_name": "Python 3.9.6 ('valid-env': venv)",
   "language": "python",
   "name": "python3"
  },
  "language_info": {
   "codemirror_mode": {
    "name": "ipython",
    "version": 3
   },
   "file_extension": ".py",
   "mimetype": "text/x-python",
   "name": "python",
   "nbconvert_exporter": "python",
   "pygments_lexer": "ipython3",
   "version": "3.9.6"
  },
  "orig_nbformat": 4,
  "vscode": {
   "interpreter": {
    "hash": "c2258dd348c4db92d1fc23d9ac751564e58ace9e4e1a4507d6c5b14149e13659"
   }
  }
 },
 "nbformat": 4,
 "nbformat_minor": 2
}
