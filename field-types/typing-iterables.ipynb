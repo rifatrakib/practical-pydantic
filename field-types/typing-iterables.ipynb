{
 "cells": [
  {
   "cell_type": "markdown",
   "metadata": {},
   "source": [
    "#### Typing Iterables\n",
    "\n",
    "_pydantic_ uses standard library `typing` types as defined in PEP 484 to define complex objects."
   ]
  },
  {
   "cell_type": "code",
   "execution_count": 1,
   "metadata": {},
   "outputs": [],
   "source": [
    "from typing import (\n",
    "    Deque, Dict, FrozenSet, List, Optional, Sequence, Set, Tuple, Union,\n",
    ")\n",
    "from pydantic import BaseModel"
   ]
  },
  {
   "cell_type": "code",
   "execution_count": 2,
   "metadata": {},
   "outputs": [],
   "source": [
    "class Model(BaseModel):\n",
    "    simple_list: list = None\n",
    "    list_of_ints: List[int] = None\n",
    "    \n",
    "    simple_tuple: tuple = None\n",
    "    tuple_of_different_types: Tuple[int, float, str, bool] = None\n",
    "    \n",
    "    simple_dict: dict = None\n",
    "    dict_str_float: Dict[str, float] = None\n",
    "    \n",
    "    simple_set: set = None\n",
    "    set_bytes: Set[bytes] = None\n",
    "    frozen_set: FrozenSet[int] = None\n",
    "    \n",
    "    str_or_bytes: Union[str, bytes] = None\n",
    "    none_or_str: Optional[str] = None\n",
    "    \n",
    "    sequence_of_ints: Sequence[int] = None\n",
    "    \n",
    "    compound: Dict[Union[str, bytes], List[Set[int]]] = None\n",
    "    \n",
    "    deque: Deque[int] = None"
   ]
  },
  {
   "cell_type": "code",
   "execution_count": 3,
   "metadata": {},
   "outputs": [
    {
     "name": "stdout",
     "output_type": "stream",
     "text": [
      "Model(simple_list=['1', '2', '3']).simple_list = ['1', '2', '3']\n"
     ]
    }
   ],
   "source": [
    "print(f\"{Model(simple_list=['1', '2', '3']).simple_list = }\")"
   ]
  },
  {
   "cell_type": "code",
   "execution_count": 4,
   "metadata": {},
   "outputs": [
    {
     "name": "stdout",
     "output_type": "stream",
     "text": [
      "Model(list_of_ints=['1', '2', '3']).list_of_ints = [1, 2, 3]\n"
     ]
    }
   ],
   "source": [
    "print(f\"{Model(list_of_ints=['1', '2', '3']).list_of_ints = }\")"
   ]
  },
  {
   "cell_type": "code",
   "execution_count": 5,
   "metadata": {},
   "outputs": [
    {
     "name": "stdout",
     "output_type": "stream",
     "text": [
      "Model(simple_dict={'a': 1, b'b': 2}).simple_dict = {'a': 1, b'b': 2}\n"
     ]
    }
   ],
   "source": [
    "print(f\"{Model(simple_dict={'a': 1, b'b': 2}).simple_dict = }\")"
   ]
  },
  {
   "cell_type": "code",
   "execution_count": 6,
   "metadata": {},
   "outputs": [
    {
     "name": "stdout",
     "output_type": "stream",
     "text": [
      "Model(dict_str_float={'a': 1, b'b': 2}).dict_str_float = {'a': 1.0, 'b': 2.0}\n"
     ]
    }
   ],
   "source": [
    "print(f\"{Model(dict_str_float={'a': 1, b'b': 2}).dict_str_float = }\")"
   ]
  },
  {
   "cell_type": "code",
   "execution_count": 7,
   "metadata": {},
   "outputs": [
    {
     "name": "stdout",
     "output_type": "stream",
     "text": [
      "Model(simple_tuple=[1, 2, 3, 4]).simple_tuple = (1, 2, 3, 4)\n"
     ]
    }
   ],
   "source": [
    "print(f\"{Model(simple_tuple=[1, 2, 3, 4]).simple_tuple = }\")"
   ]
  },
  {
   "cell_type": "code",
   "execution_count": 8,
   "metadata": {},
   "outputs": [
    {
     "name": "stdout",
     "output_type": "stream",
     "text": [
      "Model(tuple_of_different_types=[4, 3, 2, 1]).tuple_of_different_types = (4, 3.0, '2', True)\n"
     ]
    }
   ],
   "source": [
    "print(f\"{Model(tuple_of_different_types=[4, 3, 2, 1]).tuple_of_different_types = }\")"
   ]
  },
  {
   "cell_type": "code",
   "execution_count": 9,
   "metadata": {},
   "outputs": [
    {
     "name": "stdout",
     "output_type": "stream",
     "text": [
      "Model(sequence_of_ints=[1, 2, 3, 4]).sequence_of_ints = [1, 2, 3, 4]\n"
     ]
    }
   ],
   "source": [
    "print(f\"{Model(sequence_of_ints=[1, 2, 3, 4]).sequence_of_ints = }\")"
   ]
  },
  {
   "cell_type": "code",
   "execution_count": 10,
   "metadata": {},
   "outputs": [
    {
     "name": "stdout",
     "output_type": "stream",
     "text": [
      "Model(sequence_of_ints=(1, 2, 3, 4)).sequence_of_ints = (1, 2, 3, 4)\n"
     ]
    }
   ],
   "source": [
    "print(f\"{Model(sequence_of_ints=(1, 2, 3, 4)).sequence_of_ints = }\")"
   ]
  },
  {
   "cell_type": "code",
   "execution_count": 11,
   "metadata": {},
   "outputs": [
    {
     "name": "stdout",
     "output_type": "stream",
     "text": [
      "Model(deque=[1, 2, 3]).deque = deque([1, 2, 3])\n"
     ]
    }
   ],
   "source": [
    "print(f\"{Model(deque=[1, 2, 3]).deque = }\")"
   ]
  },
  {
   "cell_type": "code",
   "execution_count": null,
   "metadata": {},
   "outputs": [],
   "source": []
  }
 ],
 "metadata": {
  "kernelspec": {
   "display_name": "Python 3.9.6 ('valid-env': venv)",
   "language": "python",
   "name": "python3"
  },
  "language_info": {
   "codemirror_mode": {
    "name": "ipython",
    "version": 3
   },
   "file_extension": ".py",
   "mimetype": "text/x-python",
   "name": "python",
   "nbconvert_exporter": "python",
   "pygments_lexer": "ipython3",
   "version": "3.9.6"
  },
  "orig_nbformat": 4,
  "vscode": {
   "interpreter": {
    "hash": "c2258dd348c4db92d1fc23d9ac751564e58ace9e4e1a4507d6c5b14149e13659"
   }
  }
 },
 "nbformat": 4,
 "nbformat_minor": 2
}
