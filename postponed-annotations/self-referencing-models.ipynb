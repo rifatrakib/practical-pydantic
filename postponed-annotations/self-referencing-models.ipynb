{
 "cells": [
  {
   "attachments": {},
   "cell_type": "markdown",
   "metadata": {},
   "source": [
    "#### Self-referencing Models\n",
    "\n",
    "Data structures with self-referencing models are also supported. Self-referencing fields will be automatically resolved after model creation.\n",
    "\n",
    "Within the model, you can refer to the not-yet-constructed model using a string:"
   ]
  },
  {
   "cell_type": "code",
   "execution_count": 1,
   "metadata": {},
   "outputs": [],
   "source": [
    "from __future__ import annotations\n",
    "from pydantic import BaseModel"
   ]
  },
  {
   "cell_type": "code",
   "execution_count": 2,
   "metadata": {},
   "outputs": [],
   "source": [
    "class Foo(BaseModel):\n",
    "    a: int = 123\n",
    "    #: The sibling of `Foo` is referenced by string\n",
    "    sibling: \"Foo\" = None"
   ]
  },
  {
   "cell_type": "code",
   "execution_count": 3,
   "metadata": {},
   "outputs": [
    {
     "name": "stdout",
     "output_type": "stream",
     "text": [
      "a=123 sibling=None\n"
     ]
    }
   ],
   "source": [
    "print(Foo())"
   ]
  },
  {
   "cell_type": "code",
   "execution_count": 4,
   "metadata": {},
   "outputs": [
    {
     "name": "stdout",
     "output_type": "stream",
     "text": [
      "a=123 sibling=Foo(a=321, sibling=None)\n"
     ]
    }
   ],
   "source": [
    "print(Foo(sibling={\"a\": \"321\"}))"
   ]
  },
  {
   "attachments": {},
   "cell_type": "markdown",
   "metadata": {},
   "source": [
    "Since Python 3.7, you can also refer it by its type, provided you import `annotations` (see above for support depending on Python and pydantic versions)."
   ]
  },
  {
   "cell_type": "code",
   "execution_count": 5,
   "metadata": {},
   "outputs": [],
   "source": [
    "class FooModern(BaseModel):\n",
    "    a: int = 123\n",
    "    #: The sibling of `FooModern` is referenced directly by type\n",
    "    sibling: FooModern = None"
   ]
  },
  {
   "cell_type": "code",
   "execution_count": 6,
   "metadata": {},
   "outputs": [
    {
     "name": "stdout",
     "output_type": "stream",
     "text": [
      "a=123 sibling=None\n"
     ]
    }
   ],
   "source": [
    "print(FooModern())"
   ]
  },
  {
   "cell_type": "code",
   "execution_count": 7,
   "metadata": {},
   "outputs": [
    {
     "name": "stdout",
     "output_type": "stream",
     "text": [
      "a=123 sibling=FooModern(a=321, sibling=None)\n"
     ]
    }
   ],
   "source": [
    "print(FooModern(sibling={\"a\": \"321\"}))"
   ]
  },
  {
   "cell_type": "code",
   "execution_count": null,
   "metadata": {},
   "outputs": [],
   "source": []
  }
 ],
 "metadata": {
  "kernelspec": {
   "display_name": "valid-env",
   "language": "python",
   "name": "python3"
  },
  "language_info": {
   "codemirror_mode": {
    "name": "ipython",
    "version": 3
   },
   "file_extension": ".py",
   "mimetype": "text/x-python",
   "name": "python",
   "nbconvert_exporter": "python",
   "pygments_lexer": "ipython3",
   "version": "3.9.6"
  },
  "orig_nbformat": 4,
  "vscode": {
   "interpreter": {
    "hash": "c2258dd348c4db92d1fc23d9ac751564e58ace9e4e1a4507d6c5b14149e13659"
   }
  }
 },
 "nbformat": 4,
 "nbformat_minor": 2
}
