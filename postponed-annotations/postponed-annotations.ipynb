{
 "cells": [
  {
   "attachments": {},
   "cell_type": "markdown",
   "metadata": {},
   "source": [
    "#### Postponed annotations\n",
    "\n",
    "> Both postponed annotations via the future import and `ForwardRef` require Python 3.7+.\n",
    "\n",
    "Postponed annotations (as described in `PEP563`) \"just work\"."
   ]
  },
  {
   "cell_type": "code",
   "execution_count": 1,
   "metadata": {},
   "outputs": [],
   "source": [
    "from __future__ import annotations\n",
    "from typing import Any, List, ForwardRef\n",
    "from pydantic import BaseModel, HttpUrl\n",
    "from pydantic.errors import ConfigError"
   ]
  },
  {
   "cell_type": "code",
   "execution_count": 2,
   "metadata": {},
   "outputs": [],
   "source": [
    "class Model(BaseModel):\n",
    "    a: List[int]\n",
    "    b: Any"
   ]
  },
  {
   "cell_type": "code",
   "execution_count": 3,
   "metadata": {},
   "outputs": [
    {
     "name": "stdout",
     "output_type": "stream",
     "text": [
      "a=[1, 2, 3] b='ok'\n"
     ]
    }
   ],
   "source": [
    "print(Model(a=(\"1\", 2, 3), b=\"ok\"))"
   ]
  },
  {
   "attachments": {},
   "cell_type": "markdown",
   "metadata": {},
   "source": [
    "Internally, pydantic will call a method similar to `typing.get_type_hints` to resolve annotations.\n",
    "\n",
    "In cases where the referenced type is not yet defined, `ForwardRef` can be used (although referencing the type directly or by its string is a simpler solution in the case of `self-referencing models`).\n",
    "\n",
    "In some cases, a `ForwardRef` won't be able to be resolved during model creation. For example, this happens whenever a model references itself as a field type. When this happens, you'll need to call `update_forward_refs` after the model has been created before it can be used:"
   ]
  },
  {
   "cell_type": "code",
   "execution_count": 4,
   "metadata": {},
   "outputs": [],
   "source": [
    "Foo = ForwardRef(\"Foo\")"
   ]
  },
  {
   "cell_type": "code",
   "execution_count": 5,
   "metadata": {},
   "outputs": [],
   "source": [
    "class Foo(BaseModel):\n",
    "    a: int = 123\n",
    "    b: Foo = None"
   ]
  },
  {
   "cell_type": "code",
   "execution_count": 6,
   "metadata": {},
   "outputs": [],
   "source": [
    "Foo.update_forward_refs()"
   ]
  },
  {
   "cell_type": "code",
   "execution_count": 7,
   "metadata": {},
   "outputs": [
    {
     "name": "stdout",
     "output_type": "stream",
     "text": [
      "a=123 b=None\n"
     ]
    }
   ],
   "source": [
    "print(Foo())"
   ]
  },
  {
   "cell_type": "code",
   "execution_count": 8,
   "metadata": {},
   "outputs": [
    {
     "name": "stdout",
     "output_type": "stream",
     "text": [
      "a=123 b=Foo(a=321, b=None)\n"
     ]
    }
   ],
   "source": [
    "print(Foo(b={\"a\": \"321\"}))"
   ]
  },
  {
   "attachments": {},
   "cell_type": "markdown",
   "metadata": {},
   "source": [
    "> To resolve strings (type names) into annotations (types), pydantic needs a namespace dict in which to perform the lookup. For this it uses `module.__dict__`, just like `get_type_hints`. This means pydantic may not play well with types not defined in the global scope of a module.\n",
    "\n",
    "For example, this works fine:"
   ]
  },
  {
   "cell_type": "code",
   "execution_count": 9,
   "metadata": {},
   "outputs": [],
   "source": [
    "def this_works():\n",
    "    class Model(BaseModel):\n",
    "        a: HttpUrl\n",
    "\n",
    "    print(Model(a=\"https://example.com\"))"
   ]
  },
  {
   "cell_type": "code",
   "execution_count": 10,
   "metadata": {},
   "outputs": [
    {
     "name": "stdout",
     "output_type": "stream",
     "text": [
      "a=HttpUrl('https://example.com', )\n"
     ]
    }
   ],
   "source": [
    "this_works()"
   ]
  },
  {
   "attachments": {},
   "cell_type": "markdown",
   "metadata": {},
   "source": [
    "While this will break:"
   ]
  },
  {
   "cell_type": "code",
   "execution_count": 11,
   "metadata": {},
   "outputs": [],
   "source": [
    "def this_is_broken():\n",
    "    from pydantic import HttpUrl  # HttpUrl is defined in function local scope\n",
    "\n",
    "    class Model(BaseModel):\n",
    "        a: HttpUrl\n",
    "\n",
    "    try:\n",
    "        Model(a=\"https://example.com\")\n",
    "    except ConfigError as e:\n",
    "        print(e)\n",
    "\n",
    "    try:\n",
    "        Model.update_forward_refs()\n",
    "    except NameError as e:\n",
    "        print(e)"
   ]
  },
  {
   "cell_type": "code",
   "execution_count": 12,
   "metadata": {},
   "outputs": [],
   "source": [
    "this_is_broken()"
   ]
  },
  {
   "attachments": {},
   "cell_type": "markdown",
   "metadata": {},
   "source": [
    "Resolving this is beyond the call for pydantic: either remove the future import or declare the types globally."
   ]
  },
  {
   "cell_type": "code",
   "execution_count": null,
   "metadata": {},
   "outputs": [],
   "source": []
  }
 ],
 "metadata": {
  "kernelspec": {
   "display_name": "valid-env",
   "language": "python",
   "name": "python3"
  },
  "language_info": {
   "codemirror_mode": {
    "name": "ipython",
    "version": 3
   },
   "file_extension": ".py",
   "mimetype": "text/x-python",
   "name": "python",
   "nbconvert_exporter": "python",
   "pygments_lexer": "ipython3",
   "version": "3.9.6"
  },
  "orig_nbformat": 4,
  "vscode": {
   "interpreter": {
    "hash": "c2258dd348c4db92d1fc23d9ac751564e58ace9e4e1a4507d6c5b14149e13659"
   }
  }
 },
 "nbformat": 4,
 "nbformat_minor": 2
}
